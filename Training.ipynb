{
 "cells": [
  {
   "cell_type": "code",
   "execution_count": 112,
   "metadata": {},
   "outputs": [
    {
     "name": "stdout",
     "output_type": "stream",
     "text": [
      "c:\\Users\\emanu\\Analysis-on-Churn-Banking-Modeling-Dataset\\.venv\\Scripts\\python.exe\n"
     ]
    }
   ],
   "source": [
    "import pandas as pd\n",
    "import xgboost as xgb\n",
    "from sklearn.model_selection import train_test_split, StratifiedKFold\n",
    "from sklearn.metrics import roc_curve, roc_auc_score\n",
    "import matplotlib.pyplot as plt\n",
    "import catboost as cb\n",
    "import lightgbm as lgb\n",
    "import optuna\n",
    "from imblearn.under_sampling import RandomUnderSampler\n",
    "import optuna.visualization as vis\n",
    "import numpy as np\n",
    "import warnings\n",
    "warnings.filterwarnings(\"ignore\")\n",
    "import sys\n",
    "print(sys.executable)\n"
   ]
  },
  {
   "cell_type": "code",
   "execution_count": 113,
   "metadata": {},
   "outputs": [],
   "source": [
    "df = pd.read_csv(r\"Churn_Banking_Modeling.csv\")"
   ]
  },
  {
   "cell_type": "code",
   "execution_count": 114,
   "metadata": {},
   "outputs": [],
   "source": [
    "X = df.drop('Flag_Richiesta_Estinzione_cc', axis=1)\n",
    "y = df['Flag_Richiesta_Estinzione_cc'].map({'no': 0, 'si': 1})  # Converte in 0 e 1"
   ]
  },
  {
   "cell_type": "code",
   "execution_count": 115,
   "metadata": {},
   "outputs": [],
   "source": [
    "def clean_feature_names(df):\n",
    "    df.columns = [col.replace(' ', '_').replace('[', '').replace(']', '').replace('<', '') for col in df.columns]\n",
    "    return df"
   ]
  },
  {
   "cell_type": "code",
   "execution_count": 164,
   "metadata": {},
   "outputs": [],
   "source": [
    "X_train, X_test, y_train, y_test = train_test_split(X, y, test_size=0.2, random_state=42, stratify=y)\n",
    "\n",
    "# Applica l'undersampling solo al set di training\n",
    "rus = RandomUnderSampler(sampling_strategy=0.03)  # mantiene una proporzione di 1:4 tra le classi minoritarie e maggioritarie\n",
    "X_train_res, y_train_res = rus.fit_resample(X_train, y_train)\n",
    "X_train_res = pd.get_dummies(X_train_res)\n",
    "X_test = pd.get_dummies(X_test)\n",
    "\n",
    "X_train_res = clean_feature_names(X_train_res)\n",
    "X_test = clean_feature_names(X_test)\n",
    "\n",
    "X_train_res, X_test = X_train_res.align(X_test, join='inner', axis=1)\n"
   ]
  },
  {
   "cell_type": "markdown",
   "metadata": {},
   "source": [
    "LightGBM : Tuning hyperparametri"
   ]
  },
  {
   "cell_type": "code",
   "execution_count": 162,
   "metadata": {},
   "outputs": [
    {
     "name": "stderr",
     "output_type": "stream",
     "text": [
      "[I 2024-04-18 23:18:44,026] A new study created in memory with name: no-name-0826bac6-d2e7-4346-97ba-f9dc5bea78b8\n",
      "[I 2024-04-18 23:19:06,731] Trial 0 finished with value: 0.9899586767618015 and parameters: {'n_estimators': 175, 'learning_rate': 0.1540359659501924, 'max_depth': 13, 'num_leaves': 4912, 'min_child_samples': 16, 'subsample': 0.8311989040672406, 'subsample_freq': 0, 'colsample_bytree': 0.9464704583099741, 'reg_alpha': 0.6011150117432088, 'reg_lambda': 0.7080725777960455, 'max_bin': 202}. Best is trial 0 with value: 0.9899586767618015.\n",
      "[I 2024-04-18 23:19:19,901] Trial 1 finished with value: 0.9906087679304664 and parameters: {'n_estimators': 294, 'learning_rate': 0.0823143373099555, 'max_depth': 7, 'num_leaves': 39, 'min_child_samples': 17, 'subsample': 0.8608484485919076, 'subsample_freq': 4, 'colsample_bytree': 0.7727780074568463, 'reg_alpha': 0.2912291401980419, 'reg_lambda': 0.6118528947223795, 'max_bin': 214}. Best is trial 1 with value: 0.9906087679304664.\n",
      "[I 2024-04-18 23:19:33,797] Trial 2 finished with value: 0.9859104368727717 and parameters: {'n_estimators': 158, 'learning_rate': 0.006966418981413735, 'max_depth': 10, 'num_leaves': 809, 'min_child_samples': 18, 'subsample': 0.9028468876827224, 'subsample_freq': 4, 'colsample_bytree': 0.6185801650879991, 'reg_alpha': 0.6075448519014384, 'reg_lambda': 0.17052412368729153, 'max_bin': 206}. Best is trial 1 with value: 0.9906087679304664.\n",
      "[I 2024-04-18 23:19:57,282] Trial 3 finished with value: 0.9906432602201736 and parameters: {'n_estimators': 290, 'learning_rate': 0.16670486450654684, 'max_depth': 13, 'num_leaves': 2509, 'min_child_samples': 14, 'subsample': 0.9368466053024314, 'subsample_freq': 3, 'colsample_bytree': 0.6488152939379115, 'reg_alpha': 0.4951769101112702, 'reg_lambda': 0.034388521115218396, 'max_bin': 291}. Best is trial 3 with value: 0.9906432602201736.\n",
      "[I 2024-04-18 23:20:06,900] Trial 4 finished with value: 0.9892501636914078 and parameters: {'n_estimators': 152, 'learning_rate': 0.03345674213696821, 'max_depth': 8, 'num_leaves': 143, 'min_child_samples': 32, 'subsample': 0.8369708911051055, 'subsample_freq': 7, 'colsample_bytree': 0.9100531293444458, 'reg_alpha': 0.9394989415641891, 'reg_lambda': 0.8948273504276488, 'max_bin': 260}. Best is trial 3 with value: 0.9906432602201736.\n",
      "[I 2024-04-18 23:20:19,707] Trial 5 finished with value: 0.9848299931651461 and parameters: {'n_estimators': 285, 'learning_rate': 0.0015981734133214873, 'max_depth': 7, 'num_leaves': 24, 'min_child_samples': 23, 'subsample': 0.8777354579378964, 'subsample_freq': 2, 'colsample_bytree': 0.9314950036607718, 'reg_alpha': 0.3567533266935893, 'reg_lambda': 0.28093450968738076, 'max_bin': 254}. Best is trial 3 with value: 0.9906432602201736.\n",
      "[I 2024-04-18 23:20:26,295] Trial 6 finished with value: 0.9905232425834326 and parameters: {'n_estimators': 128, 'learning_rate': 0.07012604000905365, 'max_depth': 5, 'num_leaves': 32, 'min_child_samples': 41, 'subsample': 0.8397431363068345, 'subsample_freq': 0, 'colsample_bytree': 0.9261845713819337, 'reg_alpha': 0.7068573438476171, 'reg_lambda': 0.7290071680409873, 'max_bin': 277}. Best is trial 3 with value: 0.9906432602201736.\n",
      "[I 2024-04-18 23:20:32,956] Trial 7 finished with value: 0.9854730774898661 and parameters: {'n_estimators': 114, 'learning_rate': 0.006680983417211186, 'max_depth': 6, 'num_leaves': 58, 'min_child_samples': 35, 'subsample': 0.8661796049705299, 'subsample_freq': 0, 'colsample_bytree': 0.7243929286862649, 'reg_alpha': 0.32518332202674705, 'reg_lambda': 0.7296061783380641, 'max_bin': 264}. Best is trial 3 with value: 0.9906432602201736.\n",
      "[I 2024-04-18 23:20:44,372] Trial 8 finished with value: 0.9885845491638111 and parameters: {'n_estimators': 278, 'learning_rate': 0.012206206339370173, 'max_depth': 6, 'num_leaves': 52, 'min_child_samples': 41, 'subsample': 0.9122554395138993, 'subsample_freq': 6, 'colsample_bytree': 0.7975182385457563, 'reg_alpha': 0.5227328293819941, 'reg_lambda': 0.42754101835854963, 'max_bin': 202}. Best is trial 3 with value: 0.9906432602201736.\n",
      "[I 2024-04-18 23:20:56,516] Trial 9 finished with value: 0.9840018889841728 and parameters: {'n_estimators': 121, 'learning_rate': 0.0011811892859183053, 'max_depth': 12, 'num_leaves': 1301, 'min_child_samples': 30, 'subsample': 0.9815132947852186, 'subsample_freq': 1, 'colsample_bytree': 0.7641531692142519, 'reg_alpha': 0.7555511385430487, 'reg_lambda': 0.22879816549162246, 'max_bin': 207}. Best is trial 3 with value: 0.9906432602201736.\n",
      "[I 2024-04-18 23:24:44,441] Trial 10 finished with value: 0.990592660765771 and parameters: {'n_estimators': 232, 'learning_rate': 0.03705226374549954, 'max_depth': 15, 'num_leaves': 28527, 'min_child_samples': 10, 'subsample': 0.9575685191307414, 'subsample_freq': 3, 'colsample_bytree': 0.6044644095703446, 'reg_alpha': 0.09696877974827967, 'reg_lambda': 0.012311169564937496, 'max_bin': 300}. Best is trial 3 with value: 0.9906432602201736.\n",
      "[I 2024-04-18 23:25:02,535] Trial 11 finished with value: 0.9896855452520452 and parameters: {'n_estimators': 240, 'learning_rate': 0.1727836841924209, 'max_depth': 9, 'num_leaves': 311, 'min_child_samples': 10, 'subsample': 0.9378635258468903, 'subsample_freq': 4, 'colsample_bytree': 0.6942016653161562, 'reg_alpha': 0.2207895950115486, 'reg_lambda': 0.5056897534884434, 'max_bin': 232}. Best is trial 3 with value: 0.9906432602201736.\n",
      "[I 2024-04-18 23:25:33,696] Trial 12 finished with value: 0.9900528245967901 and parameters: {'n_estimators': 299, 'learning_rate': 0.07302691346545277, 'max_depth': 12, 'num_leaves': 2661, 'min_child_samples': 23, 'subsample': 0.9992033063494871, 'subsample_freq': 5, 'colsample_bytree': 0.8396697432469871, 'reg_alpha': 0.022412942300710892, 'reg_lambda': 0.48997608672634213, 'max_bin': 230}. Best is trial 3 with value: 0.9906432602201736.\n",
      "[I 2024-04-18 23:26:24,086] Trial 13 finished with value: 0.9900834810833029 and parameters: {'n_estimators': 243, 'learning_rate': 0.19710771982607653, 'max_depth': 15, 'num_leaves': 9804, 'min_child_samples': 49, 'subsample': 0.8727960964331258, 'subsample_freq': 3, 'colsample_bytree': 0.6769439514353582, 'reg_alpha': 0.3339884091604406, 'reg_lambda': 0.6025298802359166, 'max_bin': 299}. Best is trial 3 with value: 0.9906432602201736.\n",
      "[I 2024-04-18 23:26:47,004] Trial 14 finished with value: 0.9905413097559272 and parameters: {'n_estimators': 264, 'learning_rate': 0.055551435522849836, 'max_depth': 11, 'num_leaves': 1077, 'min_child_samples': 18, 'subsample': 0.9280855716953249, 'subsample_freq': 5, 'colsample_bytree': 0.8676939778143802, 'reg_alpha': 0.4213947821297641, 'reg_lambda': 0.9772664655950782, 'max_bin': 232}. Best is trial 3 with value: 0.9906432602201736.\n",
      "[I 2024-04-18 23:27:02,276] Trial 15 finished with value: 0.9907167600295145 and parameters: {'n_estimators': 209, 'learning_rate': 0.09999942469097375, 'max_depth': 9, 'num_leaves': 255, 'min_child_samples': 24, 'subsample': 0.8059290295824934, 'subsample_freq': 2, 'colsample_bytree': 0.6594137531838515, 'reg_alpha': 0.21328333563112234, 'reg_lambda': 0.004967741092172719, 'max_bin': 280}. Best is trial 15 with value: 0.9907167600295145.\n",
      "[I 2024-04-18 23:27:26,969] Trial 16 finished with value: 0.9895783987372955 and parameters: {'n_estimators': 201, 'learning_rate': 0.022293110195105006, 'max_depth': 13, 'num_leaves': 2638, 'min_child_samples': 26, 'subsample': 0.8063637789425023, 'subsample_freq': 2, 'colsample_bytree': 0.6539561758699982, 'reg_alpha': 0.1833053558140757, 'reg_lambda': 0.000390266363826032, 'max_bin': 282}. Best is trial 15 with value: 0.9907167600295145.\n",
      "[I 2024-04-18 23:27:46,706] Trial 17 finished with value: 0.9894481047354141 and parameters: {'n_estimators': 204, 'learning_rate': 0.10533629058696119, 'max_depth': 10, 'num_leaves': 350, 'min_child_samples': 13, 'subsample': 0.8024511835587035, 'subsample_freq': 2, 'colsample_bytree': 0.9965108784574399, 'reg_alpha': 0.48992125446617124, 'reg_lambda': 0.1254428368098464, 'max_bin': 284}. Best is trial 15 with value: 0.9907167600295145.\n",
      "[I 2024-04-18 23:28:24,640] Trial 18 finished with value: 0.9905848678808951 and parameters: {'n_estimators': 218, 'learning_rate': 0.02583581746703754, 'max_depth': 14, 'num_leaves': 6801, 'min_child_samples': 23, 'subsample': 0.9576587534894431, 'subsample_freq': 1, 'colsample_bytree': 0.7274970383984627, 'reg_alpha': 0.9418155853064935, 'reg_lambda': 0.34978829279646656, 'max_bin': 272}. Best is trial 15 with value: 0.9907167600295145.\n",
      "[I 2024-04-18 23:28:49,466] Trial 19 finished with value: 0.9873376080515941 and parameters: {'n_estimators': 255, 'learning_rate': 0.002376033910540403, 'max_depth': 11, 'num_leaves': 559, 'min_child_samples': 27, 'subsample': 0.8853815964251525, 'subsample_freq': 3, 'colsample_bytree': 0.6448811739004122, 'reg_alpha': 0.13740306729154583, 'reg_lambda': 0.0703681077720224, 'max_bin': 289}. Best is trial 15 with value: 0.9907167600295145.\n",
      "[I 2024-04-18 23:29:02,132] Trial 20 finished with value: 0.9907314222203153 and parameters: {'n_estimators': 179, 'learning_rate': 0.11337183004591952, 'max_depth': 9, 'num_leaves': 203, 'min_child_samples': 20, 'subsample': 0.9249014768078826, 'subsample_freq': 1, 'colsample_bytree': 0.7145219312296173, 'reg_alpha': 0.8336672016689826, 'reg_lambda': 0.14621486123623179, 'max_bin': 246}. Best is trial 20 with value: 0.9907314222203153.\n",
      "[I 2024-04-18 23:29:15,114] Trial 21 finished with value: 0.9907124560051594 and parameters: {'n_estimators': 182, 'learning_rate': 0.11516312669275681, 'max_depth': 9, 'num_leaves': 225, 'min_child_samples': 21, 'subsample': 0.9400217938028025, 'subsample_freq': 1, 'colsample_bytree': 0.704025516223687, 'reg_alpha': 0.8597022329559757, 'reg_lambda': 0.11680839062494335, 'max_bin': 241}. Best is trial 20 with value: 0.9907314222203153.\n",
      "[I 2024-04-18 23:29:27,972] Trial 22 finished with value: 0.9905588611527281 and parameters: {'n_estimators': 181, 'learning_rate': 0.11575685026970811, 'max_depth': 9, 'num_leaves': 229, 'min_child_samples': 22, 'subsample': 0.9142090750083698, 'subsample_freq': 1, 'colsample_bytree': 0.7206604302749544, 'reg_alpha': 0.8291885190386507, 'reg_lambda': 0.1875017412054502, 'max_bin': 242}. Best is trial 20 with value: 0.9907314222203153.\n",
      "[I 2024-04-18 23:29:40,373] Trial 23 finished with value: 0.9906815274792689 and parameters: {'n_estimators': 181, 'learning_rate': 0.04011126104282352, 'max_depth': 9, 'num_leaves': 211, 'min_child_samples': 21, 'subsample': 0.961396622812844, 'subsample_freq': 1, 'colsample_bytree': 0.69243390435132, 'reg_alpha': 0.8394469327543829, 'reg_lambda': 0.28673442942005567, 'max_bin': 243}. Best is trial 20 with value: 0.9907314222203153.\n",
      "[I 2024-04-18 23:29:50,398] Trial 24 finished with value: 0.9908873030280881 and parameters: {'n_estimators': 147, 'learning_rate': 0.05328014803833269, 'max_depth': 8, 'num_leaves': 199, 'min_child_samples': 27, 'subsample': 0.9212682172938867, 'subsample_freq': 2, 'colsample_bytree': 0.7547222900188124, 'reg_alpha': 0.9852077475702733, 'reg_lambda': 0.10951470930950571, 'max_bin': 245}. Best is trial 24 with value: 0.9908873030280881.\n",
      "[I 2024-04-18 23:30:00,077] Trial 25 finished with value: 0.9902845825158126 and parameters: {'n_estimators': 142, 'learning_rate': 0.052308678662391875, 'max_depth': 8, 'num_leaves': 180, 'min_child_samples': 27, 'subsample': 0.8959231215140515, 'subsample_freq': 2, 'colsample_bytree': 0.7543114886986491, 'reg_alpha': 0.6893874076008039, 'reg_lambda': 0.095916666680813, 'max_bin': 222}. Best is trial 24 with value: 0.9908873030280881.\n",
      "[I 2024-04-18 23:30:08,489] Trial 26 finished with value: 0.9885282889130995 and parameters: {'n_estimators': 100, 'learning_rate': 0.018904964847391098, 'max_depth': 8, 'num_leaves': 186, 'min_child_samples': 34, 'subsample': 0.9196812684533249, 'subsample_freq': 2, 'colsample_bytree': 0.7512249331716522, 'reg_alpha': 0.9512757747688687, 'reg_lambda': 0.31520767804083455, 'max_bin': 251}. Best is trial 24 with value: 0.9908873030280881.\n",
      "[I 2024-04-18 23:30:18,845] Trial 27 finished with value: 0.988044548560128 and parameters: {'n_estimators': 162, 'learning_rate': 0.013271503652644734, 'max_depth': 7, 'num_leaves': 88, 'min_child_samples': 29, 'subsample': 0.8959723669465227, 'subsample_freq': 2, 'colsample_bytree': 0.8131061461917298, 'reg_alpha': 0.998496687549421, 'reg_lambda': 0.21021440165556673, 'max_bin': 266}. Best is trial 24 with value: 0.9908873030280881.\n",
      "[I 2024-04-18 23:30:34,131] Trial 28 finished with value: 0.9911171476691599 and parameters: {'n_estimators': 218, 'learning_rate': 0.05378372759202083, 'max_depth': 11, 'num_leaves': 551, 'min_child_samples': 39, 'subsample': 0.849046887210901, 'subsample_freq': 0, 'colsample_bytree': 0.6704661733934032, 'reg_alpha': 0.7754234250117369, 'reg_lambda': 0.3887312125000591, 'max_bin': 258}. Best is trial 28 with value: 0.9911171476691599.\n",
      "[I 2024-04-18 23:30:50,005] Trial 29 finished with value: 0.9910412213608453 and parameters: {'n_estimators': 220, 'learning_rate': 0.05091391541796409, 'max_depth': 11, 'num_leaves': 474, 'min_child_samples': 38, 'subsample': 0.8487029108957544, 'subsample_freq': 0, 'colsample_bytree': 0.8010135282692321, 'reg_alpha': 0.7652006646681645, 'reg_lambda': 0.36447283391348584, 'max_bin': 257}. Best is trial 28 with value: 0.9911171476691599.\n",
      "[I 2024-04-18 23:31:06,337] Trial 30 finished with value: 0.9883411287876644 and parameters: {'n_estimators': 222, 'learning_rate': 0.007225710207859426, 'max_depth': 11, 'num_leaves': 498, 'min_child_samples': 39, 'subsample': 0.8517515219569933, 'subsample_freq': 0, 'colsample_bytree': 0.8656296357932337, 'reg_alpha': 0.6387218424595917, 'reg_lambda': 0.4018212198540198, 'max_bin': 256}. Best is trial 28 with value: 0.9911171476691599.\n",
      "[I 2024-04-18 23:31:18,458] Trial 31 finished with value: 0.9903888702154002 and parameters: {'n_estimators': 142, 'learning_rate': 0.051068370667499086, 'max_depth': 12, 'num_leaves': 1553, 'min_child_samples': 48, 'subsample': 0.8234036145355752, 'subsample_freq': 0, 'colsample_bytree': 0.7850348729023939, 'reg_alpha': 0.7942822781338149, 'reg_lambda': 0.38843700828640604, 'max_bin': 247}. Best is trial 28 with value: 0.9911171476691599.\n",
      "[I 2024-04-18 23:31:30,987] Trial 32 finished with value: 0.9917332615039692 and parameters: {'n_estimators': 171, 'learning_rate': 0.06813071256453435, 'max_depth': 10, 'num_leaves': 492, 'min_child_samples': 46, 'subsample': 0.8516532776378336, 'subsample_freq': 0, 'colsample_bytree': 0.818859256230843, 'reg_alpha': 0.8934597065778148, 'reg_lambda': 0.5099305406959089, 'max_bin': 269}. Best is trial 32 with value: 0.9917332615039692.\n",
      "[I 2024-04-18 23:31:43,736] Trial 33 finished with value: 0.9912551809972816 and parameters: {'n_estimators': 190, 'learning_rate': 0.029620675931811852, 'max_depth': 10, 'num_leaves': 444, 'min_child_samples': 45, 'subsample': 0.8549593043884222, 'subsample_freq': 0, 'colsample_bytree': 0.8213477682781425, 'reg_alpha': 0.9110787990498974, 'reg_lambda': 0.5943915461699191, 'max_bin': 270}. Best is trial 32 with value: 0.9917332615039692.\n",
      "[I 2024-04-18 23:31:55,835] Trial 34 finished with value: 0.9906308046728457 and parameters: {'n_estimators': 167, 'learning_rate': 0.02813305756522984, 'max_depth': 10, 'num_leaves': 473, 'min_child_samples': 46, 'subsample': 0.8545649753234943, 'subsample_freq': 0, 'colsample_bytree': 0.827298649192533, 'reg_alpha': 0.745166611805441, 'reg_lambda': 0.609118316224049, 'max_bin': 271}. Best is trial 32 with value: 0.9917332615039692.\n",
      "[I 2024-04-18 23:32:10,486] Trial 35 finished with value: 0.9894116080012237 and parameters: {'n_estimators': 192, 'learning_rate': 0.018171324666262357, 'max_depth': 11, 'num_leaves': 702, 'min_child_samples': 45, 'subsample': 0.8225395307005212, 'subsample_freq': 0, 'colsample_bytree': 0.8668742978181008, 'reg_alpha': 0.8985447327885409, 'reg_lambda': 0.5484016287514009, 'max_bin': 261}. Best is trial 32 with value: 0.9917332615039692.\n",
      "[I 2024-04-18 23:32:23,314] Trial 36 finished with value: 0.9906869000139847 and parameters: {'n_estimators': 191, 'learning_rate': 0.03815305895627766, 'max_depth': 10, 'num_leaves': 423, 'min_child_samples': 38, 'subsample': 0.8432051002421093, 'subsample_freq': 0, 'colsample_bytree': 0.8523849073887868, 'reg_alpha': 0.8960568047063548, 'reg_lambda': 0.4596894043462894, 'max_bin': 272}. Best is trial 32 with value: 0.9917332615039692.\n",
      "[I 2024-04-18 23:32:37,688] Trial 37 finished with value: 0.9906877219963514 and parameters: {'n_estimators': 216, 'learning_rate': 0.031077702418750856, 'max_depth': 10, 'num_leaves': 615, 'min_child_samples': 45, 'subsample': 0.8239316108848899, 'subsample_freq': 0, 'colsample_bytree': 0.8983912055043712, 'reg_alpha': 0.5726272855490886, 'reg_lambda': 0.7969247541222452, 'max_bin': 257}. Best is trial 32 with value: 0.9917332615039692.\n",
      "[I 2024-04-18 23:32:59,178] Trial 38 finished with value: 0.990409652737563 and parameters: {'n_estimators': 229, 'learning_rate': 0.07840965293207357, 'max_depth': 12, 'num_leaves': 1014, 'min_child_samples': 43, 'subsample': 0.8583721742856092, 'subsample_freq': 1, 'colsample_bytree': 0.8058712915835776, 'reg_alpha': 0.6550439848724889, 'reg_lambda': 0.6696740356225095, 'max_bin': 266}. Best is trial 32 with value: 0.9917332615039692.\n",
      "[I 2024-04-18 23:33:19,766] Trial 39 finished with value: 0.9918504426589758 and parameters: {'n_estimators': 195, 'learning_rate': 0.0689356536665432, 'max_depth': 13, 'num_leaves': 1946, 'min_child_samples': 37, 'subsample': 0.8841796423370363, 'subsample_freq': 0, 'colsample_bytree': 0.783386192594209, 'reg_alpha': 0.7592044537020304, 'reg_lambda': 0.538402350448647, 'max_bin': 269}. Best is trial 39 with value: 0.9918504426589758.\n",
      "[I 2024-04-18 23:33:38,741] Trial 40 finished with value: 0.9888752059909643 and parameters: {'n_estimators': 193, 'learning_rate': 0.009540903512858393, 'max_depth': 13, 'num_leaves': 1911, 'min_child_samples': 36, 'subsample': 0.8842574915905399, 'subsample_freq': 7, 'colsample_bytree': 0.8973822176322701, 'reg_alpha': 0.9025346376260466, 'reg_lambda': 0.5495602493803022, 'max_bin': 275}. Best is trial 39 with value: 0.9918504426589758.\n",
      "[I 2024-04-18 23:34:03,046] Trial 41 finished with value: 0.9913836732174299 and parameters: {'n_estimators': 169, 'learning_rate': 0.07861336975640643, 'max_depth': 14, 'num_leaves': 3740, 'min_child_samples': 42, 'subsample': 0.8456625477247725, 'subsample_freq': 0, 'colsample_bytree': 0.7837226470949112, 'reg_alpha': 0.7631107952327086, 'reg_lambda': 0.6600484741189663, 'max_bin': 262}. Best is trial 39 with value: 0.9918504426589758.\n",
      "[I 2024-04-18 23:34:25,728] Trial 42 finished with value: 0.9910803329388675 and parameters: {'n_estimators': 168, 'learning_rate': 0.1459881628425259, 'max_depth': 14, 'num_leaves': 3853, 'min_child_samples': 42, 'subsample': 0.8672292922393668, 'subsample_freq': 0, 'colsample_bytree': 0.7798834957549349, 'reg_alpha': 0.7052110711927109, 'reg_lambda': 0.7844758296464668, 'max_bin': 268}. Best is trial 39 with value: 0.9918504426589758.\n",
      "[I 2024-04-18 23:34:47,798] Trial 43 finished with value: 0.9904930786150832 and parameters: {'n_estimators': 158, 'learning_rate': 0.07156405631041854, 'max_depth': 14, 'num_leaves': 3697, 'min_child_samples': 50, 'subsample': 0.8649583996233796, 'subsample_freq': 1, 'colsample_bytree': 0.8264137518157819, 'reg_alpha': 0.8031351258369033, 'reg_lambda': 0.6644124490557121, 'max_bin': 253}. Best is trial 39 with value: 0.9918504426589758.\n",
      "[I 2024-04-18 23:35:07,681] Trial 44 finished with value: 0.9909563001606554 and parameters: {'n_estimators': 169, 'learning_rate': 0.08968025598047992, 'max_depth': 13, 'num_leaves': 1922, 'min_child_samples': 47, 'subsample': 0.8328670213729291, 'subsample_freq': 0, 'colsample_bytree': 0.7432730488875777, 'reg_alpha': 0.5855044515723715, 'reg_lambda': 0.5489681695361448, 'max_bin': 261}. Best is trial 39 with value: 0.9918504426589758.\n",
      "[I 2024-04-18 23:35:53,141] Trial 45 finished with value: 0.9912977304050827 and parameters: {'n_estimators': 209, 'learning_rate': 0.06462659422569171, 'max_depth': 15, 'num_leaves': 7843, 'min_child_samples': 40, 'subsample': 0.8831679923202329, 'subsample_freq': 1, 'colsample_bytree': 0.7742201349354548, 'reg_alpha': 0.7418304349104129, 'reg_lambda': 0.660258357420742, 'max_bin': 276}. Best is trial 39 with value: 0.9918504426589758.\n",
      "[I 2024-04-18 23:36:23,594] Trial 46 finished with value: 0.9915533225601425 and parameters: {'n_estimators': 134, 'learning_rate': 0.13942362282285128, 'max_depth': 15, 'num_leaves': 6668, 'min_child_samples': 43, 'subsample': 0.8806363349122295, 'subsample_freq': 1, 'colsample_bytree': 0.776172245459635, 'reg_alpha': 0.7317005863056164, 'reg_lambda': 0.6812689202242683, 'max_bin': 288}. Best is trial 39 with value: 0.9918504426589758.\n",
      "[I 2024-04-18 23:36:57,348] Trial 47 finished with value: 0.9915411989171721 and parameters: {'n_estimators': 123, 'learning_rate': 0.14196907763479164, 'max_depth': 15, 'num_leaves': 7109, 'min_child_samples': 43, 'subsample': 0.904445326536626, 'subsample_freq': 1, 'colsample_bytree': 0.7743726479880114, 'reg_alpha': 0.7300900385351266, 'reg_lambda': 0.6763766467860761, 'max_bin': 293}. Best is trial 39 with value: 0.9918504426589758.\n",
      "[I 2024-04-18 23:37:52,142] Trial 48 finished with value: 0.9907950269442644 and parameters: {'n_estimators': 134, 'learning_rate': 0.1473185686628267, 'max_depth': 15, 'num_leaves': 11332, 'min_child_samples': 43, 'subsample': 0.9042228474562827, 'subsample_freq': 1, 'colsample_bytree': 0.790322146082087, 'reg_alpha': 0.6702390288553977, 'reg_lambda': 0.7864407239423744, 'max_bin': 293}. Best is trial 39 with value: 0.9918504426589758.\n",
      "[I 2024-04-18 23:38:20,542] Trial 49 finished with value: 0.9902820067739946 and parameters: {'n_estimators': 130, 'learning_rate': 0.17906619499923898, 'max_depth': 14, 'num_leaves': 6001, 'min_child_samples': 33, 'subsample': 0.9029607568337342, 'subsample_freq': 1, 'colsample_bytree': 0.8441249919116725, 'reg_alpha': 0.5485168660831291, 'reg_lambda': 0.7142113404840124, 'max_bin': 291}. Best is trial 39 with value: 0.9918504426589758.\n"
     ]
    },
    {
     "name": "stdout",
     "output_type": "stream",
     "text": [
      "Best Hyperparameters: {'n_estimators': 195, 'learning_rate': 0.0689356536665432, 'max_depth': 13, 'num_leaves': 1946, 'min_child_samples': 37, 'subsample': 0.8841796423370363, 'subsample_freq': 0, 'colsample_bytree': 0.783386192594209, 'reg_alpha': 0.7592044537020304, 'reg_lambda': 0.538402350448647, 'max_bin': 269}\n",
      "Best ROC AUC Score: 0.9918504426589758\n"
     ]
    },
    {
     "data": {
      "application/vnd.plotly.v1+json": {
       "config": {
        "plotlyServerURL": "https://plot.ly"
       },
       "data": [
        {
         "mode": "markers",
         "name": "Objective Value",
         "type": "scatter",
         "x": [
          0,
          1,
          2,
          3,
          4,
          5,
          6,
          7,
          8,
          9,
          10,
          11,
          12,
          13,
          14,
          15,
          16,
          17,
          18,
          19,
          20,
          21,
          22,
          23,
          24,
          25,
          26,
          27,
          28,
          29,
          30,
          31,
          32,
          33,
          34,
          35,
          36,
          37,
          38,
          39,
          40,
          41,
          42,
          43,
          44,
          45,
          46,
          47,
          48,
          49
         ],
         "y": [
          0.9899586767618015,
          0.9906087679304664,
          0.9859104368727717,
          0.9906432602201736,
          0.9892501636914078,
          0.9848299931651461,
          0.9905232425834326,
          0.9854730774898661,
          0.9885845491638111,
          0.9840018889841728,
          0.990592660765771,
          0.9896855452520452,
          0.9900528245967901,
          0.9900834810833029,
          0.9905413097559272,
          0.9907167600295145,
          0.9895783987372955,
          0.9894481047354141,
          0.9905848678808951,
          0.9873376080515941,
          0.9907314222203153,
          0.9907124560051594,
          0.9905588611527281,
          0.9906815274792689,
          0.9908873030280881,
          0.9902845825158126,
          0.9885282889130995,
          0.988044548560128,
          0.9911171476691599,
          0.9910412213608453,
          0.9883411287876644,
          0.9903888702154002,
          0.9917332615039692,
          0.9912551809972816,
          0.9906308046728457,
          0.9894116080012237,
          0.9906869000139847,
          0.9906877219963514,
          0.990409652737563,
          0.9918504426589758,
          0.9888752059909643,
          0.9913836732174299,
          0.9910803329388675,
          0.9904930786150832,
          0.9909563001606554,
          0.9912977304050827,
          0.9915533225601425,
          0.9915411989171721,
          0.9907950269442644,
          0.9902820067739946
         ]
        },
        {
         "mode": "lines",
         "name": "Best Value",
         "type": "scatter",
         "x": [
          0,
          1,
          2,
          3,
          4,
          5,
          6,
          7,
          8,
          9,
          10,
          11,
          12,
          13,
          14,
          15,
          16,
          17,
          18,
          19,
          20,
          21,
          22,
          23,
          24,
          25,
          26,
          27,
          28,
          29,
          30,
          31,
          32,
          33,
          34,
          35,
          36,
          37,
          38,
          39,
          40,
          41,
          42,
          43,
          44,
          45,
          46,
          47,
          48,
          49
         ],
         "y": [
          0.9899586767618015,
          0.9906087679304664,
          0.9906087679304664,
          0.9906432602201736,
          0.9906432602201736,
          0.9906432602201736,
          0.9906432602201736,
          0.9906432602201736,
          0.9906432602201736,
          0.9906432602201736,
          0.9906432602201736,
          0.9906432602201736,
          0.9906432602201736,
          0.9906432602201736,
          0.9906432602201736,
          0.9907167600295145,
          0.9907167600295145,
          0.9907167600295145,
          0.9907167600295145,
          0.9907167600295145,
          0.9907314222203153,
          0.9907314222203153,
          0.9907314222203153,
          0.9907314222203153,
          0.9908873030280881,
          0.9908873030280881,
          0.9908873030280881,
          0.9908873030280881,
          0.9911171476691599,
          0.9911171476691599,
          0.9911171476691599,
          0.9911171476691599,
          0.9917332615039692,
          0.9917332615039692,
          0.9917332615039692,
          0.9917332615039692,
          0.9917332615039692,
          0.9917332615039692,
          0.9917332615039692,
          0.9918504426589758,
          0.9918504426589758,
          0.9918504426589758,
          0.9918504426589758,
          0.9918504426589758,
          0.9918504426589758,
          0.9918504426589758,
          0.9918504426589758,
          0.9918504426589758,
          0.9918504426589758,
          0.9918504426589758
         ]
        },
        {
         "marker": {
          "color": "#cccccc"
         },
         "mode": "markers",
         "name": "Infeasible Trial",
         "showlegend": false,
         "type": "scatter",
         "x": [],
         "y": []
        }
       ],
       "layout": {
        "template": {
         "data": {
          "bar": [
           {
            "error_x": {
             "color": "#2a3f5f"
            },
            "error_y": {
             "color": "#2a3f5f"
            },
            "marker": {
             "line": {
              "color": "#E5ECF6",
              "width": 0.5
             },
             "pattern": {
              "fillmode": "overlay",
              "size": 10,
              "solidity": 0.2
             }
            },
            "type": "bar"
           }
          ],
          "barpolar": [
           {
            "marker": {
             "line": {
              "color": "#E5ECF6",
              "width": 0.5
             },
             "pattern": {
              "fillmode": "overlay",
              "size": 10,
              "solidity": 0.2
             }
            },
            "type": "barpolar"
           }
          ],
          "carpet": [
           {
            "aaxis": {
             "endlinecolor": "#2a3f5f",
             "gridcolor": "white",
             "linecolor": "white",
             "minorgridcolor": "white",
             "startlinecolor": "#2a3f5f"
            },
            "baxis": {
             "endlinecolor": "#2a3f5f",
             "gridcolor": "white",
             "linecolor": "white",
             "minorgridcolor": "white",
             "startlinecolor": "#2a3f5f"
            },
            "type": "carpet"
           }
          ],
          "choropleth": [
           {
            "colorbar": {
             "outlinewidth": 0,
             "ticks": ""
            },
            "type": "choropleth"
           }
          ],
          "contour": [
           {
            "colorbar": {
             "outlinewidth": 0,
             "ticks": ""
            },
            "colorscale": [
             [
              0,
              "#0d0887"
             ],
             [
              0.1111111111111111,
              "#46039f"
             ],
             [
              0.2222222222222222,
              "#7201a8"
             ],
             [
              0.3333333333333333,
              "#9c179e"
             ],
             [
              0.4444444444444444,
              "#bd3786"
             ],
             [
              0.5555555555555556,
              "#d8576b"
             ],
             [
              0.6666666666666666,
              "#ed7953"
             ],
             [
              0.7777777777777778,
              "#fb9f3a"
             ],
             [
              0.8888888888888888,
              "#fdca26"
             ],
             [
              1,
              "#f0f921"
             ]
            ],
            "type": "contour"
           }
          ],
          "contourcarpet": [
           {
            "colorbar": {
             "outlinewidth": 0,
             "ticks": ""
            },
            "type": "contourcarpet"
           }
          ],
          "heatmap": [
           {
            "colorbar": {
             "outlinewidth": 0,
             "ticks": ""
            },
            "colorscale": [
             [
              0,
              "#0d0887"
             ],
             [
              0.1111111111111111,
              "#46039f"
             ],
             [
              0.2222222222222222,
              "#7201a8"
             ],
             [
              0.3333333333333333,
              "#9c179e"
             ],
             [
              0.4444444444444444,
              "#bd3786"
             ],
             [
              0.5555555555555556,
              "#d8576b"
             ],
             [
              0.6666666666666666,
              "#ed7953"
             ],
             [
              0.7777777777777778,
              "#fb9f3a"
             ],
             [
              0.8888888888888888,
              "#fdca26"
             ],
             [
              1,
              "#f0f921"
             ]
            ],
            "type": "heatmap"
           }
          ],
          "heatmapgl": [
           {
            "colorbar": {
             "outlinewidth": 0,
             "ticks": ""
            },
            "colorscale": [
             [
              0,
              "#0d0887"
             ],
             [
              0.1111111111111111,
              "#46039f"
             ],
             [
              0.2222222222222222,
              "#7201a8"
             ],
             [
              0.3333333333333333,
              "#9c179e"
             ],
             [
              0.4444444444444444,
              "#bd3786"
             ],
             [
              0.5555555555555556,
              "#d8576b"
             ],
             [
              0.6666666666666666,
              "#ed7953"
             ],
             [
              0.7777777777777778,
              "#fb9f3a"
             ],
             [
              0.8888888888888888,
              "#fdca26"
             ],
             [
              1,
              "#f0f921"
             ]
            ],
            "type": "heatmapgl"
           }
          ],
          "histogram": [
           {
            "marker": {
             "pattern": {
              "fillmode": "overlay",
              "size": 10,
              "solidity": 0.2
             }
            },
            "type": "histogram"
           }
          ],
          "histogram2d": [
           {
            "colorbar": {
             "outlinewidth": 0,
             "ticks": ""
            },
            "colorscale": [
             [
              0,
              "#0d0887"
             ],
             [
              0.1111111111111111,
              "#46039f"
             ],
             [
              0.2222222222222222,
              "#7201a8"
             ],
             [
              0.3333333333333333,
              "#9c179e"
             ],
             [
              0.4444444444444444,
              "#bd3786"
             ],
             [
              0.5555555555555556,
              "#d8576b"
             ],
             [
              0.6666666666666666,
              "#ed7953"
             ],
             [
              0.7777777777777778,
              "#fb9f3a"
             ],
             [
              0.8888888888888888,
              "#fdca26"
             ],
             [
              1,
              "#f0f921"
             ]
            ],
            "type": "histogram2d"
           }
          ],
          "histogram2dcontour": [
           {
            "colorbar": {
             "outlinewidth": 0,
             "ticks": ""
            },
            "colorscale": [
             [
              0,
              "#0d0887"
             ],
             [
              0.1111111111111111,
              "#46039f"
             ],
             [
              0.2222222222222222,
              "#7201a8"
             ],
             [
              0.3333333333333333,
              "#9c179e"
             ],
             [
              0.4444444444444444,
              "#bd3786"
             ],
             [
              0.5555555555555556,
              "#d8576b"
             ],
             [
              0.6666666666666666,
              "#ed7953"
             ],
             [
              0.7777777777777778,
              "#fb9f3a"
             ],
             [
              0.8888888888888888,
              "#fdca26"
             ],
             [
              1,
              "#f0f921"
             ]
            ],
            "type": "histogram2dcontour"
           }
          ],
          "mesh3d": [
           {
            "colorbar": {
             "outlinewidth": 0,
             "ticks": ""
            },
            "type": "mesh3d"
           }
          ],
          "parcoords": [
           {
            "line": {
             "colorbar": {
              "outlinewidth": 0,
              "ticks": ""
             }
            },
            "type": "parcoords"
           }
          ],
          "pie": [
           {
            "automargin": true,
            "type": "pie"
           }
          ],
          "scatter": [
           {
            "fillpattern": {
             "fillmode": "overlay",
             "size": 10,
             "solidity": 0.2
            },
            "type": "scatter"
           }
          ],
          "scatter3d": [
           {
            "line": {
             "colorbar": {
              "outlinewidth": 0,
              "ticks": ""
             }
            },
            "marker": {
             "colorbar": {
              "outlinewidth": 0,
              "ticks": ""
             }
            },
            "type": "scatter3d"
           }
          ],
          "scattercarpet": [
           {
            "marker": {
             "colorbar": {
              "outlinewidth": 0,
              "ticks": ""
             }
            },
            "type": "scattercarpet"
           }
          ],
          "scattergeo": [
           {
            "marker": {
             "colorbar": {
              "outlinewidth": 0,
              "ticks": ""
             }
            },
            "type": "scattergeo"
           }
          ],
          "scattergl": [
           {
            "marker": {
             "colorbar": {
              "outlinewidth": 0,
              "ticks": ""
             }
            },
            "type": "scattergl"
           }
          ],
          "scattermapbox": [
           {
            "marker": {
             "colorbar": {
              "outlinewidth": 0,
              "ticks": ""
             }
            },
            "type": "scattermapbox"
           }
          ],
          "scatterpolar": [
           {
            "marker": {
             "colorbar": {
              "outlinewidth": 0,
              "ticks": ""
             }
            },
            "type": "scatterpolar"
           }
          ],
          "scatterpolargl": [
           {
            "marker": {
             "colorbar": {
              "outlinewidth": 0,
              "ticks": ""
             }
            },
            "type": "scatterpolargl"
           }
          ],
          "scatterternary": [
           {
            "marker": {
             "colorbar": {
              "outlinewidth": 0,
              "ticks": ""
             }
            },
            "type": "scatterternary"
           }
          ],
          "surface": [
           {
            "colorbar": {
             "outlinewidth": 0,
             "ticks": ""
            },
            "colorscale": [
             [
              0,
              "#0d0887"
             ],
             [
              0.1111111111111111,
              "#46039f"
             ],
             [
              0.2222222222222222,
              "#7201a8"
             ],
             [
              0.3333333333333333,
              "#9c179e"
             ],
             [
              0.4444444444444444,
              "#bd3786"
             ],
             [
              0.5555555555555556,
              "#d8576b"
             ],
             [
              0.6666666666666666,
              "#ed7953"
             ],
             [
              0.7777777777777778,
              "#fb9f3a"
             ],
             [
              0.8888888888888888,
              "#fdca26"
             ],
             [
              1,
              "#f0f921"
             ]
            ],
            "type": "surface"
           }
          ],
          "table": [
           {
            "cells": {
             "fill": {
              "color": "#EBF0F8"
             },
             "line": {
              "color": "white"
             }
            },
            "header": {
             "fill": {
              "color": "#C8D4E3"
             },
             "line": {
              "color": "white"
             }
            },
            "type": "table"
           }
          ]
         },
         "layout": {
          "annotationdefaults": {
           "arrowcolor": "#2a3f5f",
           "arrowhead": 0,
           "arrowwidth": 1
          },
          "autotypenumbers": "strict",
          "coloraxis": {
           "colorbar": {
            "outlinewidth": 0,
            "ticks": ""
           }
          },
          "colorscale": {
           "diverging": [
            [
             0,
             "#8e0152"
            ],
            [
             0.1,
             "#c51b7d"
            ],
            [
             0.2,
             "#de77ae"
            ],
            [
             0.3,
             "#f1b6da"
            ],
            [
             0.4,
             "#fde0ef"
            ],
            [
             0.5,
             "#f7f7f7"
            ],
            [
             0.6,
             "#e6f5d0"
            ],
            [
             0.7,
             "#b8e186"
            ],
            [
             0.8,
             "#7fbc41"
            ],
            [
             0.9,
             "#4d9221"
            ],
            [
             1,
             "#276419"
            ]
           ],
           "sequential": [
            [
             0,
             "#0d0887"
            ],
            [
             0.1111111111111111,
             "#46039f"
            ],
            [
             0.2222222222222222,
             "#7201a8"
            ],
            [
             0.3333333333333333,
             "#9c179e"
            ],
            [
             0.4444444444444444,
             "#bd3786"
            ],
            [
             0.5555555555555556,
             "#d8576b"
            ],
            [
             0.6666666666666666,
             "#ed7953"
            ],
            [
             0.7777777777777778,
             "#fb9f3a"
            ],
            [
             0.8888888888888888,
             "#fdca26"
            ],
            [
             1,
             "#f0f921"
            ]
           ],
           "sequentialminus": [
            [
             0,
             "#0d0887"
            ],
            [
             0.1111111111111111,
             "#46039f"
            ],
            [
             0.2222222222222222,
             "#7201a8"
            ],
            [
             0.3333333333333333,
             "#9c179e"
            ],
            [
             0.4444444444444444,
             "#bd3786"
            ],
            [
             0.5555555555555556,
             "#d8576b"
            ],
            [
             0.6666666666666666,
             "#ed7953"
            ],
            [
             0.7777777777777778,
             "#fb9f3a"
            ],
            [
             0.8888888888888888,
             "#fdca26"
            ],
            [
             1,
             "#f0f921"
            ]
           ]
          },
          "colorway": [
           "#636efa",
           "#EF553B",
           "#00cc96",
           "#ab63fa",
           "#FFA15A",
           "#19d3f3",
           "#FF6692",
           "#B6E880",
           "#FF97FF",
           "#FECB52"
          ],
          "font": {
           "color": "#2a3f5f"
          },
          "geo": {
           "bgcolor": "white",
           "lakecolor": "white",
           "landcolor": "#E5ECF6",
           "showlakes": true,
           "showland": true,
           "subunitcolor": "white"
          },
          "hoverlabel": {
           "align": "left"
          },
          "hovermode": "closest",
          "mapbox": {
           "style": "light"
          },
          "paper_bgcolor": "white",
          "plot_bgcolor": "#E5ECF6",
          "polar": {
           "angularaxis": {
            "gridcolor": "white",
            "linecolor": "white",
            "ticks": ""
           },
           "bgcolor": "#E5ECF6",
           "radialaxis": {
            "gridcolor": "white",
            "linecolor": "white",
            "ticks": ""
           }
          },
          "scene": {
           "xaxis": {
            "backgroundcolor": "#E5ECF6",
            "gridcolor": "white",
            "gridwidth": 2,
            "linecolor": "white",
            "showbackground": true,
            "ticks": "",
            "zerolinecolor": "white"
           },
           "yaxis": {
            "backgroundcolor": "#E5ECF6",
            "gridcolor": "white",
            "gridwidth": 2,
            "linecolor": "white",
            "showbackground": true,
            "ticks": "",
            "zerolinecolor": "white"
           },
           "zaxis": {
            "backgroundcolor": "#E5ECF6",
            "gridcolor": "white",
            "gridwidth": 2,
            "linecolor": "white",
            "showbackground": true,
            "ticks": "",
            "zerolinecolor": "white"
           }
          },
          "shapedefaults": {
           "line": {
            "color": "#2a3f5f"
           }
          },
          "ternary": {
           "aaxis": {
            "gridcolor": "white",
            "linecolor": "white",
            "ticks": ""
           },
           "baxis": {
            "gridcolor": "white",
            "linecolor": "white",
            "ticks": ""
           },
           "bgcolor": "#E5ECF6",
           "caxis": {
            "gridcolor": "white",
            "linecolor": "white",
            "ticks": ""
           }
          },
          "title": {
           "x": 0.05
          },
          "xaxis": {
           "automargin": true,
           "gridcolor": "white",
           "linecolor": "white",
           "ticks": "",
           "title": {
            "standoff": 15
           },
           "zerolinecolor": "white",
           "zerolinewidth": 2
          },
          "yaxis": {
           "automargin": true,
           "gridcolor": "white",
           "linecolor": "white",
           "ticks": "",
           "title": {
            "standoff": 15
           },
           "zerolinecolor": "white",
           "zerolinewidth": 2
          }
         }
        },
        "title": {
         "text": "Optimization History Plot"
        },
        "xaxis": {
         "title": {
          "text": "Trial"
         }
        },
        "yaxis": {
         "title": {
          "text": "Objective Value"
         }
        }
       }
      }
     },
     "metadata": {},
     "output_type": "display_data"
    },
    {
     "data": {
      "application/vnd.plotly.v1+json": {
       "config": {
        "plotlyServerURL": "https://plot.ly"
       },
       "data": [
        {
         "cliponaxis": false,
         "hovertemplate": [
          "max_depth (IntDistribution): 0.0038880020588979917<extra></extra>",
          "reg_lambda (FloatDistribution): 0.00594218843839501<extra></extra>",
          "n_estimators (IntDistribution): 0.008895797983514678<extra></extra>",
          "max_bin (IntDistribution): 0.009003767318141705<extra></extra>",
          "subsample (FloatDistribution): 0.013944438898993198<extra></extra>",
          "min_child_samples (IntDistribution): 0.018355696499035793<extra></extra>",
          "reg_alpha (FloatDistribution): 0.020422909998594085<extra></extra>",
          "subsample_freq (IntDistribution): 0.038960090720010505<extra></extra>",
          "colsample_bytree (FloatDistribution): 0.05958807264197213<extra></extra>",
          "learning_rate (FloatDistribution): 0.820999035442445<extra></extra>"
         ],
         "name": "Objective Value",
         "orientation": "h",
         "text": [
          "<0.01",
          "<0.01",
          "<0.01",
          "<0.01",
          "0.01",
          "0.02",
          "0.02",
          "0.04",
          "0.06",
          "0.82"
         ],
         "textposition": "outside",
         "type": "bar",
         "x": [
          0.0038880020588979917,
          0.00594218843839501,
          0.008895797983514678,
          0.009003767318141705,
          0.013944438898993198,
          0.018355696499035793,
          0.020422909998594085,
          0.038960090720010505,
          0.05958807264197213,
          0.820999035442445
         ],
         "y": [
          "max_depth",
          "reg_lambda",
          "n_estimators",
          "max_bin",
          "subsample",
          "min_child_samples",
          "reg_alpha",
          "subsample_freq",
          "colsample_bytree",
          "learning_rate"
         ]
        }
       ],
       "layout": {
        "template": {
         "data": {
          "bar": [
           {
            "error_x": {
             "color": "#2a3f5f"
            },
            "error_y": {
             "color": "#2a3f5f"
            },
            "marker": {
             "line": {
              "color": "#E5ECF6",
              "width": 0.5
             },
             "pattern": {
              "fillmode": "overlay",
              "size": 10,
              "solidity": 0.2
             }
            },
            "type": "bar"
           }
          ],
          "barpolar": [
           {
            "marker": {
             "line": {
              "color": "#E5ECF6",
              "width": 0.5
             },
             "pattern": {
              "fillmode": "overlay",
              "size": 10,
              "solidity": 0.2
             }
            },
            "type": "barpolar"
           }
          ],
          "carpet": [
           {
            "aaxis": {
             "endlinecolor": "#2a3f5f",
             "gridcolor": "white",
             "linecolor": "white",
             "minorgridcolor": "white",
             "startlinecolor": "#2a3f5f"
            },
            "baxis": {
             "endlinecolor": "#2a3f5f",
             "gridcolor": "white",
             "linecolor": "white",
             "minorgridcolor": "white",
             "startlinecolor": "#2a3f5f"
            },
            "type": "carpet"
           }
          ],
          "choropleth": [
           {
            "colorbar": {
             "outlinewidth": 0,
             "ticks": ""
            },
            "type": "choropleth"
           }
          ],
          "contour": [
           {
            "colorbar": {
             "outlinewidth": 0,
             "ticks": ""
            },
            "colorscale": [
             [
              0,
              "#0d0887"
             ],
             [
              0.1111111111111111,
              "#46039f"
             ],
             [
              0.2222222222222222,
              "#7201a8"
             ],
             [
              0.3333333333333333,
              "#9c179e"
             ],
             [
              0.4444444444444444,
              "#bd3786"
             ],
             [
              0.5555555555555556,
              "#d8576b"
             ],
             [
              0.6666666666666666,
              "#ed7953"
             ],
             [
              0.7777777777777778,
              "#fb9f3a"
             ],
             [
              0.8888888888888888,
              "#fdca26"
             ],
             [
              1,
              "#f0f921"
             ]
            ],
            "type": "contour"
           }
          ],
          "contourcarpet": [
           {
            "colorbar": {
             "outlinewidth": 0,
             "ticks": ""
            },
            "type": "contourcarpet"
           }
          ],
          "heatmap": [
           {
            "colorbar": {
             "outlinewidth": 0,
             "ticks": ""
            },
            "colorscale": [
             [
              0,
              "#0d0887"
             ],
             [
              0.1111111111111111,
              "#46039f"
             ],
             [
              0.2222222222222222,
              "#7201a8"
             ],
             [
              0.3333333333333333,
              "#9c179e"
             ],
             [
              0.4444444444444444,
              "#bd3786"
             ],
             [
              0.5555555555555556,
              "#d8576b"
             ],
             [
              0.6666666666666666,
              "#ed7953"
             ],
             [
              0.7777777777777778,
              "#fb9f3a"
             ],
             [
              0.8888888888888888,
              "#fdca26"
             ],
             [
              1,
              "#f0f921"
             ]
            ],
            "type": "heatmap"
           }
          ],
          "heatmapgl": [
           {
            "colorbar": {
             "outlinewidth": 0,
             "ticks": ""
            },
            "colorscale": [
             [
              0,
              "#0d0887"
             ],
             [
              0.1111111111111111,
              "#46039f"
             ],
             [
              0.2222222222222222,
              "#7201a8"
             ],
             [
              0.3333333333333333,
              "#9c179e"
             ],
             [
              0.4444444444444444,
              "#bd3786"
             ],
             [
              0.5555555555555556,
              "#d8576b"
             ],
             [
              0.6666666666666666,
              "#ed7953"
             ],
             [
              0.7777777777777778,
              "#fb9f3a"
             ],
             [
              0.8888888888888888,
              "#fdca26"
             ],
             [
              1,
              "#f0f921"
             ]
            ],
            "type": "heatmapgl"
           }
          ],
          "histogram": [
           {
            "marker": {
             "pattern": {
              "fillmode": "overlay",
              "size": 10,
              "solidity": 0.2
             }
            },
            "type": "histogram"
           }
          ],
          "histogram2d": [
           {
            "colorbar": {
             "outlinewidth": 0,
             "ticks": ""
            },
            "colorscale": [
             [
              0,
              "#0d0887"
             ],
             [
              0.1111111111111111,
              "#46039f"
             ],
             [
              0.2222222222222222,
              "#7201a8"
             ],
             [
              0.3333333333333333,
              "#9c179e"
             ],
             [
              0.4444444444444444,
              "#bd3786"
             ],
             [
              0.5555555555555556,
              "#d8576b"
             ],
             [
              0.6666666666666666,
              "#ed7953"
             ],
             [
              0.7777777777777778,
              "#fb9f3a"
             ],
             [
              0.8888888888888888,
              "#fdca26"
             ],
             [
              1,
              "#f0f921"
             ]
            ],
            "type": "histogram2d"
           }
          ],
          "histogram2dcontour": [
           {
            "colorbar": {
             "outlinewidth": 0,
             "ticks": ""
            },
            "colorscale": [
             [
              0,
              "#0d0887"
             ],
             [
              0.1111111111111111,
              "#46039f"
             ],
             [
              0.2222222222222222,
              "#7201a8"
             ],
             [
              0.3333333333333333,
              "#9c179e"
             ],
             [
              0.4444444444444444,
              "#bd3786"
             ],
             [
              0.5555555555555556,
              "#d8576b"
             ],
             [
              0.6666666666666666,
              "#ed7953"
             ],
             [
              0.7777777777777778,
              "#fb9f3a"
             ],
             [
              0.8888888888888888,
              "#fdca26"
             ],
             [
              1,
              "#f0f921"
             ]
            ],
            "type": "histogram2dcontour"
           }
          ],
          "mesh3d": [
           {
            "colorbar": {
             "outlinewidth": 0,
             "ticks": ""
            },
            "type": "mesh3d"
           }
          ],
          "parcoords": [
           {
            "line": {
             "colorbar": {
              "outlinewidth": 0,
              "ticks": ""
             }
            },
            "type": "parcoords"
           }
          ],
          "pie": [
           {
            "automargin": true,
            "type": "pie"
           }
          ],
          "scatter": [
           {
            "fillpattern": {
             "fillmode": "overlay",
             "size": 10,
             "solidity": 0.2
            },
            "type": "scatter"
           }
          ],
          "scatter3d": [
           {
            "line": {
             "colorbar": {
              "outlinewidth": 0,
              "ticks": ""
             }
            },
            "marker": {
             "colorbar": {
              "outlinewidth": 0,
              "ticks": ""
             }
            },
            "type": "scatter3d"
           }
          ],
          "scattercarpet": [
           {
            "marker": {
             "colorbar": {
              "outlinewidth": 0,
              "ticks": ""
             }
            },
            "type": "scattercarpet"
           }
          ],
          "scattergeo": [
           {
            "marker": {
             "colorbar": {
              "outlinewidth": 0,
              "ticks": ""
             }
            },
            "type": "scattergeo"
           }
          ],
          "scattergl": [
           {
            "marker": {
             "colorbar": {
              "outlinewidth": 0,
              "ticks": ""
             }
            },
            "type": "scattergl"
           }
          ],
          "scattermapbox": [
           {
            "marker": {
             "colorbar": {
              "outlinewidth": 0,
              "ticks": ""
             }
            },
            "type": "scattermapbox"
           }
          ],
          "scatterpolar": [
           {
            "marker": {
             "colorbar": {
              "outlinewidth": 0,
              "ticks": ""
             }
            },
            "type": "scatterpolar"
           }
          ],
          "scatterpolargl": [
           {
            "marker": {
             "colorbar": {
              "outlinewidth": 0,
              "ticks": ""
             }
            },
            "type": "scatterpolargl"
           }
          ],
          "scatterternary": [
           {
            "marker": {
             "colorbar": {
              "outlinewidth": 0,
              "ticks": ""
             }
            },
            "type": "scatterternary"
           }
          ],
          "surface": [
           {
            "colorbar": {
             "outlinewidth": 0,
             "ticks": ""
            },
            "colorscale": [
             [
              0,
              "#0d0887"
             ],
             [
              0.1111111111111111,
              "#46039f"
             ],
             [
              0.2222222222222222,
              "#7201a8"
             ],
             [
              0.3333333333333333,
              "#9c179e"
             ],
             [
              0.4444444444444444,
              "#bd3786"
             ],
             [
              0.5555555555555556,
              "#d8576b"
             ],
             [
              0.6666666666666666,
              "#ed7953"
             ],
             [
              0.7777777777777778,
              "#fb9f3a"
             ],
             [
              0.8888888888888888,
              "#fdca26"
             ],
             [
              1,
              "#f0f921"
             ]
            ],
            "type": "surface"
           }
          ],
          "table": [
           {
            "cells": {
             "fill": {
              "color": "#EBF0F8"
             },
             "line": {
              "color": "white"
             }
            },
            "header": {
             "fill": {
              "color": "#C8D4E3"
             },
             "line": {
              "color": "white"
             }
            },
            "type": "table"
           }
          ]
         },
         "layout": {
          "annotationdefaults": {
           "arrowcolor": "#2a3f5f",
           "arrowhead": 0,
           "arrowwidth": 1
          },
          "autotypenumbers": "strict",
          "coloraxis": {
           "colorbar": {
            "outlinewidth": 0,
            "ticks": ""
           }
          },
          "colorscale": {
           "diverging": [
            [
             0,
             "#8e0152"
            ],
            [
             0.1,
             "#c51b7d"
            ],
            [
             0.2,
             "#de77ae"
            ],
            [
             0.3,
             "#f1b6da"
            ],
            [
             0.4,
             "#fde0ef"
            ],
            [
             0.5,
             "#f7f7f7"
            ],
            [
             0.6,
             "#e6f5d0"
            ],
            [
             0.7,
             "#b8e186"
            ],
            [
             0.8,
             "#7fbc41"
            ],
            [
             0.9,
             "#4d9221"
            ],
            [
             1,
             "#276419"
            ]
           ],
           "sequential": [
            [
             0,
             "#0d0887"
            ],
            [
             0.1111111111111111,
             "#46039f"
            ],
            [
             0.2222222222222222,
             "#7201a8"
            ],
            [
             0.3333333333333333,
             "#9c179e"
            ],
            [
             0.4444444444444444,
             "#bd3786"
            ],
            [
             0.5555555555555556,
             "#d8576b"
            ],
            [
             0.6666666666666666,
             "#ed7953"
            ],
            [
             0.7777777777777778,
             "#fb9f3a"
            ],
            [
             0.8888888888888888,
             "#fdca26"
            ],
            [
             1,
             "#f0f921"
            ]
           ],
           "sequentialminus": [
            [
             0,
             "#0d0887"
            ],
            [
             0.1111111111111111,
             "#46039f"
            ],
            [
             0.2222222222222222,
             "#7201a8"
            ],
            [
             0.3333333333333333,
             "#9c179e"
            ],
            [
             0.4444444444444444,
             "#bd3786"
            ],
            [
             0.5555555555555556,
             "#d8576b"
            ],
            [
             0.6666666666666666,
             "#ed7953"
            ],
            [
             0.7777777777777778,
             "#fb9f3a"
            ],
            [
             0.8888888888888888,
             "#fdca26"
            ],
            [
             1,
             "#f0f921"
            ]
           ]
          },
          "colorway": [
           "#636efa",
           "#EF553B",
           "#00cc96",
           "#ab63fa",
           "#FFA15A",
           "#19d3f3",
           "#FF6692",
           "#B6E880",
           "#FF97FF",
           "#FECB52"
          ],
          "font": {
           "color": "#2a3f5f"
          },
          "geo": {
           "bgcolor": "white",
           "lakecolor": "white",
           "landcolor": "#E5ECF6",
           "showlakes": true,
           "showland": true,
           "subunitcolor": "white"
          },
          "hoverlabel": {
           "align": "left"
          },
          "hovermode": "closest",
          "mapbox": {
           "style": "light"
          },
          "paper_bgcolor": "white",
          "plot_bgcolor": "#E5ECF6",
          "polar": {
           "angularaxis": {
            "gridcolor": "white",
            "linecolor": "white",
            "ticks": ""
           },
           "bgcolor": "#E5ECF6",
           "radialaxis": {
            "gridcolor": "white",
            "linecolor": "white",
            "ticks": ""
           }
          },
          "scene": {
           "xaxis": {
            "backgroundcolor": "#E5ECF6",
            "gridcolor": "white",
            "gridwidth": 2,
            "linecolor": "white",
            "showbackground": true,
            "ticks": "",
            "zerolinecolor": "white"
           },
           "yaxis": {
            "backgroundcolor": "#E5ECF6",
            "gridcolor": "white",
            "gridwidth": 2,
            "linecolor": "white",
            "showbackground": true,
            "ticks": "",
            "zerolinecolor": "white"
           },
           "zaxis": {
            "backgroundcolor": "#E5ECF6",
            "gridcolor": "white",
            "gridwidth": 2,
            "linecolor": "white",
            "showbackground": true,
            "ticks": "",
            "zerolinecolor": "white"
           }
          },
          "shapedefaults": {
           "line": {
            "color": "#2a3f5f"
           }
          },
          "ternary": {
           "aaxis": {
            "gridcolor": "white",
            "linecolor": "white",
            "ticks": ""
           },
           "baxis": {
            "gridcolor": "white",
            "linecolor": "white",
            "ticks": ""
           },
           "bgcolor": "#E5ECF6",
           "caxis": {
            "gridcolor": "white",
            "linecolor": "white",
            "ticks": ""
           }
          },
          "title": {
           "x": 0.05
          },
          "xaxis": {
           "automargin": true,
           "gridcolor": "white",
           "linecolor": "white",
           "ticks": "",
           "title": {
            "standoff": 15
           },
           "zerolinecolor": "white",
           "zerolinewidth": 2
          },
          "yaxis": {
           "automargin": true,
           "gridcolor": "white",
           "linecolor": "white",
           "ticks": "",
           "title": {
            "standoff": 15
           },
           "zerolinecolor": "white",
           "zerolinewidth": 2
          }
         }
        },
        "title": {
         "text": "Hyperparameter Importances"
        },
        "xaxis": {
         "title": {
          "text": "Hyperparameter Importance"
         }
        },
        "yaxis": {
         "title": {
          "text": "Hyperparameter"
         }
        }
       }
      }
     },
     "metadata": {},
     "output_type": "display_data"
    },
    {
     "data": {
      "application/vnd.plotly.v1+json": {
       "config": {
        "plotlyServerURL": "https://plot.ly"
       },
       "data": [
        {
         "marker": {
          "color": [
           0,
           1,
           2,
           3,
           4,
           5,
           6,
           7,
           8,
           9,
           10,
           11,
           12,
           13,
           14,
           15,
           16,
           17,
           18,
           19,
           20,
           21,
           22,
           23,
           24,
           25,
           26,
           27,
           28,
           29,
           30,
           31,
           32,
           33,
           34,
           35,
           36,
           37,
           38,
           39,
           40,
           41,
           42,
           43,
           44,
           45,
           46,
           47,
           48,
           49
          ],
          "colorbar": {
           "title": {
            "text": "Trial"
           },
           "x": 1,
           "xpad": 40
          },
          "colorscale": [
           [
            0,
            "rgb(247,251,255)"
           ],
           [
            0.125,
            "rgb(222,235,247)"
           ],
           [
            0.25,
            "rgb(198,219,239)"
           ],
           [
            0.375,
            "rgb(158,202,225)"
           ],
           [
            0.5,
            "rgb(107,174,214)"
           ],
           [
            0.625,
            "rgb(66,146,198)"
           ],
           [
            0.75,
            "rgb(33,113,181)"
           ],
           [
            0.875,
            "rgb(8,81,156)"
           ],
           [
            1,
            "rgb(8,48,107)"
           ]
          ],
          "line": {
           "color": "Grey",
           "width": 0.5
          },
          "showscale": true
         },
         "mode": "markers",
         "name": "Feasible Trial",
         "showlegend": false,
         "type": "scatter",
         "x": [
          0.9464704583099741,
          0.7727780074568463,
          0.6185801650879991,
          0.6488152939379115,
          0.9100531293444458,
          0.9314950036607718,
          0.9261845713819337,
          0.7243929286862649,
          0.7975182385457563,
          0.7641531692142519,
          0.6044644095703446,
          0.6942016653161562,
          0.8396697432469871,
          0.6769439514353582,
          0.8676939778143802,
          0.6594137531838515,
          0.6539561758699982,
          0.9965108784574399,
          0.7274970383984627,
          0.6448811739004122,
          0.7145219312296173,
          0.704025516223687,
          0.7206604302749544,
          0.69243390435132,
          0.7547222900188124,
          0.7543114886986491,
          0.7512249331716522,
          0.8131061461917298,
          0.6704661733934032,
          0.8010135282692321,
          0.8656296357932337,
          0.7850348729023939,
          0.818859256230843,
          0.8213477682781425,
          0.827298649192533,
          0.8668742978181008,
          0.8523849073887868,
          0.8983912055043712,
          0.8058712915835776,
          0.783386192594209,
          0.8973822176322701,
          0.7837226470949112,
          0.7798834957549349,
          0.8264137518157819,
          0.7432730488875777,
          0.7742201349354548,
          0.776172245459635,
          0.7743726479880114,
          0.790322146082087,
          0.8441249919116725
         ],
         "xaxis": "x",
         "y": [
          0.9899586767618015,
          0.9906087679304664,
          0.9859104368727717,
          0.9906432602201736,
          0.9892501636914078,
          0.9848299931651461,
          0.9905232425834326,
          0.9854730774898661,
          0.9885845491638111,
          0.9840018889841728,
          0.990592660765771,
          0.9896855452520452,
          0.9900528245967901,
          0.9900834810833029,
          0.9905413097559272,
          0.9907167600295145,
          0.9895783987372955,
          0.9894481047354141,
          0.9905848678808951,
          0.9873376080515941,
          0.9907314222203153,
          0.9907124560051594,
          0.9905588611527281,
          0.9906815274792689,
          0.9908873030280881,
          0.9902845825158126,
          0.9885282889130995,
          0.988044548560128,
          0.9911171476691599,
          0.9910412213608453,
          0.9883411287876644,
          0.9903888702154002,
          0.9917332615039692,
          0.9912551809972816,
          0.9906308046728457,
          0.9894116080012237,
          0.9906869000139847,
          0.9906877219963514,
          0.990409652737563,
          0.9918504426589758,
          0.9888752059909643,
          0.9913836732174299,
          0.9910803329388675,
          0.9904930786150832,
          0.9909563001606554,
          0.9912977304050827,
          0.9915533225601425,
          0.9915411989171721,
          0.9907950269442644,
          0.9902820067739946
         ],
         "yaxis": "y"
        },
        {
         "marker": {
          "color": [
           0,
           1,
           2,
           3,
           4,
           5,
           6,
           7,
           8,
           9,
           10,
           11,
           12,
           13,
           14,
           15,
           16,
           17,
           18,
           19,
           20,
           21,
           22,
           23,
           24,
           25,
           26,
           27,
           28,
           29,
           30,
           31,
           32,
           33,
           34,
           35,
           36,
           37,
           38,
           39,
           40,
           41,
           42,
           43,
           44,
           45,
           46,
           47,
           48,
           49
          ],
          "colorbar": {
           "title": {
            "text": "Trial"
           },
           "x": 1,
           "xpad": 40
          },
          "colorscale": [
           [
            0,
            "rgb(247,251,255)"
           ],
           [
            0.125,
            "rgb(222,235,247)"
           ],
           [
            0.25,
            "rgb(198,219,239)"
           ],
           [
            0.375,
            "rgb(158,202,225)"
           ],
           [
            0.5,
            "rgb(107,174,214)"
           ],
           [
            0.625,
            "rgb(66,146,198)"
           ],
           [
            0.75,
            "rgb(33,113,181)"
           ],
           [
            0.875,
            "rgb(8,81,156)"
           ],
           [
            1,
            "rgb(8,48,107)"
           ]
          ],
          "line": {
           "color": "Grey",
           "width": 0.5
          },
          "showscale": false
         },
         "mode": "markers",
         "name": "Feasible Trial",
         "showlegend": false,
         "type": "scatter",
         "x": [
          0.1540359659501924,
          0.0823143373099555,
          0.006966418981413735,
          0.16670486450654684,
          0.03345674213696821,
          0.0015981734133214873,
          0.07012604000905365,
          0.006680983417211186,
          0.012206206339370173,
          0.0011811892859183053,
          0.03705226374549954,
          0.1727836841924209,
          0.07302691346545277,
          0.19710771982607653,
          0.055551435522849836,
          0.09999942469097375,
          0.022293110195105006,
          0.10533629058696119,
          0.02583581746703754,
          0.002376033910540403,
          0.11337183004591952,
          0.11516312669275681,
          0.11575685026970811,
          0.04011126104282352,
          0.05328014803833269,
          0.052308678662391875,
          0.018904964847391098,
          0.013271503652644734,
          0.05378372759202083,
          0.05091391541796409,
          0.007225710207859426,
          0.051068370667499086,
          0.06813071256453435,
          0.029620675931811852,
          0.02813305756522984,
          0.018171324666262357,
          0.03815305895627766,
          0.031077702418750856,
          0.07840965293207357,
          0.0689356536665432,
          0.009540903512858393,
          0.07861336975640643,
          0.1459881628425259,
          0.07156405631041854,
          0.08968025598047992,
          0.06462659422569171,
          0.13942362282285128,
          0.14196907763479164,
          0.1473185686628267,
          0.17906619499923898
         ],
         "xaxis": "x2",
         "y": [
          0.9899586767618015,
          0.9906087679304664,
          0.9859104368727717,
          0.9906432602201736,
          0.9892501636914078,
          0.9848299931651461,
          0.9905232425834326,
          0.9854730774898661,
          0.9885845491638111,
          0.9840018889841728,
          0.990592660765771,
          0.9896855452520452,
          0.9900528245967901,
          0.9900834810833029,
          0.9905413097559272,
          0.9907167600295145,
          0.9895783987372955,
          0.9894481047354141,
          0.9905848678808951,
          0.9873376080515941,
          0.9907314222203153,
          0.9907124560051594,
          0.9905588611527281,
          0.9906815274792689,
          0.9908873030280881,
          0.9902845825158126,
          0.9885282889130995,
          0.988044548560128,
          0.9911171476691599,
          0.9910412213608453,
          0.9883411287876644,
          0.9903888702154002,
          0.9917332615039692,
          0.9912551809972816,
          0.9906308046728457,
          0.9894116080012237,
          0.9906869000139847,
          0.9906877219963514,
          0.990409652737563,
          0.9918504426589758,
          0.9888752059909643,
          0.9913836732174299,
          0.9910803329388675,
          0.9904930786150832,
          0.9909563001606554,
          0.9912977304050827,
          0.9915533225601425,
          0.9915411989171721,
          0.9907950269442644,
          0.9902820067739946
         ],
         "yaxis": "y2"
        },
        {
         "marker": {
          "color": [
           0,
           1,
           2,
           3,
           4,
           5,
           6,
           7,
           8,
           9,
           10,
           11,
           12,
           13,
           14,
           15,
           16,
           17,
           18,
           19,
           20,
           21,
           22,
           23,
           24,
           25,
           26,
           27,
           28,
           29,
           30,
           31,
           32,
           33,
           34,
           35,
           36,
           37,
           38,
           39,
           40,
           41,
           42,
           43,
           44,
           45,
           46,
           47,
           48,
           49
          ],
          "colorbar": {
           "title": {
            "text": "Trial"
           },
           "x": 1,
           "xpad": 40
          },
          "colorscale": [
           [
            0,
            "rgb(247,251,255)"
           ],
           [
            0.125,
            "rgb(222,235,247)"
           ],
           [
            0.25,
            "rgb(198,219,239)"
           ],
           [
            0.375,
            "rgb(158,202,225)"
           ],
           [
            0.5,
            "rgb(107,174,214)"
           ],
           [
            0.625,
            "rgb(66,146,198)"
           ],
           [
            0.75,
            "rgb(33,113,181)"
           ],
           [
            0.875,
            "rgb(8,81,156)"
           ],
           [
            1,
            "rgb(8,48,107)"
           ]
          ],
          "line": {
           "color": "Grey",
           "width": 0.5
          },
          "showscale": false
         },
         "mode": "markers",
         "name": "Feasible Trial",
         "showlegend": false,
         "type": "scatter",
         "x": [
          202,
          214,
          206,
          291,
          260,
          254,
          277,
          264,
          202,
          207,
          300,
          232,
          230,
          299,
          232,
          280,
          282,
          284,
          272,
          289,
          246,
          241,
          242,
          243,
          245,
          222,
          251,
          266,
          258,
          257,
          256,
          247,
          269,
          270,
          271,
          261,
          272,
          257,
          266,
          269,
          275,
          262,
          268,
          253,
          261,
          276,
          288,
          293,
          293,
          291
         ],
         "xaxis": "x3",
         "y": [
          0.9899586767618015,
          0.9906087679304664,
          0.9859104368727717,
          0.9906432602201736,
          0.9892501636914078,
          0.9848299931651461,
          0.9905232425834326,
          0.9854730774898661,
          0.9885845491638111,
          0.9840018889841728,
          0.990592660765771,
          0.9896855452520452,
          0.9900528245967901,
          0.9900834810833029,
          0.9905413097559272,
          0.9907167600295145,
          0.9895783987372955,
          0.9894481047354141,
          0.9905848678808951,
          0.9873376080515941,
          0.9907314222203153,
          0.9907124560051594,
          0.9905588611527281,
          0.9906815274792689,
          0.9908873030280881,
          0.9902845825158126,
          0.9885282889130995,
          0.988044548560128,
          0.9911171476691599,
          0.9910412213608453,
          0.9883411287876644,
          0.9903888702154002,
          0.9917332615039692,
          0.9912551809972816,
          0.9906308046728457,
          0.9894116080012237,
          0.9906869000139847,
          0.9906877219963514,
          0.990409652737563,
          0.9918504426589758,
          0.9888752059909643,
          0.9913836732174299,
          0.9910803329388675,
          0.9904930786150832,
          0.9909563001606554,
          0.9912977304050827,
          0.9915533225601425,
          0.9915411989171721,
          0.9907950269442644,
          0.9902820067739946
         ],
         "yaxis": "y3"
        },
        {
         "marker": {
          "color": [
           0,
           1,
           2,
           3,
           4,
           5,
           6,
           7,
           8,
           9,
           10,
           11,
           12,
           13,
           14,
           15,
           16,
           17,
           18,
           19,
           20,
           21,
           22,
           23,
           24,
           25,
           26,
           27,
           28,
           29,
           30,
           31,
           32,
           33,
           34,
           35,
           36,
           37,
           38,
           39,
           40,
           41,
           42,
           43,
           44,
           45,
           46,
           47,
           48,
           49
          ],
          "colorbar": {
           "title": {
            "text": "Trial"
           },
           "x": 1,
           "xpad": 40
          },
          "colorscale": [
           [
            0,
            "rgb(247,251,255)"
           ],
           [
            0.125,
            "rgb(222,235,247)"
           ],
           [
            0.25,
            "rgb(198,219,239)"
           ],
           [
            0.375,
            "rgb(158,202,225)"
           ],
           [
            0.5,
            "rgb(107,174,214)"
           ],
           [
            0.625,
            "rgb(66,146,198)"
           ],
           [
            0.75,
            "rgb(33,113,181)"
           ],
           [
            0.875,
            "rgb(8,81,156)"
           ],
           [
            1,
            "rgb(8,48,107)"
           ]
          ],
          "line": {
           "color": "Grey",
           "width": 0.5
          },
          "showscale": false
         },
         "mode": "markers",
         "name": "Feasible Trial",
         "showlegend": false,
         "type": "scatter",
         "x": [
          13,
          7,
          10,
          13,
          8,
          7,
          5,
          6,
          6,
          12,
          15,
          9,
          12,
          15,
          11,
          9,
          13,
          10,
          14,
          11,
          9,
          9,
          9,
          9,
          8,
          8,
          8,
          7,
          11,
          11,
          11,
          12,
          10,
          10,
          10,
          11,
          10,
          10,
          12,
          13,
          13,
          14,
          14,
          14,
          13,
          15,
          15,
          15,
          15,
          14
         ],
         "xaxis": "x4",
         "y": [
          0.9899586767618015,
          0.9906087679304664,
          0.9859104368727717,
          0.9906432602201736,
          0.9892501636914078,
          0.9848299931651461,
          0.9905232425834326,
          0.9854730774898661,
          0.9885845491638111,
          0.9840018889841728,
          0.990592660765771,
          0.9896855452520452,
          0.9900528245967901,
          0.9900834810833029,
          0.9905413097559272,
          0.9907167600295145,
          0.9895783987372955,
          0.9894481047354141,
          0.9905848678808951,
          0.9873376080515941,
          0.9907314222203153,
          0.9907124560051594,
          0.9905588611527281,
          0.9906815274792689,
          0.9908873030280881,
          0.9902845825158126,
          0.9885282889130995,
          0.988044548560128,
          0.9911171476691599,
          0.9910412213608453,
          0.9883411287876644,
          0.9903888702154002,
          0.9917332615039692,
          0.9912551809972816,
          0.9906308046728457,
          0.9894116080012237,
          0.9906869000139847,
          0.9906877219963514,
          0.990409652737563,
          0.9918504426589758,
          0.9888752059909643,
          0.9913836732174299,
          0.9910803329388675,
          0.9904930786150832,
          0.9909563001606554,
          0.9912977304050827,
          0.9915533225601425,
          0.9915411989171721,
          0.9907950269442644,
          0.9902820067739946
         ],
         "yaxis": "y4"
        },
        {
         "marker": {
          "color": [
           0,
           1,
           2,
           3,
           4,
           5,
           6,
           7,
           8,
           9,
           10,
           11,
           12,
           13,
           14,
           15,
           16,
           17,
           18,
           19,
           20,
           21,
           22,
           23,
           24,
           25,
           26,
           27,
           28,
           29,
           30,
           31,
           32,
           33,
           34,
           35,
           36,
           37,
           38,
           39,
           40,
           41,
           42,
           43,
           44,
           45,
           46,
           47,
           48,
           49
          ],
          "colorbar": {
           "title": {
            "text": "Trial"
           },
           "x": 1,
           "xpad": 40
          },
          "colorscale": [
           [
            0,
            "rgb(247,251,255)"
           ],
           [
            0.125,
            "rgb(222,235,247)"
           ],
           [
            0.25,
            "rgb(198,219,239)"
           ],
           [
            0.375,
            "rgb(158,202,225)"
           ],
           [
            0.5,
            "rgb(107,174,214)"
           ],
           [
            0.625,
            "rgb(66,146,198)"
           ],
           [
            0.75,
            "rgb(33,113,181)"
           ],
           [
            0.875,
            "rgb(8,81,156)"
           ],
           [
            1,
            "rgb(8,48,107)"
           ]
          ],
          "line": {
           "color": "Grey",
           "width": 0.5
          },
          "showscale": false
         },
         "mode": "markers",
         "name": "Feasible Trial",
         "showlegend": false,
         "type": "scatter",
         "x": [
          16,
          17,
          18,
          14,
          32,
          23,
          41,
          35,
          41,
          30,
          10,
          10,
          23,
          49,
          18,
          24,
          26,
          13,
          23,
          27,
          20,
          21,
          22,
          21,
          27,
          27,
          34,
          29,
          39,
          38,
          39,
          48,
          46,
          45,
          46,
          45,
          38,
          45,
          43,
          37,
          36,
          42,
          42,
          50,
          47,
          40,
          43,
          43,
          43,
          33
         ],
         "xaxis": "x5",
         "y": [
          0.9899586767618015,
          0.9906087679304664,
          0.9859104368727717,
          0.9906432602201736,
          0.9892501636914078,
          0.9848299931651461,
          0.9905232425834326,
          0.9854730774898661,
          0.9885845491638111,
          0.9840018889841728,
          0.990592660765771,
          0.9896855452520452,
          0.9900528245967901,
          0.9900834810833029,
          0.9905413097559272,
          0.9907167600295145,
          0.9895783987372955,
          0.9894481047354141,
          0.9905848678808951,
          0.9873376080515941,
          0.9907314222203153,
          0.9907124560051594,
          0.9905588611527281,
          0.9906815274792689,
          0.9908873030280881,
          0.9902845825158126,
          0.9885282889130995,
          0.988044548560128,
          0.9911171476691599,
          0.9910412213608453,
          0.9883411287876644,
          0.9903888702154002,
          0.9917332615039692,
          0.9912551809972816,
          0.9906308046728457,
          0.9894116080012237,
          0.9906869000139847,
          0.9906877219963514,
          0.990409652737563,
          0.9918504426589758,
          0.9888752059909643,
          0.9913836732174299,
          0.9910803329388675,
          0.9904930786150832,
          0.9909563001606554,
          0.9912977304050827,
          0.9915533225601425,
          0.9915411989171721,
          0.9907950269442644,
          0.9902820067739946
         ],
         "yaxis": "y5"
        },
        {
         "marker": {
          "color": [
           0,
           1,
           2,
           3,
           4,
           5,
           6,
           7,
           8,
           9,
           10,
           11,
           12,
           13,
           14,
           15,
           16,
           17,
           18,
           19,
           20,
           21,
           22,
           23,
           24,
           25,
           26,
           27,
           28,
           29,
           30,
           31,
           32,
           33,
           34,
           35,
           36,
           37,
           38,
           39,
           40,
           41,
           42,
           43,
           44,
           45,
           46,
           47,
           48,
           49
          ],
          "colorbar": {
           "title": {
            "text": "Trial"
           },
           "x": 1,
           "xpad": 40
          },
          "colorscale": [
           [
            0,
            "rgb(247,251,255)"
           ],
           [
            0.125,
            "rgb(222,235,247)"
           ],
           [
            0.25,
            "rgb(198,219,239)"
           ],
           [
            0.375,
            "rgb(158,202,225)"
           ],
           [
            0.5,
            "rgb(107,174,214)"
           ],
           [
            0.625,
            "rgb(66,146,198)"
           ],
           [
            0.75,
            "rgb(33,113,181)"
           ],
           [
            0.875,
            "rgb(8,81,156)"
           ],
           [
            1,
            "rgb(8,48,107)"
           ]
          ],
          "line": {
           "color": "Grey",
           "width": 0.5
          },
          "showscale": false
         },
         "mode": "markers",
         "name": "Feasible Trial",
         "showlegend": false,
         "type": "scatter",
         "x": [
          175,
          294,
          158,
          290,
          152,
          285,
          128,
          114,
          278,
          121,
          232,
          240,
          299,
          243,
          264,
          209,
          201,
          204,
          218,
          255,
          179,
          182,
          181,
          181,
          147,
          142,
          100,
          162,
          218,
          220,
          222,
          142,
          171,
          190,
          167,
          192,
          191,
          216,
          229,
          195,
          193,
          169,
          168,
          158,
          169,
          209,
          134,
          123,
          134,
          130
         ],
         "xaxis": "x6",
         "y": [
          0.9899586767618015,
          0.9906087679304664,
          0.9859104368727717,
          0.9906432602201736,
          0.9892501636914078,
          0.9848299931651461,
          0.9905232425834326,
          0.9854730774898661,
          0.9885845491638111,
          0.9840018889841728,
          0.990592660765771,
          0.9896855452520452,
          0.9900528245967901,
          0.9900834810833029,
          0.9905413097559272,
          0.9907167600295145,
          0.9895783987372955,
          0.9894481047354141,
          0.9905848678808951,
          0.9873376080515941,
          0.9907314222203153,
          0.9907124560051594,
          0.9905588611527281,
          0.9906815274792689,
          0.9908873030280881,
          0.9902845825158126,
          0.9885282889130995,
          0.988044548560128,
          0.9911171476691599,
          0.9910412213608453,
          0.9883411287876644,
          0.9903888702154002,
          0.9917332615039692,
          0.9912551809972816,
          0.9906308046728457,
          0.9894116080012237,
          0.9906869000139847,
          0.9906877219963514,
          0.990409652737563,
          0.9918504426589758,
          0.9888752059909643,
          0.9913836732174299,
          0.9910803329388675,
          0.9904930786150832,
          0.9909563001606554,
          0.9912977304050827,
          0.9915533225601425,
          0.9915411989171721,
          0.9907950269442644,
          0.9902820067739946
         ],
         "yaxis": "y6"
        },
        {
         "marker": {
          "color": [
           0,
           1,
           2,
           3,
           4,
           5,
           6,
           7,
           8,
           9,
           10,
           11,
           12,
           13,
           14,
           15,
           16,
           17,
           18,
           19,
           20,
           21,
           22,
           23,
           24,
           25,
           26,
           27,
           28,
           29,
           30,
           31,
           32,
           33,
           34,
           35,
           36,
           37,
           38,
           39,
           40,
           41,
           42,
           43,
           44,
           45,
           46,
           47,
           48,
           49
          ],
          "colorbar": {
           "title": {
            "text": "Trial"
           },
           "x": 1,
           "xpad": 40
          },
          "colorscale": [
           [
            0,
            "rgb(247,251,255)"
           ],
           [
            0.125,
            "rgb(222,235,247)"
           ],
           [
            0.25,
            "rgb(198,219,239)"
           ],
           [
            0.375,
            "rgb(158,202,225)"
           ],
           [
            0.5,
            "rgb(107,174,214)"
           ],
           [
            0.625,
            "rgb(66,146,198)"
           ],
           [
            0.75,
            "rgb(33,113,181)"
           ],
           [
            0.875,
            "rgb(8,81,156)"
           ],
           [
            1,
            "rgb(8,48,107)"
           ]
          ],
          "line": {
           "color": "Grey",
           "width": 0.5
          },
          "showscale": false
         },
         "mode": "markers",
         "name": "Feasible Trial",
         "showlegend": false,
         "type": "scatter",
         "x": [
          4912,
          39,
          809,
          2509,
          143,
          24,
          32,
          58,
          52,
          1301,
          28527,
          311,
          2661,
          9804,
          1077,
          255,
          2638,
          350,
          6801,
          559,
          203,
          225,
          229,
          211,
          199,
          180,
          186,
          88,
          551,
          474,
          498,
          1553,
          492,
          444,
          473,
          702,
          423,
          615,
          1014,
          1946,
          1911,
          3740,
          3853,
          3697,
          1922,
          7843,
          6668,
          7109,
          11332,
          6001
         ],
         "xaxis": "x7",
         "y": [
          0.9899586767618015,
          0.9906087679304664,
          0.9859104368727717,
          0.9906432602201736,
          0.9892501636914078,
          0.9848299931651461,
          0.9905232425834326,
          0.9854730774898661,
          0.9885845491638111,
          0.9840018889841728,
          0.990592660765771,
          0.9896855452520452,
          0.9900528245967901,
          0.9900834810833029,
          0.9905413097559272,
          0.9907167600295145,
          0.9895783987372955,
          0.9894481047354141,
          0.9905848678808951,
          0.9873376080515941,
          0.9907314222203153,
          0.9907124560051594,
          0.9905588611527281,
          0.9906815274792689,
          0.9908873030280881,
          0.9902845825158126,
          0.9885282889130995,
          0.988044548560128,
          0.9911171476691599,
          0.9910412213608453,
          0.9883411287876644,
          0.9903888702154002,
          0.9917332615039692,
          0.9912551809972816,
          0.9906308046728457,
          0.9894116080012237,
          0.9906869000139847,
          0.9906877219963514,
          0.990409652737563,
          0.9918504426589758,
          0.9888752059909643,
          0.9913836732174299,
          0.9910803329388675,
          0.9904930786150832,
          0.9909563001606554,
          0.9912977304050827,
          0.9915533225601425,
          0.9915411989171721,
          0.9907950269442644,
          0.9902820067739946
         ],
         "yaxis": "y7"
        },
        {
         "marker": {
          "color": [
           0,
           1,
           2,
           3,
           4,
           5,
           6,
           7,
           8,
           9,
           10,
           11,
           12,
           13,
           14,
           15,
           16,
           17,
           18,
           19,
           20,
           21,
           22,
           23,
           24,
           25,
           26,
           27,
           28,
           29,
           30,
           31,
           32,
           33,
           34,
           35,
           36,
           37,
           38,
           39,
           40,
           41,
           42,
           43,
           44,
           45,
           46,
           47,
           48,
           49
          ],
          "colorbar": {
           "title": {
            "text": "Trial"
           },
           "x": 1,
           "xpad": 40
          },
          "colorscale": [
           [
            0,
            "rgb(247,251,255)"
           ],
           [
            0.125,
            "rgb(222,235,247)"
           ],
           [
            0.25,
            "rgb(198,219,239)"
           ],
           [
            0.375,
            "rgb(158,202,225)"
           ],
           [
            0.5,
            "rgb(107,174,214)"
           ],
           [
            0.625,
            "rgb(66,146,198)"
           ],
           [
            0.75,
            "rgb(33,113,181)"
           ],
           [
            0.875,
            "rgb(8,81,156)"
           ],
           [
            1,
            "rgb(8,48,107)"
           ]
          ],
          "line": {
           "color": "Grey",
           "width": 0.5
          },
          "showscale": false
         },
         "mode": "markers",
         "name": "Feasible Trial",
         "showlegend": false,
         "type": "scatter",
         "x": [
          0.6011150117432088,
          0.2912291401980419,
          0.6075448519014384,
          0.4951769101112702,
          0.9394989415641891,
          0.3567533266935893,
          0.7068573438476171,
          0.32518332202674705,
          0.5227328293819941,
          0.7555511385430487,
          0.09696877974827967,
          0.2207895950115486,
          0.022412942300710892,
          0.3339884091604406,
          0.4213947821297641,
          0.21328333563112234,
          0.1833053558140757,
          0.48992125446617124,
          0.9418155853064935,
          0.13740306729154583,
          0.8336672016689826,
          0.8597022329559757,
          0.8291885190386507,
          0.8394469327543829,
          0.9852077475702733,
          0.6893874076008039,
          0.9512757747688687,
          0.998496687549421,
          0.7754234250117369,
          0.7652006646681645,
          0.6387218424595917,
          0.7942822781338149,
          0.8934597065778148,
          0.9110787990498974,
          0.745166611805441,
          0.8985447327885409,
          0.8960568047063548,
          0.5726272855490886,
          0.6550439848724889,
          0.7592044537020304,
          0.9025346376260466,
          0.7631107952327086,
          0.7052110711927109,
          0.8031351258369033,
          0.5855044515723715,
          0.7418304349104129,
          0.7317005863056164,
          0.7300900385351266,
          0.6702390288553977,
          0.5485168660831291
         ],
         "xaxis": "x8",
         "y": [
          0.9899586767618015,
          0.9906087679304664,
          0.9859104368727717,
          0.9906432602201736,
          0.9892501636914078,
          0.9848299931651461,
          0.9905232425834326,
          0.9854730774898661,
          0.9885845491638111,
          0.9840018889841728,
          0.990592660765771,
          0.9896855452520452,
          0.9900528245967901,
          0.9900834810833029,
          0.9905413097559272,
          0.9907167600295145,
          0.9895783987372955,
          0.9894481047354141,
          0.9905848678808951,
          0.9873376080515941,
          0.9907314222203153,
          0.9907124560051594,
          0.9905588611527281,
          0.9906815274792689,
          0.9908873030280881,
          0.9902845825158126,
          0.9885282889130995,
          0.988044548560128,
          0.9911171476691599,
          0.9910412213608453,
          0.9883411287876644,
          0.9903888702154002,
          0.9917332615039692,
          0.9912551809972816,
          0.9906308046728457,
          0.9894116080012237,
          0.9906869000139847,
          0.9906877219963514,
          0.990409652737563,
          0.9918504426589758,
          0.9888752059909643,
          0.9913836732174299,
          0.9910803329388675,
          0.9904930786150832,
          0.9909563001606554,
          0.9912977304050827,
          0.9915533225601425,
          0.9915411989171721,
          0.9907950269442644,
          0.9902820067739946
         ],
         "yaxis": "y8"
        },
        {
         "marker": {
          "color": [
           0,
           1,
           2,
           3,
           4,
           5,
           6,
           7,
           8,
           9,
           10,
           11,
           12,
           13,
           14,
           15,
           16,
           17,
           18,
           19,
           20,
           21,
           22,
           23,
           24,
           25,
           26,
           27,
           28,
           29,
           30,
           31,
           32,
           33,
           34,
           35,
           36,
           37,
           38,
           39,
           40,
           41,
           42,
           43,
           44,
           45,
           46,
           47,
           48,
           49
          ],
          "colorbar": {
           "title": {
            "text": "Trial"
           },
           "x": 1,
           "xpad": 40
          },
          "colorscale": [
           [
            0,
            "rgb(247,251,255)"
           ],
           [
            0.125,
            "rgb(222,235,247)"
           ],
           [
            0.25,
            "rgb(198,219,239)"
           ],
           [
            0.375,
            "rgb(158,202,225)"
           ],
           [
            0.5,
            "rgb(107,174,214)"
           ],
           [
            0.625,
            "rgb(66,146,198)"
           ],
           [
            0.75,
            "rgb(33,113,181)"
           ],
           [
            0.875,
            "rgb(8,81,156)"
           ],
           [
            1,
            "rgb(8,48,107)"
           ]
          ],
          "line": {
           "color": "Grey",
           "width": 0.5
          },
          "showscale": false
         },
         "mode": "markers",
         "name": "Feasible Trial",
         "showlegend": false,
         "type": "scatter",
         "x": [
          0.7080725777960455,
          0.6118528947223795,
          0.17052412368729153,
          0.034388521115218396,
          0.8948273504276488,
          0.28093450968738076,
          0.7290071680409873,
          0.7296061783380641,
          0.42754101835854963,
          0.22879816549162246,
          0.012311169564937496,
          0.5056897534884434,
          0.48997608672634213,
          0.6025298802359166,
          0.9772664655950782,
          0.004967741092172719,
          0.000390266363826032,
          0.1254428368098464,
          0.34978829279646656,
          0.0703681077720224,
          0.14621486123623179,
          0.11680839062494335,
          0.1875017412054502,
          0.28673442942005567,
          0.10951470930950571,
          0.095916666680813,
          0.31520767804083455,
          0.21021440165556673,
          0.3887312125000591,
          0.36447283391348584,
          0.4018212198540198,
          0.38843700828640604,
          0.5099305406959089,
          0.5943915461699191,
          0.609118316224049,
          0.5484016287514009,
          0.4596894043462894,
          0.7969247541222452,
          0.6696740356225095,
          0.538402350448647,
          0.5495602493803022,
          0.6600484741189663,
          0.7844758296464668,
          0.6644124490557121,
          0.5489681695361448,
          0.660258357420742,
          0.6812689202242683,
          0.6763766467860761,
          0.7864407239423744,
          0.7142113404840124
         ],
         "xaxis": "x9",
         "y": [
          0.9899586767618015,
          0.9906087679304664,
          0.9859104368727717,
          0.9906432602201736,
          0.9892501636914078,
          0.9848299931651461,
          0.9905232425834326,
          0.9854730774898661,
          0.9885845491638111,
          0.9840018889841728,
          0.990592660765771,
          0.9896855452520452,
          0.9900528245967901,
          0.9900834810833029,
          0.9905413097559272,
          0.9907167600295145,
          0.9895783987372955,
          0.9894481047354141,
          0.9905848678808951,
          0.9873376080515941,
          0.9907314222203153,
          0.9907124560051594,
          0.9905588611527281,
          0.9906815274792689,
          0.9908873030280881,
          0.9902845825158126,
          0.9885282889130995,
          0.988044548560128,
          0.9911171476691599,
          0.9910412213608453,
          0.9883411287876644,
          0.9903888702154002,
          0.9917332615039692,
          0.9912551809972816,
          0.9906308046728457,
          0.9894116080012237,
          0.9906869000139847,
          0.9906877219963514,
          0.990409652737563,
          0.9918504426589758,
          0.9888752059909643,
          0.9913836732174299,
          0.9910803329388675,
          0.9904930786150832,
          0.9909563001606554,
          0.9912977304050827,
          0.9915533225601425,
          0.9915411989171721,
          0.9907950269442644,
          0.9902820067739946
         ],
         "yaxis": "y9"
        },
        {
         "marker": {
          "color": [
           0,
           1,
           2,
           3,
           4,
           5,
           6,
           7,
           8,
           9,
           10,
           11,
           12,
           13,
           14,
           15,
           16,
           17,
           18,
           19,
           20,
           21,
           22,
           23,
           24,
           25,
           26,
           27,
           28,
           29,
           30,
           31,
           32,
           33,
           34,
           35,
           36,
           37,
           38,
           39,
           40,
           41,
           42,
           43,
           44,
           45,
           46,
           47,
           48,
           49
          ],
          "colorbar": {
           "title": {
            "text": "Trial"
           },
           "x": 1,
           "xpad": 40
          },
          "colorscale": [
           [
            0,
            "rgb(247,251,255)"
           ],
           [
            0.125,
            "rgb(222,235,247)"
           ],
           [
            0.25,
            "rgb(198,219,239)"
           ],
           [
            0.375,
            "rgb(158,202,225)"
           ],
           [
            0.5,
            "rgb(107,174,214)"
           ],
           [
            0.625,
            "rgb(66,146,198)"
           ],
           [
            0.75,
            "rgb(33,113,181)"
           ],
           [
            0.875,
            "rgb(8,81,156)"
           ],
           [
            1,
            "rgb(8,48,107)"
           ]
          ],
          "line": {
           "color": "Grey",
           "width": 0.5
          },
          "showscale": false
         },
         "mode": "markers",
         "name": "Feasible Trial",
         "showlegend": false,
         "type": "scatter",
         "x": [
          0.8311989040672406,
          0.8608484485919076,
          0.9028468876827224,
          0.9368466053024314,
          0.8369708911051055,
          0.8777354579378964,
          0.8397431363068345,
          0.8661796049705299,
          0.9122554395138993,
          0.9815132947852186,
          0.9575685191307414,
          0.9378635258468903,
          0.9992033063494871,
          0.8727960964331258,
          0.9280855716953249,
          0.8059290295824934,
          0.8063637789425023,
          0.8024511835587035,
          0.9576587534894431,
          0.8853815964251525,
          0.9249014768078826,
          0.9400217938028025,
          0.9142090750083698,
          0.961396622812844,
          0.9212682172938867,
          0.8959231215140515,
          0.9196812684533249,
          0.8959723669465227,
          0.849046887210901,
          0.8487029108957544,
          0.8517515219569933,
          0.8234036145355752,
          0.8516532776378336,
          0.8549593043884222,
          0.8545649753234943,
          0.8225395307005212,
          0.8432051002421093,
          0.8239316108848899,
          0.8583721742856092,
          0.8841796423370363,
          0.8842574915905399,
          0.8456625477247725,
          0.8672292922393668,
          0.8649583996233796,
          0.8328670213729291,
          0.8831679923202329,
          0.8806363349122295,
          0.904445326536626,
          0.9042228474562827,
          0.9029607568337342
         ],
         "xaxis": "x10",
         "y": [
          0.9899586767618015,
          0.9906087679304664,
          0.9859104368727717,
          0.9906432602201736,
          0.9892501636914078,
          0.9848299931651461,
          0.9905232425834326,
          0.9854730774898661,
          0.9885845491638111,
          0.9840018889841728,
          0.990592660765771,
          0.9896855452520452,
          0.9900528245967901,
          0.9900834810833029,
          0.9905413097559272,
          0.9907167600295145,
          0.9895783987372955,
          0.9894481047354141,
          0.9905848678808951,
          0.9873376080515941,
          0.9907314222203153,
          0.9907124560051594,
          0.9905588611527281,
          0.9906815274792689,
          0.9908873030280881,
          0.9902845825158126,
          0.9885282889130995,
          0.988044548560128,
          0.9911171476691599,
          0.9910412213608453,
          0.9883411287876644,
          0.9903888702154002,
          0.9917332615039692,
          0.9912551809972816,
          0.9906308046728457,
          0.9894116080012237,
          0.9906869000139847,
          0.9906877219963514,
          0.990409652737563,
          0.9918504426589758,
          0.9888752059909643,
          0.9913836732174299,
          0.9910803329388675,
          0.9904930786150832,
          0.9909563001606554,
          0.9912977304050827,
          0.9915533225601425,
          0.9915411989171721,
          0.9907950269442644,
          0.9902820067739946
         ],
         "yaxis": "y10"
        },
        {
         "marker": {
          "color": [
           0,
           1,
           2,
           3,
           4,
           5,
           6,
           7,
           8,
           9,
           10,
           11,
           12,
           13,
           14,
           15,
           16,
           17,
           18,
           19,
           20,
           21,
           22,
           23,
           24,
           25,
           26,
           27,
           28,
           29,
           30,
           31,
           32,
           33,
           34,
           35,
           36,
           37,
           38,
           39,
           40,
           41,
           42,
           43,
           44,
           45,
           46,
           47,
           48,
           49
          ],
          "colorbar": {
           "title": {
            "text": "Trial"
           },
           "x": 1,
           "xpad": 40
          },
          "colorscale": [
           [
            0,
            "rgb(247,251,255)"
           ],
           [
            0.125,
            "rgb(222,235,247)"
           ],
           [
            0.25,
            "rgb(198,219,239)"
           ],
           [
            0.375,
            "rgb(158,202,225)"
           ],
           [
            0.5,
            "rgb(107,174,214)"
           ],
           [
            0.625,
            "rgb(66,146,198)"
           ],
           [
            0.75,
            "rgb(33,113,181)"
           ],
           [
            0.875,
            "rgb(8,81,156)"
           ],
           [
            1,
            "rgb(8,48,107)"
           ]
          ],
          "line": {
           "color": "Grey",
           "width": 0.5
          },
          "showscale": false
         },
         "mode": "markers",
         "name": "Feasible Trial",
         "showlegend": false,
         "type": "scatter",
         "x": [
          0,
          4,
          4,
          3,
          7,
          2,
          0,
          0,
          6,
          1,
          3,
          4,
          5,
          3,
          5,
          2,
          2,
          2,
          1,
          3,
          1,
          1,
          1,
          1,
          2,
          2,
          2,
          2,
          0,
          0,
          0,
          0,
          0,
          0,
          0,
          0,
          0,
          0,
          1,
          0,
          7,
          0,
          0,
          1,
          0,
          1,
          1,
          1,
          1,
          1
         ],
         "xaxis": "x11",
         "y": [
          0.9899586767618015,
          0.9906087679304664,
          0.9859104368727717,
          0.9906432602201736,
          0.9892501636914078,
          0.9848299931651461,
          0.9905232425834326,
          0.9854730774898661,
          0.9885845491638111,
          0.9840018889841728,
          0.990592660765771,
          0.9896855452520452,
          0.9900528245967901,
          0.9900834810833029,
          0.9905413097559272,
          0.9907167600295145,
          0.9895783987372955,
          0.9894481047354141,
          0.9905848678808951,
          0.9873376080515941,
          0.9907314222203153,
          0.9907124560051594,
          0.9905588611527281,
          0.9906815274792689,
          0.9908873030280881,
          0.9902845825158126,
          0.9885282889130995,
          0.988044548560128,
          0.9911171476691599,
          0.9910412213608453,
          0.9883411287876644,
          0.9903888702154002,
          0.9917332615039692,
          0.9912551809972816,
          0.9906308046728457,
          0.9894116080012237,
          0.9906869000139847,
          0.9906877219963514,
          0.990409652737563,
          0.9918504426589758,
          0.9888752059909643,
          0.9913836732174299,
          0.9910803329388675,
          0.9904930786150832,
          0.9909563001606554,
          0.9912977304050827,
          0.9915533225601425,
          0.9915411989171721,
          0.9907950269442644,
          0.9902820067739946
         ],
         "yaxis": "y11"
        }
       ],
       "layout": {
        "template": {
         "data": {
          "bar": [
           {
            "error_x": {
             "color": "#2a3f5f"
            },
            "error_y": {
             "color": "#2a3f5f"
            },
            "marker": {
             "line": {
              "color": "#E5ECF6",
              "width": 0.5
             },
             "pattern": {
              "fillmode": "overlay",
              "size": 10,
              "solidity": 0.2
             }
            },
            "type": "bar"
           }
          ],
          "barpolar": [
           {
            "marker": {
             "line": {
              "color": "#E5ECF6",
              "width": 0.5
             },
             "pattern": {
              "fillmode": "overlay",
              "size": 10,
              "solidity": 0.2
             }
            },
            "type": "barpolar"
           }
          ],
          "carpet": [
           {
            "aaxis": {
             "endlinecolor": "#2a3f5f",
             "gridcolor": "white",
             "linecolor": "white",
             "minorgridcolor": "white",
             "startlinecolor": "#2a3f5f"
            },
            "baxis": {
             "endlinecolor": "#2a3f5f",
             "gridcolor": "white",
             "linecolor": "white",
             "minorgridcolor": "white",
             "startlinecolor": "#2a3f5f"
            },
            "type": "carpet"
           }
          ],
          "choropleth": [
           {
            "colorbar": {
             "outlinewidth": 0,
             "ticks": ""
            },
            "type": "choropleth"
           }
          ],
          "contour": [
           {
            "colorbar": {
             "outlinewidth": 0,
             "ticks": ""
            },
            "colorscale": [
             [
              0,
              "#0d0887"
             ],
             [
              0.1111111111111111,
              "#46039f"
             ],
             [
              0.2222222222222222,
              "#7201a8"
             ],
             [
              0.3333333333333333,
              "#9c179e"
             ],
             [
              0.4444444444444444,
              "#bd3786"
             ],
             [
              0.5555555555555556,
              "#d8576b"
             ],
             [
              0.6666666666666666,
              "#ed7953"
             ],
             [
              0.7777777777777778,
              "#fb9f3a"
             ],
             [
              0.8888888888888888,
              "#fdca26"
             ],
             [
              1,
              "#f0f921"
             ]
            ],
            "type": "contour"
           }
          ],
          "contourcarpet": [
           {
            "colorbar": {
             "outlinewidth": 0,
             "ticks": ""
            },
            "type": "contourcarpet"
           }
          ],
          "heatmap": [
           {
            "colorbar": {
             "outlinewidth": 0,
             "ticks": ""
            },
            "colorscale": [
             [
              0,
              "#0d0887"
             ],
             [
              0.1111111111111111,
              "#46039f"
             ],
             [
              0.2222222222222222,
              "#7201a8"
             ],
             [
              0.3333333333333333,
              "#9c179e"
             ],
             [
              0.4444444444444444,
              "#bd3786"
             ],
             [
              0.5555555555555556,
              "#d8576b"
             ],
             [
              0.6666666666666666,
              "#ed7953"
             ],
             [
              0.7777777777777778,
              "#fb9f3a"
             ],
             [
              0.8888888888888888,
              "#fdca26"
             ],
             [
              1,
              "#f0f921"
             ]
            ],
            "type": "heatmap"
           }
          ],
          "heatmapgl": [
           {
            "colorbar": {
             "outlinewidth": 0,
             "ticks": ""
            },
            "colorscale": [
             [
              0,
              "#0d0887"
             ],
             [
              0.1111111111111111,
              "#46039f"
             ],
             [
              0.2222222222222222,
              "#7201a8"
             ],
             [
              0.3333333333333333,
              "#9c179e"
             ],
             [
              0.4444444444444444,
              "#bd3786"
             ],
             [
              0.5555555555555556,
              "#d8576b"
             ],
             [
              0.6666666666666666,
              "#ed7953"
             ],
             [
              0.7777777777777778,
              "#fb9f3a"
             ],
             [
              0.8888888888888888,
              "#fdca26"
             ],
             [
              1,
              "#f0f921"
             ]
            ],
            "type": "heatmapgl"
           }
          ],
          "histogram": [
           {
            "marker": {
             "pattern": {
              "fillmode": "overlay",
              "size": 10,
              "solidity": 0.2
             }
            },
            "type": "histogram"
           }
          ],
          "histogram2d": [
           {
            "colorbar": {
             "outlinewidth": 0,
             "ticks": ""
            },
            "colorscale": [
             [
              0,
              "#0d0887"
             ],
             [
              0.1111111111111111,
              "#46039f"
             ],
             [
              0.2222222222222222,
              "#7201a8"
             ],
             [
              0.3333333333333333,
              "#9c179e"
             ],
             [
              0.4444444444444444,
              "#bd3786"
             ],
             [
              0.5555555555555556,
              "#d8576b"
             ],
             [
              0.6666666666666666,
              "#ed7953"
             ],
             [
              0.7777777777777778,
              "#fb9f3a"
             ],
             [
              0.8888888888888888,
              "#fdca26"
             ],
             [
              1,
              "#f0f921"
             ]
            ],
            "type": "histogram2d"
           }
          ],
          "histogram2dcontour": [
           {
            "colorbar": {
             "outlinewidth": 0,
             "ticks": ""
            },
            "colorscale": [
             [
              0,
              "#0d0887"
             ],
             [
              0.1111111111111111,
              "#46039f"
             ],
             [
              0.2222222222222222,
              "#7201a8"
             ],
             [
              0.3333333333333333,
              "#9c179e"
             ],
             [
              0.4444444444444444,
              "#bd3786"
             ],
             [
              0.5555555555555556,
              "#d8576b"
             ],
             [
              0.6666666666666666,
              "#ed7953"
             ],
             [
              0.7777777777777778,
              "#fb9f3a"
             ],
             [
              0.8888888888888888,
              "#fdca26"
             ],
             [
              1,
              "#f0f921"
             ]
            ],
            "type": "histogram2dcontour"
           }
          ],
          "mesh3d": [
           {
            "colorbar": {
             "outlinewidth": 0,
             "ticks": ""
            },
            "type": "mesh3d"
           }
          ],
          "parcoords": [
           {
            "line": {
             "colorbar": {
              "outlinewidth": 0,
              "ticks": ""
             }
            },
            "type": "parcoords"
           }
          ],
          "pie": [
           {
            "automargin": true,
            "type": "pie"
           }
          ],
          "scatter": [
           {
            "fillpattern": {
             "fillmode": "overlay",
             "size": 10,
             "solidity": 0.2
            },
            "type": "scatter"
           }
          ],
          "scatter3d": [
           {
            "line": {
             "colorbar": {
              "outlinewidth": 0,
              "ticks": ""
             }
            },
            "marker": {
             "colorbar": {
              "outlinewidth": 0,
              "ticks": ""
             }
            },
            "type": "scatter3d"
           }
          ],
          "scattercarpet": [
           {
            "marker": {
             "colorbar": {
              "outlinewidth": 0,
              "ticks": ""
             }
            },
            "type": "scattercarpet"
           }
          ],
          "scattergeo": [
           {
            "marker": {
             "colorbar": {
              "outlinewidth": 0,
              "ticks": ""
             }
            },
            "type": "scattergeo"
           }
          ],
          "scattergl": [
           {
            "marker": {
             "colorbar": {
              "outlinewidth": 0,
              "ticks": ""
             }
            },
            "type": "scattergl"
           }
          ],
          "scattermapbox": [
           {
            "marker": {
             "colorbar": {
              "outlinewidth": 0,
              "ticks": ""
             }
            },
            "type": "scattermapbox"
           }
          ],
          "scatterpolar": [
           {
            "marker": {
             "colorbar": {
              "outlinewidth": 0,
              "ticks": ""
             }
            },
            "type": "scatterpolar"
           }
          ],
          "scatterpolargl": [
           {
            "marker": {
             "colorbar": {
              "outlinewidth": 0,
              "ticks": ""
             }
            },
            "type": "scatterpolargl"
           }
          ],
          "scatterternary": [
           {
            "marker": {
             "colorbar": {
              "outlinewidth": 0,
              "ticks": ""
             }
            },
            "type": "scatterternary"
           }
          ],
          "surface": [
           {
            "colorbar": {
             "outlinewidth": 0,
             "ticks": ""
            },
            "colorscale": [
             [
              0,
              "#0d0887"
             ],
             [
              0.1111111111111111,
              "#46039f"
             ],
             [
              0.2222222222222222,
              "#7201a8"
             ],
             [
              0.3333333333333333,
              "#9c179e"
             ],
             [
              0.4444444444444444,
              "#bd3786"
             ],
             [
              0.5555555555555556,
              "#d8576b"
             ],
             [
              0.6666666666666666,
              "#ed7953"
             ],
             [
              0.7777777777777778,
              "#fb9f3a"
             ],
             [
              0.8888888888888888,
              "#fdca26"
             ],
             [
              1,
              "#f0f921"
             ]
            ],
            "type": "surface"
           }
          ],
          "table": [
           {
            "cells": {
             "fill": {
              "color": "#EBF0F8"
             },
             "line": {
              "color": "white"
             }
            },
            "header": {
             "fill": {
              "color": "#C8D4E3"
             },
             "line": {
              "color": "white"
             }
            },
            "type": "table"
           }
          ]
         },
         "layout": {
          "annotationdefaults": {
           "arrowcolor": "#2a3f5f",
           "arrowhead": 0,
           "arrowwidth": 1
          },
          "autotypenumbers": "strict",
          "coloraxis": {
           "colorbar": {
            "outlinewidth": 0,
            "ticks": ""
           }
          },
          "colorscale": {
           "diverging": [
            [
             0,
             "#8e0152"
            ],
            [
             0.1,
             "#c51b7d"
            ],
            [
             0.2,
             "#de77ae"
            ],
            [
             0.3,
             "#f1b6da"
            ],
            [
             0.4,
             "#fde0ef"
            ],
            [
             0.5,
             "#f7f7f7"
            ],
            [
             0.6,
             "#e6f5d0"
            ],
            [
             0.7,
             "#b8e186"
            ],
            [
             0.8,
             "#7fbc41"
            ],
            [
             0.9,
             "#4d9221"
            ],
            [
             1,
             "#276419"
            ]
           ],
           "sequential": [
            [
             0,
             "#0d0887"
            ],
            [
             0.1111111111111111,
             "#46039f"
            ],
            [
             0.2222222222222222,
             "#7201a8"
            ],
            [
             0.3333333333333333,
             "#9c179e"
            ],
            [
             0.4444444444444444,
             "#bd3786"
            ],
            [
             0.5555555555555556,
             "#d8576b"
            ],
            [
             0.6666666666666666,
             "#ed7953"
            ],
            [
             0.7777777777777778,
             "#fb9f3a"
            ],
            [
             0.8888888888888888,
             "#fdca26"
            ],
            [
             1,
             "#f0f921"
            ]
           ],
           "sequentialminus": [
            [
             0,
             "#0d0887"
            ],
            [
             0.1111111111111111,
             "#46039f"
            ],
            [
             0.2222222222222222,
             "#7201a8"
            ],
            [
             0.3333333333333333,
             "#9c179e"
            ],
            [
             0.4444444444444444,
             "#bd3786"
            ],
            [
             0.5555555555555556,
             "#d8576b"
            ],
            [
             0.6666666666666666,
             "#ed7953"
            ],
            [
             0.7777777777777778,
             "#fb9f3a"
            ],
            [
             0.8888888888888888,
             "#fdca26"
            ],
            [
             1,
             "#f0f921"
            ]
           ]
          },
          "colorway": [
           "#636efa",
           "#EF553B",
           "#00cc96",
           "#ab63fa",
           "#FFA15A",
           "#19d3f3",
           "#FF6692",
           "#B6E880",
           "#FF97FF",
           "#FECB52"
          ],
          "font": {
           "color": "#2a3f5f"
          },
          "geo": {
           "bgcolor": "white",
           "lakecolor": "white",
           "landcolor": "#E5ECF6",
           "showlakes": true,
           "showland": true,
           "subunitcolor": "white"
          },
          "hoverlabel": {
           "align": "left"
          },
          "hovermode": "closest",
          "mapbox": {
           "style": "light"
          },
          "paper_bgcolor": "white",
          "plot_bgcolor": "#E5ECF6",
          "polar": {
           "angularaxis": {
            "gridcolor": "white",
            "linecolor": "white",
            "ticks": ""
           },
           "bgcolor": "#E5ECF6",
           "radialaxis": {
            "gridcolor": "white",
            "linecolor": "white",
            "ticks": ""
           }
          },
          "scene": {
           "xaxis": {
            "backgroundcolor": "#E5ECF6",
            "gridcolor": "white",
            "gridwidth": 2,
            "linecolor": "white",
            "showbackground": true,
            "ticks": "",
            "zerolinecolor": "white"
           },
           "yaxis": {
            "backgroundcolor": "#E5ECF6",
            "gridcolor": "white",
            "gridwidth": 2,
            "linecolor": "white",
            "showbackground": true,
            "ticks": "",
            "zerolinecolor": "white"
           },
           "zaxis": {
            "backgroundcolor": "#E5ECF6",
            "gridcolor": "white",
            "gridwidth": 2,
            "linecolor": "white",
            "showbackground": true,
            "ticks": "",
            "zerolinecolor": "white"
           }
          },
          "shapedefaults": {
           "line": {
            "color": "#2a3f5f"
           }
          },
          "ternary": {
           "aaxis": {
            "gridcolor": "white",
            "linecolor": "white",
            "ticks": ""
           },
           "baxis": {
            "gridcolor": "white",
            "linecolor": "white",
            "ticks": ""
           },
           "bgcolor": "#E5ECF6",
           "caxis": {
            "gridcolor": "white",
            "linecolor": "white",
            "ticks": ""
           }
          },
          "title": {
           "x": 0.05
          },
          "xaxis": {
           "automargin": true,
           "gridcolor": "white",
           "linecolor": "white",
           "ticks": "",
           "title": {
            "standoff": 15
           },
           "zerolinecolor": "white",
           "zerolinewidth": 2
          },
          "yaxis": {
           "automargin": true,
           "gridcolor": "white",
           "linecolor": "white",
           "ticks": "",
           "title": {
            "standoff": 15
           },
           "zerolinecolor": "white",
           "zerolinewidth": 2
          }
         }
        },
        "title": {
         "text": "Slice Plot"
        },
        "width": 3300,
        "xaxis": {
         "anchor": "y",
         "domain": [
          0,
          0.07438016528925619
         ],
         "title": {
          "text": "colsample_bytree"
         }
        },
        "xaxis10": {
         "anchor": "y10",
         "domain": [
          0.8330578512396694,
          0.9074380165289255
         ],
         "title": {
          "text": "subsample"
         }
        },
        "xaxis11": {
         "anchor": "y11",
         "domain": [
          0.9256198347107437,
          0.9999999999999999
         ],
         "title": {
          "text": "subsample_freq"
         }
        },
        "xaxis2": {
         "anchor": "y2",
         "domain": [
          0.09256198347107437,
          0.16694214876033056
         ],
         "title": {
          "text": "learning_rate"
         },
         "type": "log"
        },
        "xaxis3": {
         "anchor": "y3",
         "domain": [
          0.18512396694214875,
          0.25950413223140495
         ],
         "title": {
          "text": "max_bin"
         }
        },
        "xaxis4": {
         "anchor": "y4",
         "domain": [
          0.27768595041322314,
          0.3520661157024793
         ],
         "title": {
          "text": "max_depth"
         }
        },
        "xaxis5": {
         "anchor": "y5",
         "domain": [
          0.3702479338842975,
          0.44462809917355367
         ],
         "title": {
          "text": "min_child_samples"
         }
        },
        "xaxis6": {
         "anchor": "y6",
         "domain": [
          0.46280991735537186,
          0.5371900826446281
         ],
         "title": {
          "text": "n_estimators"
         }
        },
        "xaxis7": {
         "anchor": "y7",
         "domain": [
          0.5553719008264463,
          0.6297520661157024
         ],
         "title": {
          "text": "num_leaves"
         }
        },
        "xaxis8": {
         "anchor": "y8",
         "domain": [
          0.6479338842975206,
          0.7223140495867768
         ],
         "title": {
          "text": "reg_alpha"
         }
        },
        "xaxis9": {
         "anchor": "y9",
         "domain": [
          0.740495867768595,
          0.8148760330578512
         ],
         "title": {
          "text": "reg_lambda"
         }
        },
        "yaxis": {
         "anchor": "x",
         "domain": [
          0,
          1
         ],
         "title": {
          "text": "Objective Value"
         }
        },
        "yaxis10": {
         "anchor": "x10",
         "domain": [
          0,
          1
         ],
         "matches": "y",
         "showticklabels": false
        },
        "yaxis11": {
         "anchor": "x11",
         "domain": [
          0,
          1
         ],
         "matches": "y",
         "showticklabels": false
        },
        "yaxis2": {
         "anchor": "x2",
         "domain": [
          0,
          1
         ],
         "matches": "y",
         "showticklabels": false
        },
        "yaxis3": {
         "anchor": "x3",
         "domain": [
          0,
          1
         ],
         "matches": "y",
         "showticklabels": false
        },
        "yaxis4": {
         "anchor": "x4",
         "domain": [
          0,
          1
         ],
         "matches": "y",
         "showticklabels": false
        },
        "yaxis5": {
         "anchor": "x5",
         "domain": [
          0,
          1
         ],
         "matches": "y",
         "showticklabels": false
        },
        "yaxis6": {
         "anchor": "x6",
         "domain": [
          0,
          1
         ],
         "matches": "y",
         "showticklabels": false
        },
        "yaxis7": {
         "anchor": "x7",
         "domain": [
          0,
          1
         ],
         "matches": "y",
         "showticklabels": false
        },
        "yaxis8": {
         "anchor": "x8",
         "domain": [
          0,
          1
         ],
         "matches": "y",
         "showticklabels": false
        },
        "yaxis9": {
         "anchor": "x9",
         "domain": [
          0,
          1
         ],
         "matches": "y",
         "showticklabels": false
        }
       }
      }
     },
     "metadata": {},
     "output_type": "display_data"
    }
   ],
   "source": [
    "\n",
    "def objective(trial):\n",
    "    X_train, X_test, y_train, y_test = train_test_split(X, y, test_size=0.2, random_state=42, stratify=y)\n",
    "        \n",
    "    rus = RandomUnderSampler(sampling_strategy=0.03, random_state=42)\n",
    "    X_train_res, y_train_res = rus.fit_resample(X_train, y_train)\n",
    "    y_train_res.reset_index(drop=True, inplace=True)  # Reset index here\n",
    "    X_train_res = pd.get_dummies(X_train_res)\n",
    "    X_test = pd.get_dummies(X_test)\n",
    "    X_train_res = clean_feature_names(X_train_res)\n",
    "    X_test = clean_feature_names(X_test)\n",
    "\n",
    "    X_train_res, X_test = X_train_res.align(X_test, join='inner', axis=1)\n",
    "\n",
    "    params = {\n",
    "        'n_estimators': trial.suggest_int('n_estimators', 100, 300),\n",
    "        'learning_rate': trial.suggest_float('learning_rate', 0.001, 0.2, log=True),\n",
    "        'max_depth': trial.suggest_int('max_depth', 5, 15),\n",
    "        'num_leaves': trial.suggest_int('num_leaves', 20, 2**trial.suggest_int('max_depth', 5, 15)),\n",
    "        'min_child_samples': trial.suggest_int('min_child_samples', 10, 50),\n",
    "        'subsample': trial.suggest_float('subsample', 0.8, 1.0),\n",
    "        'subsample_freq': trial.suggest_int('subsample_freq', 0, 7),\n",
    "        'colsample_bytree': trial.suggest_float('colsample_bytree', 0.6, 1.0),\n",
    "        'reg_alpha': trial.suggest_float('reg_alpha', 0.0, 1.0),\n",
    "        'reg_lambda': trial.suggest_float('reg_lambda', 0.0, 1.0),\n",
    "        'max_bin': trial.suggest_int('max_bin', 200, 300),\n",
    "        'random_state': 42,\n",
    "        'force_col_wise': True,\n",
    "        'verbosity': -1\n",
    "    }\n",
    "# CV : ogni fold è usato 1 volta per la validation e 9 per il training, in questo modo riduciamo la varianza al minimo\n",
    "    kf = StratifiedKFold(n_splits=10, shuffle=True)\n",
    "    scores = []\n",
    "    for train_index, val_index in kf.split(X_train_res, y_train_res):\n",
    "        X_fold_train, X_fold_val = X_train_res.iloc[train_index], X_train_res.iloc[val_index]\n",
    "        y_fold_train, y_fold_val = y_train_res[train_index], y_train_res[val_index]\n",
    "        \n",
    "        model = lgb.LGBMClassifier(**params)\n",
    "        model.fit(X_fold_train, y_fold_train)\n",
    "        y_fold_pred = model.predict_proba(X_fold_val)[:, 1]\n",
    "        score = roc_auc_score(y_fold_val, y_fold_pred)\n",
    "        scores.append(score)\n",
    "    \n",
    "    return np.mean(scores)\n",
    "\n",
    "\n",
    "sampler = optuna.samplers.TPESampler(seed=42)  \n",
    "\n",
    "study = optuna.create_study(direction='maximize', sampler = sampler)\n",
    "\n",
    "study.optimize(objective, n_trials=50)\n",
    "\n",
    "best_params = study.best_params\n",
    "best_roc_auc = study.best_value\n",
    "\n",
    "print(\"Best Hyperparameters:\", best_params)\n",
    "print(\"Best ROC AUC Score:\", best_roc_auc)\n",
    "\n",
    "\n",
    "history_plot = vis.plot_optimization_history(study)\n",
    "history_plot.show()\n",
    "\n",
    "importance_plot = vis.plot_param_importances(study)\n",
    "importance_plot.show()\n",
    "\n",
    "slice_plot = vis.plot_slice(study)\n",
    "slice_plot.show()\n"
   ]
  },
  {
   "cell_type": "code",
   "execution_count": 167,
   "metadata": {},
   "outputs": [],
   "source": [
    "'''\n",
    "Best Hyperparameters: {'n_estimators': 195, 'learning_rate': 0.0689356536665432, 'max_depth': 13, 'num_leaves': 1946, 'min_child_samples': 37, 'subsample': 0.8841796423370363, 'subsample_freq': 0, 'colsample_bytree': 0.783386192594209, 'reg_alpha': 0.7592044537020304, 'reg_lambda': 0.538402350448647, 'max_bin': 269}\n",
    "Best ROC AUC Score: 0.9918504426589758\n",
    "'''\n",
    "best_params = {\n",
    "    'n_estimators': 195,\n",
    "    'learning_rate': 0.0689356536665432,\n",
    "    'max_depth': 13,\n",
    "    'num_leaves': 1946,\n",
    "    'min_child_samples': 37,\n",
    "    'subsample': 0.8841796423370363,\n",
    "    'subsample_freq': 0,\n",
    "    'colsample_bytree': 0.783386192594209,\n",
    "    'reg_alpha': 0.7592044537020304,\n",
    "    'reg_lambda': 0.538402350448647,\n",
    "    'max_bin': 269,\n",
    "    'random_state': 42,\n",
    "    'force_col_wise': True,\n",
    "    'verbosity': -1\n",
    "}\n",
    "\n",
    "best_lgb_classifier = lgb.LGBMClassifier(**best_params)\n",
    "best_lgb_classifier.fit(X_train_res, y_train_res)\n",
    "lgbm_predictions = best_lgb_classifier.predict_proba(X_test)[:, 1]"
   ]
  },
  {
   "cell_type": "code",
   "execution_count": 120,
   "metadata": {},
   "outputs": [
    {
     "data": {
      "text/html": [
       "<style>#sk-container-id-4 {\n",
       "  /* Definition of color scheme common for light and dark mode */\n",
       "  --sklearn-color-text: black;\n",
       "  --sklearn-color-line: gray;\n",
       "  /* Definition of color scheme for unfitted estimators */\n",
       "  --sklearn-color-unfitted-level-0: #fff5e6;\n",
       "  --sklearn-color-unfitted-level-1: #f6e4d2;\n",
       "  --sklearn-color-unfitted-level-2: #ffe0b3;\n",
       "  --sklearn-color-unfitted-level-3: chocolate;\n",
       "  /* Definition of color scheme for fitted estimators */\n",
       "  --sklearn-color-fitted-level-0: #f0f8ff;\n",
       "  --sklearn-color-fitted-level-1: #d4ebff;\n",
       "  --sklearn-color-fitted-level-2: #b3dbfd;\n",
       "  --sklearn-color-fitted-level-3: cornflowerblue;\n",
       "\n",
       "  /* Specific color for light theme */\n",
       "  --sklearn-color-text-on-default-background: var(--sg-text-color, var(--theme-code-foreground, var(--jp-content-font-color1, black)));\n",
       "  --sklearn-color-background: var(--sg-background-color, var(--theme-background, var(--jp-layout-color0, white)));\n",
       "  --sklearn-color-border-box: var(--sg-text-color, var(--theme-code-foreground, var(--jp-content-font-color1, black)));\n",
       "  --sklearn-color-icon: #696969;\n",
       "\n",
       "  @media (prefers-color-scheme: dark) {\n",
       "    /* Redefinition of color scheme for dark theme */\n",
       "    --sklearn-color-text-on-default-background: var(--sg-text-color, var(--theme-code-foreground, var(--jp-content-font-color1, white)));\n",
       "    --sklearn-color-background: var(--sg-background-color, var(--theme-background, var(--jp-layout-color0, #111)));\n",
       "    --sklearn-color-border-box: var(--sg-text-color, var(--theme-code-foreground, var(--jp-content-font-color1, white)));\n",
       "    --sklearn-color-icon: #878787;\n",
       "  }\n",
       "}\n",
       "\n",
       "#sk-container-id-4 {\n",
       "  color: var(--sklearn-color-text);\n",
       "}\n",
       "\n",
       "#sk-container-id-4 pre {\n",
       "  padding: 0;\n",
       "}\n",
       "\n",
       "#sk-container-id-4 input.sk-hidden--visually {\n",
       "  border: 0;\n",
       "  clip: rect(1px 1px 1px 1px);\n",
       "  clip: rect(1px, 1px, 1px, 1px);\n",
       "  height: 1px;\n",
       "  margin: -1px;\n",
       "  overflow: hidden;\n",
       "  padding: 0;\n",
       "  position: absolute;\n",
       "  width: 1px;\n",
       "}\n",
       "\n",
       "#sk-container-id-4 div.sk-dashed-wrapped {\n",
       "  border: 1px dashed var(--sklearn-color-line);\n",
       "  margin: 0 0.4em 0.5em 0.4em;\n",
       "  box-sizing: border-box;\n",
       "  padding-bottom: 0.4em;\n",
       "  background-color: var(--sklearn-color-background);\n",
       "}\n",
       "\n",
       "#sk-container-id-4 div.sk-container {\n",
       "  /* jupyter's `normalize.less` sets `[hidden] { display: none; }`\n",
       "     but bootstrap.min.css set `[hidden] { display: none !important; }`\n",
       "     so we also need the `!important` here to be able to override the\n",
       "     default hidden behavior on the sphinx rendered scikit-learn.org.\n",
       "     See: https://github.com/scikit-learn/scikit-learn/issues/21755 */\n",
       "  display: inline-block !important;\n",
       "  position: relative;\n",
       "}\n",
       "\n",
       "#sk-container-id-4 div.sk-text-repr-fallback {\n",
       "  display: none;\n",
       "}\n",
       "\n",
       "div.sk-parallel-item,\n",
       "div.sk-serial,\n",
       "div.sk-item {\n",
       "  /* draw centered vertical line to link estimators */\n",
       "  background-image: linear-gradient(var(--sklearn-color-text-on-default-background), var(--sklearn-color-text-on-default-background));\n",
       "  background-size: 2px 100%;\n",
       "  background-repeat: no-repeat;\n",
       "  background-position: center center;\n",
       "}\n",
       "\n",
       "/* Parallel-specific style estimator block */\n",
       "\n",
       "#sk-container-id-4 div.sk-parallel-item::after {\n",
       "  content: \"\";\n",
       "  width: 100%;\n",
       "  border-bottom: 2px solid var(--sklearn-color-text-on-default-background);\n",
       "  flex-grow: 1;\n",
       "}\n",
       "\n",
       "#sk-container-id-4 div.sk-parallel {\n",
       "  display: flex;\n",
       "  align-items: stretch;\n",
       "  justify-content: center;\n",
       "  background-color: var(--sklearn-color-background);\n",
       "  position: relative;\n",
       "}\n",
       "\n",
       "#sk-container-id-4 div.sk-parallel-item {\n",
       "  display: flex;\n",
       "  flex-direction: column;\n",
       "}\n",
       "\n",
       "#sk-container-id-4 div.sk-parallel-item:first-child::after {\n",
       "  align-self: flex-end;\n",
       "  width: 50%;\n",
       "}\n",
       "\n",
       "#sk-container-id-4 div.sk-parallel-item:last-child::after {\n",
       "  align-self: flex-start;\n",
       "  width: 50%;\n",
       "}\n",
       "\n",
       "#sk-container-id-4 div.sk-parallel-item:only-child::after {\n",
       "  width: 0;\n",
       "}\n",
       "\n",
       "/* Serial-specific style estimator block */\n",
       "\n",
       "#sk-container-id-4 div.sk-serial {\n",
       "  display: flex;\n",
       "  flex-direction: column;\n",
       "  align-items: center;\n",
       "  background-color: var(--sklearn-color-background);\n",
       "  padding-right: 1em;\n",
       "  padding-left: 1em;\n",
       "}\n",
       "\n",
       "\n",
       "/* Toggleable style: style used for estimator/Pipeline/ColumnTransformer box that is\n",
       "clickable and can be expanded/collapsed.\n",
       "- Pipeline and ColumnTransformer use this feature and define the default style\n",
       "- Estimators will overwrite some part of the style using the `sk-estimator` class\n",
       "*/\n",
       "\n",
       "/* Pipeline and ColumnTransformer style (default) */\n",
       "\n",
       "#sk-container-id-4 div.sk-toggleable {\n",
       "  /* Default theme specific background. It is overwritten whether we have a\n",
       "  specific estimator or a Pipeline/ColumnTransformer */\n",
       "  background-color: var(--sklearn-color-background);\n",
       "}\n",
       "\n",
       "/* Toggleable label */\n",
       "#sk-container-id-4 label.sk-toggleable__label {\n",
       "  cursor: pointer;\n",
       "  display: block;\n",
       "  width: 100%;\n",
       "  margin-bottom: 0;\n",
       "  padding: 0.5em;\n",
       "  box-sizing: border-box;\n",
       "  text-align: center;\n",
       "}\n",
       "\n",
       "#sk-container-id-4 label.sk-toggleable__label-arrow:before {\n",
       "  /* Arrow on the left of the label */\n",
       "  content: \"▸\";\n",
       "  float: left;\n",
       "  margin-right: 0.25em;\n",
       "  color: var(--sklearn-color-icon);\n",
       "}\n",
       "\n",
       "#sk-container-id-4 label.sk-toggleable__label-arrow:hover:before {\n",
       "  color: var(--sklearn-color-text);\n",
       "}\n",
       "\n",
       "/* Toggleable content - dropdown */\n",
       "\n",
       "#sk-container-id-4 div.sk-toggleable__content {\n",
       "  max-height: 0;\n",
       "  max-width: 0;\n",
       "  overflow: hidden;\n",
       "  text-align: left;\n",
       "  /* unfitted */\n",
       "  background-color: var(--sklearn-color-unfitted-level-0);\n",
       "}\n",
       "\n",
       "#sk-container-id-4 div.sk-toggleable__content.fitted {\n",
       "  /* fitted */\n",
       "  background-color: var(--sklearn-color-fitted-level-0);\n",
       "}\n",
       "\n",
       "#sk-container-id-4 div.sk-toggleable__content pre {\n",
       "  margin: 0.2em;\n",
       "  border-radius: 0.25em;\n",
       "  color: var(--sklearn-color-text);\n",
       "  /* unfitted */\n",
       "  background-color: var(--sklearn-color-unfitted-level-0);\n",
       "}\n",
       "\n",
       "#sk-container-id-4 div.sk-toggleable__content.fitted pre {\n",
       "  /* unfitted */\n",
       "  background-color: var(--sklearn-color-fitted-level-0);\n",
       "}\n",
       "\n",
       "#sk-container-id-4 input.sk-toggleable__control:checked~div.sk-toggleable__content {\n",
       "  /* Expand drop-down */\n",
       "  max-height: 200px;\n",
       "  max-width: 100%;\n",
       "  overflow: auto;\n",
       "}\n",
       "\n",
       "#sk-container-id-4 input.sk-toggleable__control:checked~label.sk-toggleable__label-arrow:before {\n",
       "  content: \"▾\";\n",
       "}\n",
       "\n",
       "/* Pipeline/ColumnTransformer-specific style */\n",
       "\n",
       "#sk-container-id-4 div.sk-label input.sk-toggleable__control:checked~label.sk-toggleable__label {\n",
       "  color: var(--sklearn-color-text);\n",
       "  background-color: var(--sklearn-color-unfitted-level-2);\n",
       "}\n",
       "\n",
       "#sk-container-id-4 div.sk-label.fitted input.sk-toggleable__control:checked~label.sk-toggleable__label {\n",
       "  background-color: var(--sklearn-color-fitted-level-2);\n",
       "}\n",
       "\n",
       "/* Estimator-specific style */\n",
       "\n",
       "/* Colorize estimator box */\n",
       "#sk-container-id-4 div.sk-estimator input.sk-toggleable__control:checked~label.sk-toggleable__label {\n",
       "  /* unfitted */\n",
       "  background-color: var(--sklearn-color-unfitted-level-2);\n",
       "}\n",
       "\n",
       "#sk-container-id-4 div.sk-estimator.fitted input.sk-toggleable__control:checked~label.sk-toggleable__label {\n",
       "  /* fitted */\n",
       "  background-color: var(--sklearn-color-fitted-level-2);\n",
       "}\n",
       "\n",
       "#sk-container-id-4 div.sk-label label.sk-toggleable__label,\n",
       "#sk-container-id-4 div.sk-label label {\n",
       "  /* The background is the default theme color */\n",
       "  color: var(--sklearn-color-text-on-default-background);\n",
       "}\n",
       "\n",
       "/* On hover, darken the color of the background */\n",
       "#sk-container-id-4 div.sk-label:hover label.sk-toggleable__label {\n",
       "  color: var(--sklearn-color-text);\n",
       "  background-color: var(--sklearn-color-unfitted-level-2);\n",
       "}\n",
       "\n",
       "/* Label box, darken color on hover, fitted */\n",
       "#sk-container-id-4 div.sk-label.fitted:hover label.sk-toggleable__label.fitted {\n",
       "  color: var(--sklearn-color-text);\n",
       "  background-color: var(--sklearn-color-fitted-level-2);\n",
       "}\n",
       "\n",
       "/* Estimator label */\n",
       "\n",
       "#sk-container-id-4 div.sk-label label {\n",
       "  font-family: monospace;\n",
       "  font-weight: bold;\n",
       "  display: inline-block;\n",
       "  line-height: 1.2em;\n",
       "}\n",
       "\n",
       "#sk-container-id-4 div.sk-label-container {\n",
       "  text-align: center;\n",
       "}\n",
       "\n",
       "/* Estimator-specific */\n",
       "#sk-container-id-4 div.sk-estimator {\n",
       "  font-family: monospace;\n",
       "  border: 1px dotted var(--sklearn-color-border-box);\n",
       "  border-radius: 0.25em;\n",
       "  box-sizing: border-box;\n",
       "  margin-bottom: 0.5em;\n",
       "  /* unfitted */\n",
       "  background-color: var(--sklearn-color-unfitted-level-0);\n",
       "}\n",
       "\n",
       "#sk-container-id-4 div.sk-estimator.fitted {\n",
       "  /* fitted */\n",
       "  background-color: var(--sklearn-color-fitted-level-0);\n",
       "}\n",
       "\n",
       "/* on hover */\n",
       "#sk-container-id-4 div.sk-estimator:hover {\n",
       "  /* unfitted */\n",
       "  background-color: var(--sklearn-color-unfitted-level-2);\n",
       "}\n",
       "\n",
       "#sk-container-id-4 div.sk-estimator.fitted:hover {\n",
       "  /* fitted */\n",
       "  background-color: var(--sklearn-color-fitted-level-2);\n",
       "}\n",
       "\n",
       "/* Specification for estimator info (e.g. \"i\" and \"?\") */\n",
       "\n",
       "/* Common style for \"i\" and \"?\" */\n",
       "\n",
       ".sk-estimator-doc-link,\n",
       "a:link.sk-estimator-doc-link,\n",
       "a:visited.sk-estimator-doc-link {\n",
       "  float: right;\n",
       "  font-size: smaller;\n",
       "  line-height: 1em;\n",
       "  font-family: monospace;\n",
       "  background-color: var(--sklearn-color-background);\n",
       "  border-radius: 1em;\n",
       "  height: 1em;\n",
       "  width: 1em;\n",
       "  text-decoration: none !important;\n",
       "  margin-left: 1ex;\n",
       "  /* unfitted */\n",
       "  border: var(--sklearn-color-unfitted-level-1) 1pt solid;\n",
       "  color: var(--sklearn-color-unfitted-level-1);\n",
       "}\n",
       "\n",
       ".sk-estimator-doc-link.fitted,\n",
       "a:link.sk-estimator-doc-link.fitted,\n",
       "a:visited.sk-estimator-doc-link.fitted {\n",
       "  /* fitted */\n",
       "  border: var(--sklearn-color-fitted-level-1) 1pt solid;\n",
       "  color: var(--sklearn-color-fitted-level-1);\n",
       "}\n",
       "\n",
       "/* On hover */\n",
       "div.sk-estimator:hover .sk-estimator-doc-link:hover,\n",
       ".sk-estimator-doc-link:hover,\n",
       "div.sk-label-container:hover .sk-estimator-doc-link:hover,\n",
       ".sk-estimator-doc-link:hover {\n",
       "  /* unfitted */\n",
       "  background-color: var(--sklearn-color-unfitted-level-3);\n",
       "  color: var(--sklearn-color-background);\n",
       "  text-decoration: none;\n",
       "}\n",
       "\n",
       "div.sk-estimator.fitted:hover .sk-estimator-doc-link.fitted:hover,\n",
       ".sk-estimator-doc-link.fitted:hover,\n",
       "div.sk-label-container:hover .sk-estimator-doc-link.fitted:hover,\n",
       ".sk-estimator-doc-link.fitted:hover {\n",
       "  /* fitted */\n",
       "  background-color: var(--sklearn-color-fitted-level-3);\n",
       "  color: var(--sklearn-color-background);\n",
       "  text-decoration: none;\n",
       "}\n",
       "\n",
       "/* Span, style for the box shown on hovering the info icon */\n",
       ".sk-estimator-doc-link span {\n",
       "  display: none;\n",
       "  z-index: 9999;\n",
       "  position: relative;\n",
       "  font-weight: normal;\n",
       "  right: .2ex;\n",
       "  padding: .5ex;\n",
       "  margin: .5ex;\n",
       "  width: min-content;\n",
       "  min-width: 20ex;\n",
       "  max-width: 50ex;\n",
       "  color: var(--sklearn-color-text);\n",
       "  box-shadow: 2pt 2pt 4pt #999;\n",
       "  /* unfitted */\n",
       "  background: var(--sklearn-color-unfitted-level-0);\n",
       "  border: .5pt solid var(--sklearn-color-unfitted-level-3);\n",
       "}\n",
       "\n",
       ".sk-estimator-doc-link.fitted span {\n",
       "  /* fitted */\n",
       "  background: var(--sklearn-color-fitted-level-0);\n",
       "  border: var(--sklearn-color-fitted-level-3);\n",
       "}\n",
       "\n",
       ".sk-estimator-doc-link:hover span {\n",
       "  display: block;\n",
       "}\n",
       "\n",
       "/* \"?\"-specific style due to the `<a>` HTML tag */\n",
       "\n",
       "#sk-container-id-4 a.estimator_doc_link {\n",
       "  float: right;\n",
       "  font-size: 1rem;\n",
       "  line-height: 1em;\n",
       "  font-family: monospace;\n",
       "  background-color: var(--sklearn-color-background);\n",
       "  border-radius: 1rem;\n",
       "  height: 1rem;\n",
       "  width: 1rem;\n",
       "  text-decoration: none;\n",
       "  /* unfitted */\n",
       "  color: var(--sklearn-color-unfitted-level-1);\n",
       "  border: var(--sklearn-color-unfitted-level-1) 1pt solid;\n",
       "}\n",
       "\n",
       "#sk-container-id-4 a.estimator_doc_link.fitted {\n",
       "  /* fitted */\n",
       "  border: var(--sklearn-color-fitted-level-1) 1pt solid;\n",
       "  color: var(--sklearn-color-fitted-level-1);\n",
       "}\n",
       "\n",
       "/* On hover */\n",
       "#sk-container-id-4 a.estimator_doc_link:hover {\n",
       "  /* unfitted */\n",
       "  background-color: var(--sklearn-color-unfitted-level-3);\n",
       "  color: var(--sklearn-color-background);\n",
       "  text-decoration: none;\n",
       "}\n",
       "\n",
       "#sk-container-id-4 a.estimator_doc_link.fitted:hover {\n",
       "  /* fitted */\n",
       "  background-color: var(--sklearn-color-fitted-level-3);\n",
       "}\n",
       "</style><div id=\"sk-container-id-4\" class=\"sk-top-container\"><div class=\"sk-text-repr-fallback\"><pre>LGBMClassifier(colsample_bytree=0.6518355641936273, force_col_wise=True,\n",
       "               learning_rate=0.045336423535558106, max_bin=280, max_depth=8,\n",
       "               min_child_samples=50, n_estimators=264, num_leaves=72,\n",
       "               random_state=42, reg_alpha=0.6759647727667966,\n",
       "               reg_lambda=0.9300125049175274, subsample=0.9563930027208176,\n",
       "               subsample_freq=1, verbosity=-1)</pre><b>In a Jupyter environment, please rerun this cell to show the HTML representation or trust the notebook. <br />On GitHub, the HTML representation is unable to render, please try loading this page with nbviewer.org.</b></div><div class=\"sk-container\" hidden><div class=\"sk-item\"><div class=\"sk-estimator fitted sk-toggleable\"><input class=\"sk-toggleable__control sk-hidden--visually\" id=\"sk-estimator-id-4\" type=\"checkbox\" checked><label for=\"sk-estimator-id-4\" class=\"sk-toggleable__label fitted sk-toggleable__label-arrow fitted\">&nbsp;LGBMClassifier<span class=\"sk-estimator-doc-link fitted\">i<span>Fitted</span></span></label><div class=\"sk-toggleable__content fitted\"><pre>LGBMClassifier(colsample_bytree=0.6518355641936273, force_col_wise=True,\n",
       "               learning_rate=0.045336423535558106, max_bin=280, max_depth=8,\n",
       "               min_child_samples=50, n_estimators=264, num_leaves=72,\n",
       "               random_state=42, reg_alpha=0.6759647727667966,\n",
       "               reg_lambda=0.9300125049175274, subsample=0.9563930027208176,\n",
       "               subsample_freq=1, verbosity=-1)</pre></div> </div></div></div></div>"
      ],
      "text/plain": [
       "LGBMClassifier(colsample_bytree=0.6518355641936273, force_col_wise=True,\n",
       "               learning_rate=0.045336423535558106, max_bin=280, max_depth=8,\n",
       "               min_child_samples=50, n_estimators=264, num_leaves=72,\n",
       "               random_state=42, reg_alpha=0.6759647727667966,\n",
       "               reg_lambda=0.9300125049175274, subsample=0.9563930027208176,\n",
       "               subsample_freq=1, verbosity=-1)"
      ]
     },
     "execution_count": 120,
     "metadata": {},
     "output_type": "execute_result"
    }
   ],
   "source": [
    "best_lgb_classifier"
   ]
  },
  {
   "cell_type": "markdown",
   "metadata": {},
   "source": [
    "XGBoost: Tuning hyperparametri"
   ]
  },
  {
   "cell_type": "code",
   "execution_count": 121,
   "metadata": {},
   "outputs": [
    {
     "data": {
      "text/plain": [
       "'\\ndef objective(trial):\\n    X_train, X_test, y_train, y_test = train_test_split(X, y, test_size=0.2, random_state=42, stratify=y)\\n        \\n    sampling_strategy = trial.suggest_float(\\'sampling_strategy\\', 0.1, 1.0)\\n    rus = RandomUnderSampler(sampling_strategy=sampling_strategy, random_state=42)\\n    X_train_res, y_train_res = rus.fit_resample(X_train, y_train)\\n    y_train_res.reset_index(drop=True, inplace=True)\\n    X_train_res = pd.get_dummies(X_train_res)\\n    X_test = pd.get_dummies(X_test)\\n\\n    X_train_res = clean_feature_names(X_train_res)\\n    X_test = clean_feature_names(X_test)\\n\\n    X_train_res, X_test = X_train_res.align(X_test, join=\\'inner\\', axis=1)\\n\\n    params = {\\n        \\'n_estimators\\': trial.suggest_int(\\'n_estimators\\', 100, 1000),\\n        \\'learning_rate\\': trial.suggest_loguniform(\\'learning_rate\\', 0.01, 0.5),\\n        \\'max_depth\\': trial.suggest_int(\\'max_depth\\', 3, 10),\\n        \\'min_child_weight\\': trial.suggest_int(\\'min_child_weight\\', 1, 10),\\n        \\'subsample\\': trial.suggest_float(\\'subsample\\', 0.5, 1.0),\\n        \\'colsample_bytree\\': trial.suggest_float(\\'colsample_bytree\\', 0.5, 1.0),\\n        \\'gamma\\': trial.suggest_float(\\'gamma\\', 0, 5),\\n        \\'reg_alpha\\': trial.suggest_float(\\'reg_alpha\\', 0, 5),\\n        \\'reg_lambda\\': trial.suggest_float(\\'reg_lambda\\', 0.1, 10),\\n        \\'verbosity\\': 0\\n    }\\n\\n    kf = StratifiedKFold(n_splits=10, shuffle=True, random_state=42)\\n    scores = []\\n    for train_index, val_index in kf.split(X_train_res, y_train_res):\\n        X_fold_train, X_fold_val = X_train_res.iloc[train_index], X_train_res.iloc[val_index]\\n        y_fold_train, y_fold_val = y_train_res[train_index], y_train_res[val_index]\\n        \\n        model = xgb.XGBClassifier(**params)\\n        model.fit(X_fold_train, y_fold_train, eval_metric=\"auc\")\\n        y_fold_pred = model.predict_proba(X_fold_val)[:, 1]\\n        score = roc_auc_score(y_fold_val, y_fold_pred)\\n        scores.append(score)\\n    \\n    return np.mean(scores)\\n\\nsampler = optuna.samplers.TPESampler(seed=42)\\nstudy = optuna.create_study(direction=\\'maximize\\', sampler=sampler)\\nstudy.optimize(objective, n_trials=50)\\n\\nbest_params = study.best_params\\nbest_roc_auc = study.best_value\\n\\nprint(\"Best Hyperparameters:\", best_params)\\nprint(\"Best ROC AUC Score:\", best_roc_auc)\\n\\nhistory_plot = vis.plot_optimization_history(study)\\nhistory_plot.show()\\n\\nimportance_plot = vis.plot_param_importances(study)\\nimportance_plot.show()\\n\\nslice_plot = vis.plot_slice(study)\\nslice_plot.show()\\n'"
      ]
     },
     "execution_count": 121,
     "metadata": {},
     "output_type": "execute_result"
    }
   ],
   "source": [
    "'''\n",
    "def objective(trial):\n",
    "    X_train, X_test, y_train, y_test = train_test_split(X, y, test_size=0.2, random_state=42, stratify=y)\n",
    "        \n",
    "    sampling_strategy = trial.suggest_float('sampling_strategy', 0.1, 1.0)\n",
    "    rus = RandomUnderSampler(sampling_strategy=sampling_strategy, random_state=42)\n",
    "    X_train_res, y_train_res = rus.fit_resample(X_train, y_train)\n",
    "    y_train_res.reset_index(drop=True, inplace=True)\n",
    "    X_train_res = pd.get_dummies(X_train_res)\n",
    "    X_test = pd.get_dummies(X_test)\n",
    "\n",
    "    X_train_res = clean_feature_names(X_train_res)\n",
    "    X_test = clean_feature_names(X_test)\n",
    "\n",
    "    X_train_res, X_test = X_train_res.align(X_test, join='inner', axis=1)\n",
    "\n",
    "    params = {\n",
    "        'n_estimators': trial.suggest_int('n_estimators', 100, 1000),\n",
    "        'learning_rate': trial.suggest_loguniform('learning_rate', 0.01, 0.5),\n",
    "        'max_depth': trial.suggest_int('max_depth', 3, 10),\n",
    "        'min_child_weight': trial.suggest_int('min_child_weight', 1, 10),\n",
    "        'subsample': trial.suggest_float('subsample', 0.5, 1.0),\n",
    "        'colsample_bytree': trial.suggest_float('colsample_bytree', 0.5, 1.0),\n",
    "        'gamma': trial.suggest_float('gamma', 0, 5),\n",
    "        'reg_alpha': trial.suggest_float('reg_alpha', 0, 5),\n",
    "        'reg_lambda': trial.suggest_float('reg_lambda', 0.1, 10),\n",
    "        'verbosity': 0\n",
    "    }\n",
    "\n",
    "    kf = StratifiedKFold(n_splits=10, shuffle=True, random_state=42)\n",
    "    scores = []\n",
    "    for train_index, val_index in kf.split(X_train_res, y_train_res):\n",
    "        X_fold_train, X_fold_val = X_train_res.iloc[train_index], X_train_res.iloc[val_index]\n",
    "        y_fold_train, y_fold_val = y_train_res[train_index], y_train_res[val_index]\n",
    "        \n",
    "        model = xgb.XGBClassifier(**params)\n",
    "        model.fit(X_fold_train, y_fold_train, eval_metric=\"auc\")\n",
    "        y_fold_pred = model.predict_proba(X_fold_val)[:, 1]\n",
    "        score = roc_auc_score(y_fold_val, y_fold_pred)\n",
    "        scores.append(score)\n",
    "    \n",
    "    return np.mean(scores)\n",
    "\n",
    "sampler = optuna.samplers.TPESampler(seed=42)\n",
    "study = optuna.create_study(direction='maximize', sampler=sampler)\n",
    "study.optimize(objective, n_trials=50)\n",
    "\n",
    "best_params = study.best_params\n",
    "best_roc_auc = study.best_value\n",
    "\n",
    "print(\"Best Hyperparameters:\", best_params)\n",
    "print(\"Best ROC AUC Score:\", best_roc_auc)\n",
    "\n",
    "history_plot = vis.plot_optimization_history(study)\n",
    "history_plot.show()\n",
    "\n",
    "importance_plot = vis.plot_param_importances(study)\n",
    "importance_plot.show()\n",
    "\n",
    "slice_plot = vis.plot_slice(study)\n",
    "slice_plot.show()\n",
    "'''"
   ]
  },
  {
   "cell_type": "code",
   "execution_count": 122,
   "metadata": {},
   "outputs": [],
   "source": [
    "'''\n",
    "Best Hyperparameters: {'sampling_strategy': 0.1251773261463979, 'n_estimators': 911, 'learning_rate': 0.05255473835317336, 'max_depth': 3, 'min_child_weight': 1, 'subsample': 0.6405856996548562, 'colsample_bytree': 0.9964394946899515, 'gamma': 1.2121534098151838, 'reg_alpha': 1.1808576291047457, 'reg_lambda': 2.7143652609430546}\n",
    "Best ROC AUC Score: 0.9910838203489621\n",
    "'''\n",
    "# Define the hyperparameters for the XGBoost classifier, taken from the best hyperparameters provided\n",
    "xgb_params = {\n",
    "    'n_estimators': 911,\n",
    "    'learning_rate': 0.05255473835317336,\n",
    "    'max_depth': 3,\n",
    "    'min_child_weight': 1,\n",
    "    'subsample': 0.6405856996548562,\n",
    "    'colsample_bytree': 0.9964394946899515,\n",
    "    'gamma': 1.2121534098151838,\n",
    "    'reg_alpha': 1.1808576291047457,\n",
    "    'reg_lambda': 2.7143652609430546,\n",
    "    'random_state': 42  \n",
    "}\n",
    "\n",
    "# Create the XGBoost classifier instance with the best hyperparameters\n",
    "best_xgb_classifier = xgb.XGBClassifier(**xgb_params)\n",
    "\n",
    "best_xgb_classifier.fit(X_train_res, y_train_res)\n",
    "xgb_predictions = best_xgb_classifier.predict_proba(X_test)[:, 1]"
   ]
  },
  {
   "cell_type": "code",
   "execution_count": 123,
   "metadata": {},
   "outputs": [
    {
     "data": {
      "text/html": [
       "<style>#sk-container-id-5 {\n",
       "  /* Definition of color scheme common for light and dark mode */\n",
       "  --sklearn-color-text: black;\n",
       "  --sklearn-color-line: gray;\n",
       "  /* Definition of color scheme for unfitted estimators */\n",
       "  --sklearn-color-unfitted-level-0: #fff5e6;\n",
       "  --sklearn-color-unfitted-level-1: #f6e4d2;\n",
       "  --sklearn-color-unfitted-level-2: #ffe0b3;\n",
       "  --sklearn-color-unfitted-level-3: chocolate;\n",
       "  /* Definition of color scheme for fitted estimators */\n",
       "  --sklearn-color-fitted-level-0: #f0f8ff;\n",
       "  --sklearn-color-fitted-level-1: #d4ebff;\n",
       "  --sklearn-color-fitted-level-2: #b3dbfd;\n",
       "  --sklearn-color-fitted-level-3: cornflowerblue;\n",
       "\n",
       "  /* Specific color for light theme */\n",
       "  --sklearn-color-text-on-default-background: var(--sg-text-color, var(--theme-code-foreground, var(--jp-content-font-color1, black)));\n",
       "  --sklearn-color-background: var(--sg-background-color, var(--theme-background, var(--jp-layout-color0, white)));\n",
       "  --sklearn-color-border-box: var(--sg-text-color, var(--theme-code-foreground, var(--jp-content-font-color1, black)));\n",
       "  --sklearn-color-icon: #696969;\n",
       "\n",
       "  @media (prefers-color-scheme: dark) {\n",
       "    /* Redefinition of color scheme for dark theme */\n",
       "    --sklearn-color-text-on-default-background: var(--sg-text-color, var(--theme-code-foreground, var(--jp-content-font-color1, white)));\n",
       "    --sklearn-color-background: var(--sg-background-color, var(--theme-background, var(--jp-layout-color0, #111)));\n",
       "    --sklearn-color-border-box: var(--sg-text-color, var(--theme-code-foreground, var(--jp-content-font-color1, white)));\n",
       "    --sklearn-color-icon: #878787;\n",
       "  }\n",
       "}\n",
       "\n",
       "#sk-container-id-5 {\n",
       "  color: var(--sklearn-color-text);\n",
       "}\n",
       "\n",
       "#sk-container-id-5 pre {\n",
       "  padding: 0;\n",
       "}\n",
       "\n",
       "#sk-container-id-5 input.sk-hidden--visually {\n",
       "  border: 0;\n",
       "  clip: rect(1px 1px 1px 1px);\n",
       "  clip: rect(1px, 1px, 1px, 1px);\n",
       "  height: 1px;\n",
       "  margin: -1px;\n",
       "  overflow: hidden;\n",
       "  padding: 0;\n",
       "  position: absolute;\n",
       "  width: 1px;\n",
       "}\n",
       "\n",
       "#sk-container-id-5 div.sk-dashed-wrapped {\n",
       "  border: 1px dashed var(--sklearn-color-line);\n",
       "  margin: 0 0.4em 0.5em 0.4em;\n",
       "  box-sizing: border-box;\n",
       "  padding-bottom: 0.4em;\n",
       "  background-color: var(--sklearn-color-background);\n",
       "}\n",
       "\n",
       "#sk-container-id-5 div.sk-container {\n",
       "  /* jupyter's `normalize.less` sets `[hidden] { display: none; }`\n",
       "     but bootstrap.min.css set `[hidden] { display: none !important; }`\n",
       "     so we also need the `!important` here to be able to override the\n",
       "     default hidden behavior on the sphinx rendered scikit-learn.org.\n",
       "     See: https://github.com/scikit-learn/scikit-learn/issues/21755 */\n",
       "  display: inline-block !important;\n",
       "  position: relative;\n",
       "}\n",
       "\n",
       "#sk-container-id-5 div.sk-text-repr-fallback {\n",
       "  display: none;\n",
       "}\n",
       "\n",
       "div.sk-parallel-item,\n",
       "div.sk-serial,\n",
       "div.sk-item {\n",
       "  /* draw centered vertical line to link estimators */\n",
       "  background-image: linear-gradient(var(--sklearn-color-text-on-default-background), var(--sklearn-color-text-on-default-background));\n",
       "  background-size: 2px 100%;\n",
       "  background-repeat: no-repeat;\n",
       "  background-position: center center;\n",
       "}\n",
       "\n",
       "/* Parallel-specific style estimator block */\n",
       "\n",
       "#sk-container-id-5 div.sk-parallel-item::after {\n",
       "  content: \"\";\n",
       "  width: 100%;\n",
       "  border-bottom: 2px solid var(--sklearn-color-text-on-default-background);\n",
       "  flex-grow: 1;\n",
       "}\n",
       "\n",
       "#sk-container-id-5 div.sk-parallel {\n",
       "  display: flex;\n",
       "  align-items: stretch;\n",
       "  justify-content: center;\n",
       "  background-color: var(--sklearn-color-background);\n",
       "  position: relative;\n",
       "}\n",
       "\n",
       "#sk-container-id-5 div.sk-parallel-item {\n",
       "  display: flex;\n",
       "  flex-direction: column;\n",
       "}\n",
       "\n",
       "#sk-container-id-5 div.sk-parallel-item:first-child::after {\n",
       "  align-self: flex-end;\n",
       "  width: 50%;\n",
       "}\n",
       "\n",
       "#sk-container-id-5 div.sk-parallel-item:last-child::after {\n",
       "  align-self: flex-start;\n",
       "  width: 50%;\n",
       "}\n",
       "\n",
       "#sk-container-id-5 div.sk-parallel-item:only-child::after {\n",
       "  width: 0;\n",
       "}\n",
       "\n",
       "/* Serial-specific style estimator block */\n",
       "\n",
       "#sk-container-id-5 div.sk-serial {\n",
       "  display: flex;\n",
       "  flex-direction: column;\n",
       "  align-items: center;\n",
       "  background-color: var(--sklearn-color-background);\n",
       "  padding-right: 1em;\n",
       "  padding-left: 1em;\n",
       "}\n",
       "\n",
       "\n",
       "/* Toggleable style: style used for estimator/Pipeline/ColumnTransformer box that is\n",
       "clickable and can be expanded/collapsed.\n",
       "- Pipeline and ColumnTransformer use this feature and define the default style\n",
       "- Estimators will overwrite some part of the style using the `sk-estimator` class\n",
       "*/\n",
       "\n",
       "/* Pipeline and ColumnTransformer style (default) */\n",
       "\n",
       "#sk-container-id-5 div.sk-toggleable {\n",
       "  /* Default theme specific background. It is overwritten whether we have a\n",
       "  specific estimator or a Pipeline/ColumnTransformer */\n",
       "  background-color: var(--sklearn-color-background);\n",
       "}\n",
       "\n",
       "/* Toggleable label */\n",
       "#sk-container-id-5 label.sk-toggleable__label {\n",
       "  cursor: pointer;\n",
       "  display: block;\n",
       "  width: 100%;\n",
       "  margin-bottom: 0;\n",
       "  padding: 0.5em;\n",
       "  box-sizing: border-box;\n",
       "  text-align: center;\n",
       "}\n",
       "\n",
       "#sk-container-id-5 label.sk-toggleable__label-arrow:before {\n",
       "  /* Arrow on the left of the label */\n",
       "  content: \"▸\";\n",
       "  float: left;\n",
       "  margin-right: 0.25em;\n",
       "  color: var(--sklearn-color-icon);\n",
       "}\n",
       "\n",
       "#sk-container-id-5 label.sk-toggleable__label-arrow:hover:before {\n",
       "  color: var(--sklearn-color-text);\n",
       "}\n",
       "\n",
       "/* Toggleable content - dropdown */\n",
       "\n",
       "#sk-container-id-5 div.sk-toggleable__content {\n",
       "  max-height: 0;\n",
       "  max-width: 0;\n",
       "  overflow: hidden;\n",
       "  text-align: left;\n",
       "  /* unfitted */\n",
       "  background-color: var(--sklearn-color-unfitted-level-0);\n",
       "}\n",
       "\n",
       "#sk-container-id-5 div.sk-toggleable__content.fitted {\n",
       "  /* fitted */\n",
       "  background-color: var(--sklearn-color-fitted-level-0);\n",
       "}\n",
       "\n",
       "#sk-container-id-5 div.sk-toggleable__content pre {\n",
       "  margin: 0.2em;\n",
       "  border-radius: 0.25em;\n",
       "  color: var(--sklearn-color-text);\n",
       "  /* unfitted */\n",
       "  background-color: var(--sklearn-color-unfitted-level-0);\n",
       "}\n",
       "\n",
       "#sk-container-id-5 div.sk-toggleable__content.fitted pre {\n",
       "  /* unfitted */\n",
       "  background-color: var(--sklearn-color-fitted-level-0);\n",
       "}\n",
       "\n",
       "#sk-container-id-5 input.sk-toggleable__control:checked~div.sk-toggleable__content {\n",
       "  /* Expand drop-down */\n",
       "  max-height: 200px;\n",
       "  max-width: 100%;\n",
       "  overflow: auto;\n",
       "}\n",
       "\n",
       "#sk-container-id-5 input.sk-toggleable__control:checked~label.sk-toggleable__label-arrow:before {\n",
       "  content: \"▾\";\n",
       "}\n",
       "\n",
       "/* Pipeline/ColumnTransformer-specific style */\n",
       "\n",
       "#sk-container-id-5 div.sk-label input.sk-toggleable__control:checked~label.sk-toggleable__label {\n",
       "  color: var(--sklearn-color-text);\n",
       "  background-color: var(--sklearn-color-unfitted-level-2);\n",
       "}\n",
       "\n",
       "#sk-container-id-5 div.sk-label.fitted input.sk-toggleable__control:checked~label.sk-toggleable__label {\n",
       "  background-color: var(--sklearn-color-fitted-level-2);\n",
       "}\n",
       "\n",
       "/* Estimator-specific style */\n",
       "\n",
       "/* Colorize estimator box */\n",
       "#sk-container-id-5 div.sk-estimator input.sk-toggleable__control:checked~label.sk-toggleable__label {\n",
       "  /* unfitted */\n",
       "  background-color: var(--sklearn-color-unfitted-level-2);\n",
       "}\n",
       "\n",
       "#sk-container-id-5 div.sk-estimator.fitted input.sk-toggleable__control:checked~label.sk-toggleable__label {\n",
       "  /* fitted */\n",
       "  background-color: var(--sklearn-color-fitted-level-2);\n",
       "}\n",
       "\n",
       "#sk-container-id-5 div.sk-label label.sk-toggleable__label,\n",
       "#sk-container-id-5 div.sk-label label {\n",
       "  /* The background is the default theme color */\n",
       "  color: var(--sklearn-color-text-on-default-background);\n",
       "}\n",
       "\n",
       "/* On hover, darken the color of the background */\n",
       "#sk-container-id-5 div.sk-label:hover label.sk-toggleable__label {\n",
       "  color: var(--sklearn-color-text);\n",
       "  background-color: var(--sklearn-color-unfitted-level-2);\n",
       "}\n",
       "\n",
       "/* Label box, darken color on hover, fitted */\n",
       "#sk-container-id-5 div.sk-label.fitted:hover label.sk-toggleable__label.fitted {\n",
       "  color: var(--sklearn-color-text);\n",
       "  background-color: var(--sklearn-color-fitted-level-2);\n",
       "}\n",
       "\n",
       "/* Estimator label */\n",
       "\n",
       "#sk-container-id-5 div.sk-label label {\n",
       "  font-family: monospace;\n",
       "  font-weight: bold;\n",
       "  display: inline-block;\n",
       "  line-height: 1.2em;\n",
       "}\n",
       "\n",
       "#sk-container-id-5 div.sk-label-container {\n",
       "  text-align: center;\n",
       "}\n",
       "\n",
       "/* Estimator-specific */\n",
       "#sk-container-id-5 div.sk-estimator {\n",
       "  font-family: monospace;\n",
       "  border: 1px dotted var(--sklearn-color-border-box);\n",
       "  border-radius: 0.25em;\n",
       "  box-sizing: border-box;\n",
       "  margin-bottom: 0.5em;\n",
       "  /* unfitted */\n",
       "  background-color: var(--sklearn-color-unfitted-level-0);\n",
       "}\n",
       "\n",
       "#sk-container-id-5 div.sk-estimator.fitted {\n",
       "  /* fitted */\n",
       "  background-color: var(--sklearn-color-fitted-level-0);\n",
       "}\n",
       "\n",
       "/* on hover */\n",
       "#sk-container-id-5 div.sk-estimator:hover {\n",
       "  /* unfitted */\n",
       "  background-color: var(--sklearn-color-unfitted-level-2);\n",
       "}\n",
       "\n",
       "#sk-container-id-5 div.sk-estimator.fitted:hover {\n",
       "  /* fitted */\n",
       "  background-color: var(--sklearn-color-fitted-level-2);\n",
       "}\n",
       "\n",
       "/* Specification for estimator info (e.g. \"i\" and \"?\") */\n",
       "\n",
       "/* Common style for \"i\" and \"?\" */\n",
       "\n",
       ".sk-estimator-doc-link,\n",
       "a:link.sk-estimator-doc-link,\n",
       "a:visited.sk-estimator-doc-link {\n",
       "  float: right;\n",
       "  font-size: smaller;\n",
       "  line-height: 1em;\n",
       "  font-family: monospace;\n",
       "  background-color: var(--sklearn-color-background);\n",
       "  border-radius: 1em;\n",
       "  height: 1em;\n",
       "  width: 1em;\n",
       "  text-decoration: none !important;\n",
       "  margin-left: 1ex;\n",
       "  /* unfitted */\n",
       "  border: var(--sklearn-color-unfitted-level-1) 1pt solid;\n",
       "  color: var(--sklearn-color-unfitted-level-1);\n",
       "}\n",
       "\n",
       ".sk-estimator-doc-link.fitted,\n",
       "a:link.sk-estimator-doc-link.fitted,\n",
       "a:visited.sk-estimator-doc-link.fitted {\n",
       "  /* fitted */\n",
       "  border: var(--sklearn-color-fitted-level-1) 1pt solid;\n",
       "  color: var(--sklearn-color-fitted-level-1);\n",
       "}\n",
       "\n",
       "/* On hover */\n",
       "div.sk-estimator:hover .sk-estimator-doc-link:hover,\n",
       ".sk-estimator-doc-link:hover,\n",
       "div.sk-label-container:hover .sk-estimator-doc-link:hover,\n",
       ".sk-estimator-doc-link:hover {\n",
       "  /* unfitted */\n",
       "  background-color: var(--sklearn-color-unfitted-level-3);\n",
       "  color: var(--sklearn-color-background);\n",
       "  text-decoration: none;\n",
       "}\n",
       "\n",
       "div.sk-estimator.fitted:hover .sk-estimator-doc-link.fitted:hover,\n",
       ".sk-estimator-doc-link.fitted:hover,\n",
       "div.sk-label-container:hover .sk-estimator-doc-link.fitted:hover,\n",
       ".sk-estimator-doc-link.fitted:hover {\n",
       "  /* fitted */\n",
       "  background-color: var(--sklearn-color-fitted-level-3);\n",
       "  color: var(--sklearn-color-background);\n",
       "  text-decoration: none;\n",
       "}\n",
       "\n",
       "/* Span, style for the box shown on hovering the info icon */\n",
       ".sk-estimator-doc-link span {\n",
       "  display: none;\n",
       "  z-index: 9999;\n",
       "  position: relative;\n",
       "  font-weight: normal;\n",
       "  right: .2ex;\n",
       "  padding: .5ex;\n",
       "  margin: .5ex;\n",
       "  width: min-content;\n",
       "  min-width: 20ex;\n",
       "  max-width: 50ex;\n",
       "  color: var(--sklearn-color-text);\n",
       "  box-shadow: 2pt 2pt 4pt #999;\n",
       "  /* unfitted */\n",
       "  background: var(--sklearn-color-unfitted-level-0);\n",
       "  border: .5pt solid var(--sklearn-color-unfitted-level-3);\n",
       "}\n",
       "\n",
       ".sk-estimator-doc-link.fitted span {\n",
       "  /* fitted */\n",
       "  background: var(--sklearn-color-fitted-level-0);\n",
       "  border: var(--sklearn-color-fitted-level-3);\n",
       "}\n",
       "\n",
       ".sk-estimator-doc-link:hover span {\n",
       "  display: block;\n",
       "}\n",
       "\n",
       "/* \"?\"-specific style due to the `<a>` HTML tag */\n",
       "\n",
       "#sk-container-id-5 a.estimator_doc_link {\n",
       "  float: right;\n",
       "  font-size: 1rem;\n",
       "  line-height: 1em;\n",
       "  font-family: monospace;\n",
       "  background-color: var(--sklearn-color-background);\n",
       "  border-radius: 1rem;\n",
       "  height: 1rem;\n",
       "  width: 1rem;\n",
       "  text-decoration: none;\n",
       "  /* unfitted */\n",
       "  color: var(--sklearn-color-unfitted-level-1);\n",
       "  border: var(--sklearn-color-unfitted-level-1) 1pt solid;\n",
       "}\n",
       "\n",
       "#sk-container-id-5 a.estimator_doc_link.fitted {\n",
       "  /* fitted */\n",
       "  border: var(--sklearn-color-fitted-level-1) 1pt solid;\n",
       "  color: var(--sklearn-color-fitted-level-1);\n",
       "}\n",
       "\n",
       "/* On hover */\n",
       "#sk-container-id-5 a.estimator_doc_link:hover {\n",
       "  /* unfitted */\n",
       "  background-color: var(--sklearn-color-unfitted-level-3);\n",
       "  color: var(--sklearn-color-background);\n",
       "  text-decoration: none;\n",
       "}\n",
       "\n",
       "#sk-container-id-5 a.estimator_doc_link.fitted:hover {\n",
       "  /* fitted */\n",
       "  background-color: var(--sklearn-color-fitted-level-3);\n",
       "}\n",
       "</style><div id=\"sk-container-id-5\" class=\"sk-top-container\"><div class=\"sk-text-repr-fallback\"><pre>XGBClassifier(base_score=None, booster=None, callbacks=None,\n",
       "              colsample_bylevel=None, colsample_bynode=None,\n",
       "              colsample_bytree=0.9964394946899515, device=None,\n",
       "              early_stopping_rounds=None, enable_categorical=False,\n",
       "              eval_metric=None, feature_types=None, gamma=1.2121534098151838,\n",
       "              grow_policy=None, importance_type=None,\n",
       "              interaction_constraints=None, learning_rate=0.05255473835317336,\n",
       "              max_bin=None, max_cat_threshold=None, max_cat_to_onehot=None,\n",
       "              max_delta_step=None, max_depth=3, max_leaves=None,\n",
       "              min_child_weight=1, missing=nan, monotone_constraints=None,\n",
       "              multi_strategy=None, n_estimators=911, n_jobs=None,\n",
       "              num_parallel_tree=None, random_state=42, ...)</pre><b>In a Jupyter environment, please rerun this cell to show the HTML representation or trust the notebook. <br />On GitHub, the HTML representation is unable to render, please try loading this page with nbviewer.org.</b></div><div class=\"sk-container\" hidden><div class=\"sk-item\"><div class=\"sk-estimator fitted sk-toggleable\"><input class=\"sk-toggleable__control sk-hidden--visually\" id=\"sk-estimator-id-5\" type=\"checkbox\" checked><label for=\"sk-estimator-id-5\" class=\"sk-toggleable__label fitted sk-toggleable__label-arrow fitted\">&nbsp;XGBClassifier<span class=\"sk-estimator-doc-link fitted\">i<span>Fitted</span></span></label><div class=\"sk-toggleable__content fitted\"><pre>XGBClassifier(base_score=None, booster=None, callbacks=None,\n",
       "              colsample_bylevel=None, colsample_bynode=None,\n",
       "              colsample_bytree=0.9964394946899515, device=None,\n",
       "              early_stopping_rounds=None, enable_categorical=False,\n",
       "              eval_metric=None, feature_types=None, gamma=1.2121534098151838,\n",
       "              grow_policy=None, importance_type=None,\n",
       "              interaction_constraints=None, learning_rate=0.05255473835317336,\n",
       "              max_bin=None, max_cat_threshold=None, max_cat_to_onehot=None,\n",
       "              max_delta_step=None, max_depth=3, max_leaves=None,\n",
       "              min_child_weight=1, missing=nan, monotone_constraints=None,\n",
       "              multi_strategy=None, n_estimators=911, n_jobs=None,\n",
       "              num_parallel_tree=None, random_state=42, ...)</pre></div> </div></div></div></div>"
      ],
      "text/plain": [
       "XGBClassifier(base_score=None, booster=None, callbacks=None,\n",
       "              colsample_bylevel=None, colsample_bynode=None,\n",
       "              colsample_bytree=0.9964394946899515, device=None,\n",
       "              early_stopping_rounds=None, enable_categorical=False,\n",
       "              eval_metric=None, feature_types=None, gamma=1.2121534098151838,\n",
       "              grow_policy=None, importance_type=None,\n",
       "              interaction_constraints=None, learning_rate=0.05255473835317336,\n",
       "              max_bin=None, max_cat_threshold=None, max_cat_to_onehot=None,\n",
       "              max_delta_step=None, max_depth=3, max_leaves=None,\n",
       "              min_child_weight=1, missing=nan, monotone_constraints=None,\n",
       "              multi_strategy=None, n_estimators=911, n_jobs=None,\n",
       "              num_parallel_tree=None, random_state=42, ...)"
      ]
     },
     "execution_count": 123,
     "metadata": {},
     "output_type": "execute_result"
    }
   ],
   "source": [
    "best_xgb_classifier"
   ]
  },
  {
   "cell_type": "markdown",
   "metadata": {},
   "source": [
    "Catboost: Tuning hyperparametri"
   ]
  },
  {
   "cell_type": "code",
   "execution_count": 124,
   "metadata": {},
   "outputs": [
    {
     "data": {
      "text/plain": [
       "'\\ndef objective(trial):\\n    X_train, X_test, y_train, y_test = train_test_split(X, y, test_size=0.2, random_state=42, stratify=y)\\n        \\n    sampling_strategy = trial.suggest_float(\\'sampling_strategy\\', 0.1, 1.0)\\n    rus = RandomUnderSampler(sampling_strategy=sampling_strategy, random_state=42)\\n    X_train_res, y_train_res = rus.fit_resample(X_train, y_train)\\n    y_train_res.reset_index(drop=True, inplace=True)\\n    X_train_res = pd.get_dummies(X_train_res)\\n    X_test = pd.get_dummies(X_test)\\n\\n    X_train_res = clean_feature_names(X_train_res)\\n    X_test = clean_feature_names(X_test)\\n\\n    X_train_res, X_test = X_train_res.align(X_test, join=\\'inner\\', axis=1)\\n\\n    params = {\\n        \\'n_estimators\\': trial.suggest_int(\\'n_estimators\\', 100, 300),\\n        \\'learning_rate\\': trial.suggest_float(\\'learning_rate\\', 0.01, 0.2, log=True),\\n        \\'max_depth\\': trial.suggest_int(\\'max_depth\\', 5, 15),\\n        \\'l2_leaf_reg\\': trial.suggest_float(\\'l2_leaf_reg\\', 1e-3, 10),\\n        \\'border_count\\': trial.suggest_int(\\'border_count\\', 32, 255),\\n        \\'grow_policy\\': trial.suggest_categorical(\\'grow_policy\\', [\\'SymmetricTree\\', \\'Depthwise\\', \\'Lossguide\\']),\\n        \\'min_data_in_leaf\\': trial.suggest_int(\\'min_data_in_leaf\\', 1, 50),\\n        \\'leaf_estimation_iterations\\': trial.suggest_int(\\'leaf_estimation_iterations\\', 1, 10),\\n        \\'leaf_estimation_method\\': trial.suggest_categorical(\\'leaf_estimation_method\\', [\\'Newton\\', \\'Gradient\\']),\\n        \\'random_state\\': 42,\\n        \\'verbose\\': False\\n    }\\n\\n    kf = StratifiedKFold(n_splits=10, shuffle=True, random_state=42)\\n    scores = []\\n    for train_index, val_index in kf.split(X_train_res, y_train_res):\\n        X_fold_train, X_fold_val = X_train_res.iloc[train_index], X_train_res.iloc[val_index]\\n        y_fold_train, y_fold_val = y_train_res[train_index], y_train_res[val_index]\\n        \\n        model = cb.CatBoostClassifier(**params)\\n        model.fit(X_fold_train, y_fold_train)\\n        y_fold_pred = model.predict_proba(X_fold_val)[:, 1]\\n        score = roc_auc_score(y_fold_val, y_fold_pred)\\n        scores.append(score)\\n    \\n    return np.mean(scores)\\n\\nsampler = optuna.samplers.TPESampler(seed=42)\\nstudy = optuna.create_study(direction=\\'maximize\\', sampler=sampler)\\nstudy.optimize(objective, n_trials=50)\\n\\nbest_params = study.best_params\\nbest_roc_auc = study.best_value\\n\\nprint(\"Best Hyperparameters:\", best_params)\\nprint(\"Best ROC AUC Score:\", best_roc_auc)\\n\\nhistory_plot = vis.plot_optimization_history(study)\\nhistory_plot.show()\\n\\nimportance_plot = vis.plot_param_importances(study)\\nimportance_plot.show()\\n\\nslice_plot = vis.plot_slice(study)\\nslice_plot.show()\\n'"
      ]
     },
     "execution_count": 124,
     "metadata": {},
     "output_type": "execute_result"
    }
   ],
   "source": [
    "'''\n",
    "def objective(trial):\n",
    "    X_train, X_test, y_train, y_test = train_test_split(X, y, test_size=0.2, random_state=42, stratify=y)\n",
    "        \n",
    "    sampling_strategy = trial.suggest_float('sampling_strategy', 0.1, 1.0)\n",
    "    rus = RandomUnderSampler(sampling_strategy=sampling_strategy, random_state=42)\n",
    "    X_train_res, y_train_res = rus.fit_resample(X_train, y_train)\n",
    "    y_train_res.reset_index(drop=True, inplace=True)\n",
    "    X_train_res = pd.get_dummies(X_train_res)\n",
    "    X_test = pd.get_dummies(X_test)\n",
    "\n",
    "    X_train_res = clean_feature_names(X_train_res)\n",
    "    X_test = clean_feature_names(X_test)\n",
    "\n",
    "    X_train_res, X_test = X_train_res.align(X_test, join='inner', axis=1)\n",
    "\n",
    "    params = {\n",
    "        'n_estimators': trial.suggest_int('n_estimators', 100, 300),\n",
    "        'learning_rate': trial.suggest_float('learning_rate', 0.01, 0.2, log=True),\n",
    "        'max_depth': trial.suggest_int('max_depth', 5, 15),\n",
    "        'l2_leaf_reg': trial.suggest_float('l2_leaf_reg', 1e-3, 10),\n",
    "        'border_count': trial.suggest_int('border_count', 32, 255),\n",
    "        'grow_policy': trial.suggest_categorical('grow_policy', ['SymmetricTree', 'Depthwise', 'Lossguide']),\n",
    "        'min_data_in_leaf': trial.suggest_int('min_data_in_leaf', 1, 50),\n",
    "        'leaf_estimation_iterations': trial.suggest_int('leaf_estimation_iterations', 1, 10),\n",
    "        'leaf_estimation_method': trial.suggest_categorical('leaf_estimation_method', ['Newton', 'Gradient']),\n",
    "        'random_state': 42,\n",
    "        'verbose': False\n",
    "    }\n",
    "\n",
    "    kf = StratifiedKFold(n_splits=10, shuffle=True, random_state=42)\n",
    "    scores = []\n",
    "    for train_index, val_index in kf.split(X_train_res, y_train_res):\n",
    "        X_fold_train, X_fold_val = X_train_res.iloc[train_index], X_train_res.iloc[val_index]\n",
    "        y_fold_train, y_fold_val = y_train_res[train_index], y_train_res[val_index]\n",
    "        \n",
    "        model = cb.CatBoostClassifier(**params)\n",
    "        model.fit(X_fold_train, y_fold_train)\n",
    "        y_fold_pred = model.predict_proba(X_fold_val)[:, 1]\n",
    "        score = roc_auc_score(y_fold_val, y_fold_pred)\n",
    "        scores.append(score)\n",
    "    \n",
    "    return np.mean(scores)\n",
    "\n",
    "sampler = optuna.samplers.TPESampler(seed=42)\n",
    "study = optuna.create_study(direction='maximize', sampler=sampler)\n",
    "study.optimize(objective, n_trials=50)\n",
    "\n",
    "best_params = study.best_params\n",
    "best_roc_auc = study.best_value\n",
    "\n",
    "print(\"Best Hyperparameters:\", best_params)\n",
    "print(\"Best ROC AUC Score:\", best_roc_auc)\n",
    "\n",
    "history_plot = vis.plot_optimization_history(study)\n",
    "history_plot.show()\n",
    "\n",
    "importance_plot = vis.plot_param_importances(study)\n",
    "importance_plot.show()\n",
    "\n",
    "slice_plot = vis.plot_slice(study)\n",
    "slice_plot.show()\n",
    "'''"
   ]
  },
  {
   "cell_type": "code",
   "execution_count": 125,
   "metadata": {},
   "outputs": [
    {
     "name": "stdout",
     "output_type": "stream",
     "text": [
      "0:\tlearn: 0.5362762\ttotal: 22ms\tremaining: 5.11s\n",
      "1:\tlearn: 0.4276353\ttotal: 49.8ms\tremaining: 5.75s\n",
      "2:\tlearn: 0.3474700\ttotal: 72.1ms\tremaining: 5.53s\n",
      "3:\tlearn: 0.2886070\ttotal: 92.4ms\tremaining: 5.29s\n",
      "4:\tlearn: 0.2425004\ttotal: 115ms\tremaining: 5.24s\n",
      "5:\tlearn: 0.2105585\ttotal: 139ms\tremaining: 5.26s\n",
      "6:\tlearn: 0.1841922\ttotal: 163ms\tremaining: 5.27s\n",
      "7:\tlearn: 0.1677869\ttotal: 185ms\tremaining: 5.21s\n",
      "8:\tlearn: 0.1507879\ttotal: 210ms\tremaining: 5.23s\n",
      "9:\tlearn: 0.1402869\ttotal: 228ms\tremaining: 5.09s\n",
      "10:\tlearn: 0.1322716\ttotal: 248ms\tremaining: 5s\n",
      "11:\tlearn: 0.1221390\ttotal: 272ms\tremaining: 5.01s\n",
      "12:\tlearn: 0.1145814\ttotal: 296ms\tremaining: 5.01s\n",
      "13:\tlearn: 0.1075173\ttotal: 323ms\tremaining: 5.05s\n",
      "14:\tlearn: 0.1027832\ttotal: 350ms\tremaining: 5.09s\n",
      "15:\tlearn: 0.0987480\ttotal: 373ms\tremaining: 5.06s\n",
      "16:\tlearn: 0.0945425\ttotal: 393ms\tremaining: 5s\n",
      "17:\tlearn: 0.0908213\ttotal: 415ms\tremaining: 4.96s\n",
      "18:\tlearn: 0.0880805\ttotal: 429ms\tremaining: 4.83s\n",
      "19:\tlearn: 0.0857307\ttotal: 447ms\tremaining: 4.76s\n",
      "20:\tlearn: 0.0827197\ttotal: 462ms\tremaining: 4.67s\n",
      "21:\tlearn: 0.0804480\ttotal: 486ms\tremaining: 4.66s\n",
      "22:\tlearn: 0.0783385\ttotal: 509ms\tremaining: 4.65s\n",
      "23:\tlearn: 0.0769145\ttotal: 528ms\tremaining: 4.6s\n",
      "24:\tlearn: 0.0759850\ttotal: 540ms\tremaining: 4.49s\n",
      "25:\tlearn: 0.0743685\ttotal: 553ms\tremaining: 4.41s\n",
      "26:\tlearn: 0.0728716\ttotal: 573ms\tremaining: 4.37s\n",
      "27:\tlearn: 0.0713485\ttotal: 586ms\tremaining: 4.29s\n",
      "28:\tlearn: 0.0705620\ttotal: 602ms\tremaining: 4.23s\n",
      "29:\tlearn: 0.0693254\ttotal: 617ms\tremaining: 4.17s\n",
      "30:\tlearn: 0.0675215\ttotal: 633ms\tremaining: 4.12s\n",
      "31:\tlearn: 0.0662143\ttotal: 652ms\tremaining: 4.1s\n",
      "32:\tlearn: 0.0652771\ttotal: 667ms\tremaining: 4.04s\n",
      "33:\tlearn: 0.0634296\ttotal: 680ms\tremaining: 3.98s\n",
      "34:\tlearn: 0.0626157\ttotal: 694ms\tremaining: 3.93s\n",
      "35:\tlearn: 0.0617747\ttotal: 717ms\tremaining: 3.92s\n",
      "36:\tlearn: 0.0607921\ttotal: 731ms\tremaining: 3.87s\n",
      "37:\tlearn: 0.0597891\ttotal: 752ms\tremaining: 3.86s\n",
      "38:\tlearn: 0.0592588\ttotal: 767ms\tremaining: 3.81s\n",
      "39:\tlearn: 0.0581413\ttotal: 786ms\tremaining: 3.79s\n",
      "40:\tlearn: 0.0575757\ttotal: 799ms\tremaining: 3.74s\n",
      "41:\tlearn: 0.0568291\ttotal: 813ms\tremaining: 3.7s\n",
      "42:\tlearn: 0.0565029\ttotal: 827ms\tremaining: 3.65s\n",
      "43:\tlearn: 0.0558180\ttotal: 846ms\tremaining: 3.64s\n",
      "44:\tlearn: 0.0551119\ttotal: 863ms\tremaining: 3.6s\n",
      "45:\tlearn: 0.0543578\ttotal: 873ms\tremaining: 3.55s\n",
      "46:\tlearn: 0.0534742\ttotal: 887ms\tremaining: 3.51s\n",
      "47:\tlearn: 0.0528166\ttotal: 905ms\tremaining: 3.49s\n",
      "48:\tlearn: 0.0525208\ttotal: 918ms\tremaining: 3.45s\n",
      "49:\tlearn: 0.0517011\ttotal: 937ms\tremaining: 3.43s\n",
      "50:\tlearn: 0.0511544\ttotal: 953ms\tremaining: 3.4s\n",
      "51:\tlearn: 0.0505846\ttotal: 967ms\tremaining: 3.37s\n",
      "52:\tlearn: 0.0498816\ttotal: 986ms\tremaining: 3.35s\n",
      "53:\tlearn: 0.0496760\ttotal: 997ms\tremaining: 3.3s\n",
      "54:\tlearn: 0.0488837\ttotal: 1.01s\tremaining: 3.27s\n",
      "55:\tlearn: 0.0481036\ttotal: 1.02s\tremaining: 3.24s\n",
      "56:\tlearn: 0.0474882\ttotal: 1.04s\tremaining: 3.21s\n",
      "57:\tlearn: 0.0469376\ttotal: 1.05s\tremaining: 3.18s\n",
      "58:\tlearn: 0.0465928\ttotal: 1.06s\tremaining: 3.14s\n",
      "59:\tlearn: 0.0461370\ttotal: 1.08s\tremaining: 3.11s\n",
      "60:\tlearn: 0.0458132\ttotal: 1.08s\tremaining: 3.06s\n",
      "61:\tlearn: 0.0452057\ttotal: 1.09s\tremaining: 3.02s\n",
      "62:\tlearn: 0.0447155\ttotal: 1.11s\tremaining: 2.99s\n",
      "63:\tlearn: 0.0445277\ttotal: 1.12s\tremaining: 2.95s\n",
      "64:\tlearn: 0.0434475\ttotal: 1.13s\tremaining: 2.92s\n",
      "65:\tlearn: 0.0433166\ttotal: 1.14s\tremaining: 2.88s\n",
      "66:\tlearn: 0.0428861\ttotal: 1.15s\tremaining: 2.85s\n",
      "67:\tlearn: 0.0425729\ttotal: 1.16s\tremaining: 2.82s\n",
      "68:\tlearn: 0.0419007\ttotal: 1.18s\tremaining: 2.79s\n",
      "69:\tlearn: 0.0415182\ttotal: 1.19s\tremaining: 2.76s\n",
      "70:\tlearn: 0.0412267\ttotal: 1.19s\tremaining: 2.72s\n",
      "71:\tlearn: 0.0411542\ttotal: 1.2s\tremaining: 2.69s\n",
      "72:\tlearn: 0.0408817\ttotal: 1.21s\tremaining: 2.65s\n",
      "73:\tlearn: 0.0405950\ttotal: 1.22s\tremaining: 2.63s\n",
      "74:\tlearn: 0.0399596\ttotal: 1.23s\tremaining: 2.6s\n",
      "75:\tlearn: 0.0396348\ttotal: 1.24s\tremaining: 2.56s\n",
      "76:\tlearn: 0.0392405\ttotal: 1.25s\tremaining: 2.54s\n",
      "77:\tlearn: 0.0388189\ttotal: 1.26s\tremaining: 2.51s\n",
      "78:\tlearn: 0.0385114\ttotal: 1.27s\tremaining: 2.48s\n",
      "79:\tlearn: 0.0377391\ttotal: 1.28s\tremaining: 2.46s\n",
      "80:\tlearn: 0.0374756\ttotal: 1.29s\tremaining: 2.42s\n",
      "81:\tlearn: 0.0372257\ttotal: 1.3s\tremaining: 2.4s\n",
      "82:\tlearn: 0.0369411\ttotal: 1.31s\tremaining: 2.38s\n",
      "83:\tlearn: 0.0366270\ttotal: 1.32s\tremaining: 2.35s\n",
      "84:\tlearn: 0.0362337\ttotal: 1.34s\tremaining: 2.33s\n",
      "85:\tlearn: 0.0360970\ttotal: 1.34s\tremaining: 2.3s\n",
      "86:\tlearn: 0.0359896\ttotal: 1.35s\tremaining: 2.27s\n",
      "87:\tlearn: 0.0358059\ttotal: 1.36s\tremaining: 2.25s\n",
      "88:\tlearn: 0.0353969\ttotal: 1.38s\tremaining: 2.23s\n",
      "89:\tlearn: 0.0352093\ttotal: 1.38s\tremaining: 2.2s\n",
      "90:\tlearn: 0.0346540\ttotal: 1.4s\tremaining: 2.18s\n",
      "91:\tlearn: 0.0342623\ttotal: 1.41s\tremaining: 2.15s\n",
      "92:\tlearn: 0.0340212\ttotal: 1.42s\tremaining: 2.13s\n",
      "93:\tlearn: 0.0337701\ttotal: 1.43s\tremaining: 2.11s\n",
      "94:\tlearn: 0.0334370\ttotal: 1.44s\tremaining: 2.09s\n",
      "95:\tlearn: 0.0329927\ttotal: 1.45s\tremaining: 2.06s\n",
      "96:\tlearn: 0.0327593\ttotal: 1.46s\tremaining: 2.04s\n",
      "97:\tlearn: 0.0326348\ttotal: 1.47s\tremaining: 2.02s\n",
      "98:\tlearn: 0.0322166\ttotal: 1.48s\tremaining: 2s\n",
      "99:\tlearn: 0.0318862\ttotal: 1.49s\tremaining: 1.99s\n",
      "100:\tlearn: 0.0315171\ttotal: 1.5s\tremaining: 1.96s\n",
      "101:\tlearn: 0.0312719\ttotal: 1.51s\tremaining: 1.94s\n",
      "102:\tlearn: 0.0310922\ttotal: 1.52s\tremaining: 1.92s\n",
      "103:\tlearn: 0.0310136\ttotal: 1.53s\tremaining: 1.9s\n",
      "104:\tlearn: 0.0307284\ttotal: 1.55s\tremaining: 1.89s\n",
      "105:\tlearn: 0.0305978\ttotal: 1.56s\tremaining: 1.86s\n",
      "106:\tlearn: 0.0304718\ttotal: 1.57s\tremaining: 1.84s\n",
      "107:\tlearn: 0.0302975\ttotal: 1.58s\tremaining: 1.83s\n",
      "108:\tlearn: 0.0300967\ttotal: 1.59s\tremaining: 1.81s\n",
      "109:\tlearn: 0.0295182\ttotal: 1.6s\tremaining: 1.79s\n",
      "110:\tlearn: 0.0293331\ttotal: 1.61s\tremaining: 1.77s\n",
      "111:\tlearn: 0.0292791\ttotal: 1.62s\tremaining: 1.75s\n",
      "112:\tlearn: 0.0291200\ttotal: 1.63s\tremaining: 1.73s\n",
      "113:\tlearn: 0.0290341\ttotal: 1.64s\tremaining: 1.71s\n",
      "114:\tlearn: 0.0289867\ttotal: 1.64s\tremaining: 1.69s\n",
      "115:\tlearn: 0.0286876\ttotal: 1.66s\tremaining: 1.67s\n",
      "116:\tlearn: 0.0285953\ttotal: 1.67s\tremaining: 1.65s\n",
      "117:\tlearn: 0.0283577\ttotal: 1.68s\tremaining: 1.64s\n",
      "118:\tlearn: 0.0282435\ttotal: 1.69s\tremaining: 1.62s\n",
      "119:\tlearn: 0.0280831\ttotal: 1.7s\tremaining: 1.6s\n",
      "120:\tlearn: 0.0279569\ttotal: 1.71s\tremaining: 1.58s\n",
      "121:\tlearn: 0.0277999\ttotal: 1.72s\tremaining: 1.56s\n",
      "122:\tlearn: 0.0277704\ttotal: 1.73s\tremaining: 1.54s\n",
      "123:\tlearn: 0.0275857\ttotal: 1.74s\tremaining: 1.52s\n",
      "124:\tlearn: 0.0274248\ttotal: 1.75s\tremaining: 1.51s\n",
      "125:\tlearn: 0.0272899\ttotal: 1.75s\tremaining: 1.49s\n",
      "126:\tlearn: 0.0272281\ttotal: 1.76s\tremaining: 1.47s\n",
      "127:\tlearn: 0.0270816\ttotal: 1.77s\tremaining: 1.45s\n",
      "128:\tlearn: 0.0267273\ttotal: 1.79s\tremaining: 1.44s\n",
      "129:\tlearn: 0.0265950\ttotal: 1.79s\tremaining: 1.42s\n",
      "130:\tlearn: 0.0265409\ttotal: 1.8s\tremaining: 1.4s\n",
      "131:\tlearn: 0.0263975\ttotal: 1.81s\tremaining: 1.39s\n",
      "132:\tlearn: 0.0261390\ttotal: 1.82s\tremaining: 1.37s\n",
      "133:\tlearn: 0.0260364\ttotal: 1.83s\tremaining: 1.35s\n",
      "134:\tlearn: 0.0259319\ttotal: 1.84s\tremaining: 1.34s\n",
      "135:\tlearn: 0.0257188\ttotal: 1.85s\tremaining: 1.32s\n",
      "136:\tlearn: 0.0254738\ttotal: 1.86s\tremaining: 1.3s\n",
      "137:\tlearn: 0.0252229\ttotal: 1.88s\tremaining: 1.29s\n",
      "138:\tlearn: 0.0250921\ttotal: 1.89s\tremaining: 1.28s\n",
      "139:\tlearn: 0.0249584\ttotal: 1.9s\tremaining: 1.26s\n",
      "140:\tlearn: 0.0248206\ttotal: 1.91s\tremaining: 1.25s\n",
      "141:\tlearn: 0.0247268\ttotal: 1.92s\tremaining: 1.23s\n",
      "142:\tlearn: 0.0246039\ttotal: 1.93s\tremaining: 1.21s\n",
      "143:\tlearn: 0.0245508\ttotal: 1.94s\tremaining: 1.2s\n",
      "144:\tlearn: 0.0243443\ttotal: 1.95s\tremaining: 1.18s\n",
      "145:\tlearn: 0.0238709\ttotal: 1.97s\tremaining: 1.17s\n",
      "146:\tlearn: 0.0236986\ttotal: 1.98s\tremaining: 1.16s\n",
      "147:\tlearn: 0.0233496\ttotal: 2s\tremaining: 1.15s\n",
      "148:\tlearn: 0.0231676\ttotal: 2.01s\tremaining: 1.13s\n",
      "149:\tlearn: 0.0229196\ttotal: 2.02s\tremaining: 1.12s\n",
      "150:\tlearn: 0.0226750\ttotal: 2.03s\tremaining: 1.1s\n",
      "151:\tlearn: 0.0224137\ttotal: 2.05s\tremaining: 1.09s\n",
      "152:\tlearn: 0.0222315\ttotal: 2.06s\tremaining: 1.08s\n",
      "153:\tlearn: 0.0221499\ttotal: 2.07s\tremaining: 1.06s\n",
      "154:\tlearn: 0.0219486\ttotal: 2.08s\tremaining: 1.05s\n",
      "155:\tlearn: 0.0219018\ttotal: 2.09s\tremaining: 1.03s\n",
      "156:\tlearn: 0.0215773\ttotal: 2.1s\tremaining: 1.02s\n",
      "157:\tlearn: 0.0214691\ttotal: 2.11s\tremaining: 1s\n",
      "158:\tlearn: 0.0213760\ttotal: 2.12s\tremaining: 988ms\n",
      "159:\tlearn: 0.0211564\ttotal: 2.14s\tremaining: 975ms\n",
      "160:\tlearn: 0.0211089\ttotal: 2.14s\tremaining: 959ms\n",
      "161:\tlearn: 0.0209729\ttotal: 2.15s\tremaining: 944ms\n",
      "162:\tlearn: 0.0208089\ttotal: 2.17s\tremaining: 930ms\n",
      "163:\tlearn: 0.0206884\ttotal: 2.17s\tremaining: 915ms\n",
      "164:\tlearn: 0.0204578\ttotal: 2.19s\tremaining: 901ms\n",
      "165:\tlearn: 0.0202999\ttotal: 2.2s\tremaining: 887ms\n",
      "166:\tlearn: 0.0202203\ttotal: 2.21s\tremaining: 872ms\n",
      "167:\tlearn: 0.0200168\ttotal: 2.22s\tremaining: 860ms\n",
      "168:\tlearn: 0.0200077\ttotal: 2.23s\tremaining: 845ms\n",
      "169:\tlearn: 0.0198499\ttotal: 2.24s\tremaining: 830ms\n",
      "170:\tlearn: 0.0196210\ttotal: 2.25s\tremaining: 817ms\n",
      "171:\tlearn: 0.0195163\ttotal: 2.26s\tremaining: 803ms\n",
      "172:\tlearn: 0.0194449\ttotal: 2.27s\tremaining: 788ms\n",
      "173:\tlearn: 0.0193696\ttotal: 2.28s\tremaining: 774ms\n",
      "174:\tlearn: 0.0192274\ttotal: 2.3s\tremaining: 761ms\n",
      "175:\tlearn: 0.0191947\ttotal: 2.31s\tremaining: 747ms\n",
      "176:\tlearn: 0.0191440\ttotal: 2.32s\tremaining: 733ms\n",
      "177:\tlearn: 0.0190465\ttotal: 2.33s\tremaining: 720ms\n",
      "178:\tlearn: 0.0189216\ttotal: 2.34s\tremaining: 706ms\n",
      "179:\tlearn: 0.0187840\ttotal: 2.35s\tremaining: 692ms\n",
      "180:\tlearn: 0.0187621\ttotal: 2.36s\tremaining: 678ms\n",
      "181:\tlearn: 0.0185716\ttotal: 2.38s\tremaining: 666ms\n",
      "182:\tlearn: 0.0185401\ttotal: 2.38s\tremaining: 651ms\n",
      "183:\tlearn: 0.0183898\ttotal: 2.39s\tremaining: 638ms\n",
      "184:\tlearn: 0.0182451\ttotal: 2.41s\tremaining: 624ms\n",
      "185:\tlearn: 0.0181377\ttotal: 2.42s\tremaining: 611ms\n",
      "186:\tlearn: 0.0179964\ttotal: 2.43s\tremaining: 597ms\n",
      "187:\tlearn: 0.0179159\ttotal: 2.44s\tremaining: 584ms\n",
      "188:\tlearn: 0.0178595\ttotal: 2.45s\tremaining: 570ms\n",
      "189:\tlearn: 0.0178193\ttotal: 2.46s\tremaining: 556ms\n",
      "190:\tlearn: 0.0176817\ttotal: 2.47s\tremaining: 543ms\n",
      "191:\tlearn: 0.0175253\ttotal: 2.48s\tremaining: 529ms\n",
      "192:\tlearn: 0.0174790\ttotal: 2.48s\tremaining: 515ms\n",
      "193:\tlearn: 0.0174224\ttotal: 2.5s\tremaining: 502ms\n",
      "194:\tlearn: 0.0173088\ttotal: 2.5s\tremaining: 488ms\n",
      "195:\tlearn: 0.0172747\ttotal: 2.51s\tremaining: 475ms\n",
      "196:\tlearn: 0.0172078\ttotal: 2.52s\tremaining: 461ms\n",
      "197:\tlearn: 0.0171578\ttotal: 2.53s\tremaining: 448ms\n",
      "198:\tlearn: 0.0170501\ttotal: 2.54s\tremaining: 434ms\n",
      "199:\tlearn: 0.0170094\ttotal: 2.55s\tremaining: 421ms\n",
      "200:\tlearn: 0.0169589\ttotal: 2.56s\tremaining: 407ms\n",
      "201:\tlearn: 0.0167808\ttotal: 2.57s\tremaining: 395ms\n",
      "202:\tlearn: 0.0166860\ttotal: 2.58s\tremaining: 381ms\n",
      "203:\tlearn: 0.0166301\ttotal: 2.59s\tremaining: 368ms\n",
      "204:\tlearn: 0.0165278\ttotal: 2.6s\tremaining: 355ms\n",
      "205:\tlearn: 0.0164529\ttotal: 2.61s\tremaining: 342ms\n",
      "206:\tlearn: 0.0164123\ttotal: 2.62s\tremaining: 329ms\n",
      "207:\tlearn: 0.0163807\ttotal: 2.63s\tremaining: 316ms\n",
      "208:\tlearn: 0.0163661\ttotal: 2.64s\tremaining: 303ms\n",
      "209:\tlearn: 0.0162583\ttotal: 2.65s\tremaining: 290ms\n",
      "210:\tlearn: 0.0160970\ttotal: 2.66s\tremaining: 278ms\n",
      "211:\tlearn: 0.0160465\ttotal: 2.67s\tremaining: 265ms\n",
      "212:\tlearn: 0.0159497\ttotal: 2.69s\tremaining: 252ms\n",
      "213:\tlearn: 0.0158207\ttotal: 2.7s\tremaining: 239ms\n",
      "214:\tlearn: 0.0157209\ttotal: 2.71s\tremaining: 227ms\n",
      "215:\tlearn: 0.0156810\ttotal: 2.72s\tremaining: 214ms\n",
      "216:\tlearn: 0.0156132\ttotal: 2.73s\tremaining: 201ms\n",
      "217:\tlearn: 0.0155113\ttotal: 2.74s\tremaining: 189ms\n",
      "218:\tlearn: 0.0154126\ttotal: 2.75s\tremaining: 176ms\n",
      "219:\tlearn: 0.0153654\ttotal: 2.76s\tremaining: 163ms\n",
      "220:\tlearn: 0.0152356\ttotal: 2.77s\tremaining: 151ms\n",
      "221:\tlearn: 0.0151851\ttotal: 2.78s\tremaining: 138ms\n",
      "222:\tlearn: 0.0151040\ttotal: 2.8s\tremaining: 125ms\n",
      "223:\tlearn: 0.0150120\ttotal: 2.81s\tremaining: 113ms\n",
      "224:\tlearn: 0.0148022\ttotal: 2.83s\tremaining: 100ms\n",
      "225:\tlearn: 0.0147206\ttotal: 2.84s\tremaining: 87.9ms\n",
      "226:\tlearn: 0.0146000\ttotal: 2.85s\tremaining: 75.3ms\n",
      "227:\tlearn: 0.0145343\ttotal: 2.86s\tremaining: 62.7ms\n",
      "228:\tlearn: 0.0143622\ttotal: 2.87s\tremaining: 50.2ms\n",
      "229:\tlearn: 0.0143112\ttotal: 2.88s\tremaining: 37.6ms\n",
      "230:\tlearn: 0.0142560\ttotal: 2.89s\tremaining: 25ms\n",
      "231:\tlearn: 0.0141309\ttotal: 2.9s\tremaining: 12.5ms\n",
      "232:\tlearn: 0.0139320\ttotal: 2.92s\tremaining: 0us\n"
     ]
    }
   ],
   "source": [
    "'''\n",
    "Best Hyperparameters: {'sampling_strategy': 0.24371396656270275, 'n_estimators': 233, 'learning_rate': 0.1475404432012003, 'max_depth': 10, 'l2_leaf_reg': 1.66818163795537, 'border_count': 234, 'grow_policy': 'Depthwise', 'min_data_in_leaf': 40, 'leaf_estimation_iterations': 2, 'leaf_estimation_method': 'Newton'}\n",
    "Best ROC AUC Score: 0.991390354317063\n",
    "'''\n",
    "catboost_params = {\n",
    "    'n_estimators': 233,\n",
    "    'learning_rate': 0.1475404432012003,\n",
    "    'max_depth': 10,\n",
    "    'l2_leaf_reg': 1.66818163795537,\n",
    "    'border_count': 234,\n",
    "    'grow_policy': 'Depthwise',\n",
    "    'min_data_in_leaf': 40,\n",
    "    'leaf_estimation_iterations': 2,\n",
    "    'leaf_estimation_method': 'Newton',\n",
    "    'random_state': 42  # Assuming we keep the random state consistent with the other models\n",
    "}\n",
    "\n",
    "# Create the CatBoost classifier instance with the best hyperparameters\n",
    "best_catboost_classifier = cb.CatBoostClassifier(**catboost_params)\n",
    "\n",
    "best_catboost_classifier.fit(X_train_res, y_train_res)\n",
    "catboost_predictions = best_catboost_classifier.predict_proba(X_test)[:, 1]\n"
   ]
  },
  {
   "cell_type": "markdown",
   "metadata": {},
   "source": [
    "Iterazione Metodo Brute Force per trovare i migliori pesi da dare al nostro modello per massimizzare la ROC Curve"
   ]
  },
  {
   "cell_type": "code",
   "execution_count": 144,
   "metadata": {},
   "outputs": [
    {
     "name": "stderr",
     "output_type": "stream",
     "text": [
      "[I 2024-04-18 20:13:26,280] A new study created in memory with name: no-name-bcdff8ea-9409-4021-ab74-69a01bfac33f\n",
      "[I 2024-04-18 20:13:26,296] Trial 0 finished with value: 0.9904860732569809 and parameters: {'w_catboost': 0.5586240613332286, 'w_xgboost': 0.39203482077716545, 'w_lgbm': 0.2862435517038132}. Best is trial 0 with value: 0.9904860732569809.\n",
      "[I 2024-04-18 20:13:26,317] Trial 1 finished with value: 0.9903352960649736 and parameters: {'w_catboost': 0.42831359897620214, 'w_xgboost': 0.6382594963751183, 'w_lgbm': 0.10078568366763885}. Best is trial 0 with value: 0.9904860732569809.\n",
      "[I 2024-04-18 20:13:26,341] Trial 2 finished with value: 0.9904970779118494 and parameters: {'w_catboost': 0.9599045360138949, 'w_xgboost': 0.6493933793104437, 'w_lgbm': 0.35221781786334394}. Best is trial 2 with value: 0.9904970779118494.\n",
      "[I 2024-04-18 20:13:26,366] Trial 3 finished with value: 0.9902043138314186 and parameters: {'w_catboost': 0.25138750083510386, 'w_xgboost': 0.1689541176958621, 'w_lgbm': 0.6760742442622447}. Best is trial 2 with value: 0.9904970779118494.\n",
      "[I 2024-04-18 20:13:26,389] Trial 4 finished with value: 0.9903311357686211 and parameters: {'w_catboost': 0.3737739994807794, 'w_xgboost': 0.4043885255041253, 'w_lgbm': 0.5483963948825866}. Best is trial 2 with value: 0.9904970779118494.\n",
      "[I 2024-04-18 20:13:26,412] Trial 5 finished with value: 0.9904901329010025 and parameters: {'w_catboost': 0.8021810566510597, 'w_xgboost': 0.5404200007500768, 'w_lgbm': 0.4411128756740461}. Best is trial 2 with value: 0.9904970779118494.\n",
      "[I 2024-04-18 20:13:26,438] Trial 6 finished with value: 0.9905064385786427 and parameters: {'w_catboost': 0.8917459873595907, 'w_xgboost': 0.03042951151542761, 'w_lgbm': 0.8030190759986929}. Best is trial 6 with value: 0.9905064385786427.\n",
      "[I 2024-04-18 20:13:26,464] Trial 7 finished with value: 0.9895680568956762 and parameters: {'w_catboost': 0.025895764499821672, 'w_xgboost': 0.05417804435342899, 'w_lgbm': 0.789918840340997}. Best is trial 6 with value: 0.9905064385786427.\n",
      "[I 2024-04-18 20:13:26,486] Trial 8 finished with value: 0.9902351805462932 and parameters: {'w_catboost': 0.38389418242874396, 'w_xgboost': 0.7903305634218144, 'w_lgbm': 0.513741056567088}. Best is trial 6 with value: 0.9905064385786427.\n",
      "[I 2024-04-18 20:13:26,509] Trial 9 finished with value: 0.9904476576172728 and parameters: {'w_catboost': 0.17572513930307787, 'w_xgboost': 0.10043774133189065, 'w_lgbm': 0.1802083550920287}. Best is trial 6 with value: 0.9905064385786427.\n",
      "[I 2024-04-18 20:13:26,547] Trial 10 finished with value: 0.9903024498542538 and parameters: {'w_catboost': 0.6928213001297043, 'w_xgboost': 0.9827882661421159, 'w_lgbm': 0.9529038015787811}. Best is trial 6 with value: 0.9905064385786427.\n",
      "[I 2024-04-18 20:13:26,581] Trial 11 finished with value: 0.9905570667011927 and parameters: {'w_catboost': 0.9996402191163233, 'w_xgboost': 0.28009995653966496, 'w_lgbm': 0.32310255463624094}. Best is trial 11 with value: 0.9905570667011927.\n",
      "[I 2024-04-18 20:13:26,615] Trial 12 finished with value: 0.9904733239617066 and parameters: {'w_catboost': 0.966423377459109, 'w_xgboost': 0.25219823588282625, 'w_lgbm': 0.9997619090476397}. Best is trial 11 with value: 0.9905570667011927.\n",
      "[I 2024-04-18 20:13:26,650] Trial 13 finished with value: 0.9904892941315765 and parameters: {'w_catboost': 0.8235141339286909, 'w_xgboost': 0.2658360982637551, 'w_lgbm': 0.7810224655125296}. Best is trial 11 with value: 0.9905570667011927.\n",
      "[I 2024-04-18 20:13:26,685] Trial 14 finished with value: 0.9903717322088366 and parameters: {'w_catboost': 0.6506062790055636, 'w_xgboost': 0.04997712077517981, 'w_lgbm': 0.020465190544460832}. Best is trial 11 with value: 0.9905570667011927.\n",
      "[I 2024-04-18 20:13:26,794] Trial 15 finished with value: 0.9905124777185095 and parameters: {'w_catboost': 0.8484355614344579, 'w_xgboost': 0.271946573417418, 'w_lgbm': 0.6867183104054608}. Best is trial 11 with value: 0.9905570667011927.\n",
      "[I 2024-04-18 20:13:26,850] Trial 16 finished with value: 0.9904849660813386 and parameters: {'w_catboost': 0.7379759041096585, 'w_xgboost': 0.3525048681014784, 'w_lgbm': 0.645469311274401}. Best is trial 11 with value: 0.9905570667011927.\n",
      "[I 2024-04-18 20:13:26,896] Trial 17 finished with value: 0.9905593146032542 and parameters: {'w_catboost': 0.9777789107678336, 'w_xgboost': 0.19548125257708127, 'w_lgbm': 0.2832550785694796}. Best is trial 17 with value: 0.9905593146032542.\n",
      "[I 2024-04-18 20:13:26,935] Trial 18 finished with value: 0.9905597172125786 and parameters: {'w_catboost': 0.9960967164972186, 'w_xgboost': 0.17098576741946225, 'w_lgbm': 0.2700036043401069}. Best is trial 18 with value: 0.9905597172125786.\n",
      "[I 2024-04-18 20:13:26,977] Trial 19 finished with value: 0.9905556911193341 and parameters: {'w_catboost': 0.587621212872776, 'w_xgboost': 0.18648022581896406, 'w_lgbm': 0.1959442728548999}. Best is trial 18 with value: 0.9905597172125786.\n",
      "[I 2024-04-18 20:13:27,021] Trial 20 finished with value: 0.9904839260072505 and parameters: {'w_catboost': 0.7486841834881895, 'w_xgboost': 0.5204338710364864, 'w_lgbm': 0.4220395559191795}. Best is trial 18 with value: 0.9905597172125786.\n",
      "[I 2024-04-18 20:13:27,054] Trial 21 finished with value: 0.9905608914897749 and parameters: {'w_catboost': 0.9993819763100776, 'w_xgboost': 0.1690179987544674, 'w_lgbm': 0.27819425898440575}. Best is trial 21 with value: 0.9905608914897749.\n",
      "[I 2024-04-18 20:13:27,084] Trial 22 finished with value: 0.9905597507633557 and parameters: {'w_catboost': 0.9202646127336376, 'w_xgboost': 0.15058510843212086, 'w_lgbm': 0.2501851555120261}. Best is trial 21 with value: 0.9905608914897749.\n",
      "[I 2024-04-18 20:13:27,118] Trial 23 finished with value: 0.990541264285208 and parameters: {'w_catboost': 0.8968087426130101, 'w_xgboost': 0.12884636956683188, 'w_lgbm': 0.18352134632918743}. Best is trial 21 with value: 0.9905608914897749.\n",
      "[I 2024-04-18 20:13:27,153] Trial 24 finished with value: 0.990237629753017 and parameters: {'w_catboost': 0.9002900987544211, 'w_xgboost': 0.005539536365279013, 'w_lgbm': 0.008368239064685645}. Best is trial 21 with value: 0.9905608914897749.\n",
      "[I 2024-04-18 20:13:27,189] Trial 25 finished with value: 0.9905206641081068 and parameters: {'w_catboost': 0.773509786596262, 'w_xgboost': 0.4112691159726316, 'w_lgbm': 0.2216222376854747}. Best is trial 21 with value: 0.9905608914897749.\n",
      "[I 2024-04-18 20:13:27,225] Trial 26 finished with value: 0.990509357496245 and parameters: {'w_catboost': 0.9115652188070282, 'w_xgboost': 0.3350513663302094, 'w_lgbm': 0.10343868878988244}. Best is trial 21 with value: 0.9905608914897749.\n",
      "[I 2024-04-18 20:13:27,258] Trial 27 finished with value: 0.9905675009928513 and parameters: {'w_catboost': 0.8529071816874451, 'w_xgboost': 0.10239694437454605, 'w_lgbm': 0.3911952870877694}. Best is trial 27 with value: 0.9905675009928513.\n",
      "[I 2024-04-18 20:13:27,292] Trial 28 finished with value: 0.9905520340846371 and parameters: {'w_catboost': 0.656664925084225, 'w_xgboost': 0.11284781900990279, 'w_lgbm': 0.40213358700668256}. Best is trial 27 with value: 0.9905675009928513.\n",
      "[I 2024-04-18 20:13:27,326] Trial 29 finished with value: 0.9903900173823222 and parameters: {'w_catboost': 0.5055716989404078, 'w_xgboost': 0.4612004381531721, 'w_lgbm': 0.5683649097174053}. Best is trial 27 with value: 0.9905675009928513.\n",
      "[I 2024-04-18 20:13:27,360] Trial 30 finished with value: 0.9905612269975455 and parameters: {'w_catboost': 0.8485581423436916, 'w_xgboost': 0.21664748246260812, 'w_lgbm': 0.34498967381541334}. Best is trial 27 with value: 0.9905675009928513.\n",
      "[I 2024-04-18 20:13:27,394] Trial 31 finished with value: 0.9905675009928514 and parameters: {'w_catboost': 0.8474495710074877, 'w_xgboost': 0.1061884618779045, 'w_lgbm': 0.32741276980950457}. Best is trial 31 with value: 0.9905675009928514.\n",
      "[I 2024-04-18 20:13:27,427] Trial 32 finished with value: 0.9905663938172091 and parameters: {'w_catboost': 0.8232184582710479, 'w_xgboost': 0.0860889918971589, 'w_lgbm': 0.3626659627225607}. Best is trial 31 with value: 0.9905675009928514.\n",
      "[I 2024-04-18 20:13:27,457] Trial 33 finished with value: 0.990551061112103 and parameters: {'w_catboost': 0.6078525113529798, 'w_xgboost': 0.06453683594373166, 'w_lgbm': 0.3632565196744654}. Best is trial 31 with value: 0.9905675009928514.\n",
      "[I 2024-04-18 20:13:27,489] Trial 34 finished with value: 0.9905539800297051 and parameters: {'w_catboost': 0.8195449556851493, 'w_xgboost': 0.22440552826376625, 'w_lgbm': 0.4444154573694004}. Best is trial 31 with value: 0.9905675009928514.\n",
      "[I 2024-04-18 20:13:27,525] Trial 35 finished with value: 0.9905597172125787 and parameters: {'w_catboost': 0.7147324687099937, 'w_xgboost': 0.0020289819263632908, 'w_lgbm': 0.37700524303240784}. Best is trial 31 with value: 0.9905675009928514.\n",
      "[I 2024-04-18 20:13:27,559] Trial 36 finished with value: 0.9904884553621505 and parameters: {'w_catboost': 0.5122616999676404, 'w_xgboost': 0.1013060579051187, 'w_lgbm': 0.4960451398203057}. Best is trial 31 with value: 0.9905675009928514.\n",
      "[I 2024-04-18 20:13:27,593] Trial 37 finished with value: 0.9904911058735366 and parameters: {'w_catboost': 0.8487108057979466, 'w_xgboost': 0.5912095339025628, 'w_lgbm': 0.3218400609291247}. Best is trial 31 with value: 0.9905675009928514.\n",
      "[I 2024-04-18 20:13:27,629] Trial 38 finished with value: 0.9905161347532068 and parameters: {'w_catboost': 0.8018472522680063, 'w_xgboost': 0.31863879668589074, 'w_lgbm': 0.11328723888226483}. Best is trial 31 with value: 0.9905675009928514.\n",
      "[I 2024-04-18 20:13:27,666] Trial 39 finished with value: 0.990524421795135 and parameters: {'w_catboost': 0.6606408583732826, 'w_xgboost': 0.22061914182008727, 'w_lgbm': 0.4662736517837913}. Best is trial 31 with value: 0.9905675009928514.\n",
      "[I 2024-04-18 20:13:27,700] Trial 40 finished with value: 0.9905393518909168 and parameters: {'w_catboost': 0.8611083556653674, 'w_xgboost': 0.07935617793220702, 'w_lgbm': 0.597193717019605}. Best is trial 31 with value: 0.9905675009928514.\n",
      "[I 2024-04-18 20:13:27,734] Trial 41 finished with value: 0.9905691114301491 and parameters: {'w_catboost': 0.933331171391163, 'w_xgboost': 0.15495385577577225, 'w_lgbm': 0.3454858425854938}. Best is trial 41 with value: 0.9905691114301491.\n",
      "[I 2024-04-18 20:13:27,767] Trial 42 finished with value: 0.9905656221493373 and parameters: {'w_catboost': 0.924144601980941, 'w_xgboost': 0.11397399209955925, 'w_lgbm': 0.3711896329216273}. Best is trial 41 with value: 0.9905691114301491.\n",
      "[I 2024-04-18 20:13:27,801] Trial 43 finished with value: 0.9905674338912972 and parameters: {'w_catboost': 0.9451295795984624, 'w_xgboost': 0.131531227815342, 'w_lgbm': 0.39625079683661496}. Best is trial 41 with value: 0.9905691114301491.\n",
      "[I 2024-04-18 20:13:27,835] Trial 44 finished with value: 0.99041575082831 and parameters: {'w_catboost': 0.7758832398225962, 'w_xgboost': 0.7787636746886941, 'w_lgbm': 0.5354914860131792}. Best is trial 41 with value: 0.9905691114301491.\n",
      "[I 2024-04-18 20:13:27,871] Trial 45 finished with value: 0.990339154404333 and parameters: {'w_catboost': 0.27784932941618257, 'w_xgboost': 0.12881953280831498, 'w_lgbm': 0.4778450037752787}. Best is trial 41 with value: 0.9905691114301491.\n",
      "[I 2024-04-18 20:13:27,904] Trial 46 finished with value: 0.9905610592436601 and parameters: {'w_catboost': 0.9404236083762972, 'w_xgboost': 0.07363473836767581, 'w_lgbm': 0.308837419474724}. Best is trial 41 with value: 0.9905691114301491.\n",
      "[I 2024-04-18 20:13:27,938] Trial 47 finished with value: 0.9905030835009391 and parameters: {'w_catboost': 0.4342289367273883, 'w_xgboost': 0.03237627015321802, 'w_lgbm': 0.39963635926767704}. Best is trial 41 with value: 0.9905691114301491.\n",
      "[I 2024-04-18 20:13:27,976] Trial 48 finished with value: 0.9897526532709374 and parameters: {'w_catboost': 0.03232486049087502, 'w_xgboost': 0.7165077328940643, 'w_lgbm': 0.2368650252342376}. Best is trial 41 with value: 0.9905691114301491.\n",
      "[I 2024-04-18 20:13:28,024] Trial 49 finished with value: 0.9904365523100733 and parameters: {'w_catboost': 0.9512007458811048, 'w_xgboost': 0.917297464286044, 'w_lgbm': 0.4498482180406541}. Best is trial 41 with value: 0.9905691114301491.\n",
      "[I 2024-04-18 20:13:28,057] Trial 50 finished with value: 0.990524421795135 and parameters: {'w_catboost': 0.7645933315449679, 'w_xgboost': 0.30956320109918434, 'w_lgbm': 0.13717602130740802}. Best is trial 41 with value: 0.9905691114301491.\n",
      "[I 2024-04-18 20:13:28,091] Trial 51 finished with value: 0.9905669977311957 and parameters: {'w_catboost': 0.8760738123211644, 'w_xgboost': 0.14028322593732917, 'w_lgbm': 0.3574699387478784}. Best is trial 41 with value: 0.9905691114301491.\n",
      "[I 2024-04-18 20:13:28,124] Trial 52 finished with value: 0.9905668970788647 and parameters: {'w_catboost': 0.8810050561107038, 'w_xgboost': 0.15005216818759695, 'w_lgbm': 0.35224303728204204}. Best is trial 41 with value: 0.9905691114301491.\n",
      "[I 2024-04-18 20:13:28,165] Trial 53 finished with value: 0.9905591468493689 and parameters: {'w_catboost': 0.8584487697714994, 'w_xgboost': 0.2474513173243072, 'w_lgbm': 0.3128397832561499}. Best is trial 41 with value: 0.9905691114301491.\n",
      "[I 2024-04-18 20:13:28,212] Trial 54 finished with value: 0.9905658234539994 and parameters: {'w_catboost': 0.8836839977293933, 'w_xgboost': 0.15395011484343085, 'w_lgbm': 0.4063875785702514}. Best is trial 41 with value: 0.9905691114301491.\n",
      "[I 2024-04-18 20:13:28,251] Trial 55 finished with value: 0.9905439147965939 and parameters: {'w_catboost': 0.9530886971619215, 'w_xgboost': 0.36940674248731953, 'w_lgbm': 0.3349922592200243}. Best is trial 41 with value: 0.9905691114301491.\n",
      "[I 2024-04-18 20:13:28,291] Trial 56 finished with value: 0.9905572344550777 and parameters: {'w_catboost': 0.6977754624737229, 'w_xgboost': 0.20633225060176424, 'w_lgbm': 0.29355319709033273}. Best is trial 41 with value: 0.9905691114301491.\n",
      "[I 2024-04-18 20:13:28,334] Trial 57 finished with value: 0.9905478402375073 and parameters: {'w_catboost': 0.8759762437518797, 'w_xgboost': 0.03823664077941609, 'w_lgbm': 0.532370498043066}. Best is trial 41 with value: 0.9905691114301491.\n",
      "[I 2024-04-18 20:13:28,371] Trial 58 finished with value: 0.9905406939219983 and parameters: {'w_catboost': 0.7953146860658753, 'w_xgboost': 0.2909428899240069, 'w_lgbm': 0.4144210159162244}. Best is trial 41 with value: 0.9905691114301491.\n",
      "[I 2024-04-18 20:13:28,409] Trial 59 finished with value: 0.9905608243882207 and parameters: {'w_catboost': 0.9596809496444183, 'w_xgboost': 0.15283141095230962, 'w_lgbm': 0.26431654158162626}. Best is trial 41 with value: 0.9905691114301491.\n",
      "[I 2024-04-18 20:13:28,446] Trial 60 finished with value: 0.9905470014680813 and parameters: {'w_catboost': 0.9274893265374612, 'w_xgboost': 0.18685288447672183, 'w_lgbm': 0.20456882703854246}. Best is trial 41 with value: 0.9905691114301491.\n",
      "[I 2024-04-18 20:13:28,483] Trial 61 finished with value: 0.9905669977311958 and parameters: {'w_catboost': 0.8234866800905267, 'w_xgboost': 0.08320354558942579, 'w_lgbm': 0.3697030247347504}. Best is trial 41 with value: 0.9905691114301491.\n",
      "[I 2024-04-18 20:13:28,518] Trial 62 finished with value: 0.9905669977311958 and parameters: {'w_catboost': 0.8889418895486526, 'w_xgboost': 0.05408514292681345, 'w_lgbm': 0.3819672968555185}. Best is trial 41 with value: 0.9905691114301491.\n",
      "[I 2024-04-18 20:13:28,553] Trial 63 finished with value: 0.9905413313867619 and parameters: {'w_catboost': 0.7280097787182994, 'w_xgboost': 0.049735979292277264, 'w_lgbm': 0.4967690541940211}. Best is trial 41 with value: 0.9905691114301491.\n",
      "[I 2024-04-18 20:13:28,587] Trial 64 finished with value: 0.9905580396737268 and parameters: {'w_catboost': 0.9728990864570356, 'w_xgboost': 0.004102801216744362, 'w_lgbm': 0.4225128200557282}. Best is trial 41 with value: 0.9905691114301491.\n",
      "[I 2024-04-18 20:13:28,620] Trial 65 finished with value: 0.9905652530907899 and parameters: {'w_catboost': 0.8261577279254617, 'w_xgboost': 0.1056421843170097, 'w_lgbm': 0.3860575555308535}. Best is trial 41 with value: 0.9905691114301491.\n",
      "[I 2024-04-18 20:13:28,654] Trial 66 finished with value: 0.9905087871330354 and parameters: {'w_catboost': 0.9025732222772285, 'w_xgboost': 0.0709760395224685, 'w_lgbm': 0.15828510347602315}. Best is trial 41 with value: 0.9905691114301491.\n",
      "[I 2024-04-18 20:13:28,687] Trial 67 finished with value: 0.9905634748996068 and parameters: {'w_catboost': 0.9899847080989514, 'w_xgboost': 0.2473471066934107, 'w_lgbm': 0.43827454158893947}. Best is trial 41 with value: 0.9905691114301491.\n",
      "[I 2024-04-18 20:13:28,719] Trial 68 finished with value: 0.9905668635280875 and parameters: {'w_catboost': 0.7868996050687258, 'w_xgboost': 0.1432798113813331, 'w_lgbm': 0.24818461319966711}. Best is trial 41 with value: 0.9905691114301491.\n",
      "[I 2024-04-18 20:13:28,753] Trial 69 finished with value: 0.9904067592200639 and parameters: {'w_catboost': 0.8186980851815218, 'w_xgboost': 0.036233780875042226, 'w_lgbm': 0.060251491697067894}. Best is trial 41 with value: 0.9905691114301491.\n",
      "[I 2024-04-18 20:13:28,786] Trial 70 finished with value: 0.9905655214970062 and parameters: {'w_catboost': 0.9112999546752916, 'w_xgboost': 0.1783438615014638, 'w_lgbm': 0.2844320360143968}. Best is trial 41 with value: 0.9905691114301491.\n",
      "[I 2024-04-18 20:13:28,822] Trial 71 finished with value: 0.9905665280203172 and parameters: {'w_catboost': 0.8776261342753758, 'w_xgboost': 0.1296087481694978, 'w_lgbm': 0.3548009044842667}. Best is trial 41 with value: 0.9905691114301491.\n",
      "[I 2024-04-18 20:13:28,856] Trial 72 finished with value: 0.9905656892508914 and parameters: {'w_catboost': 0.841087916655624, 'w_xgboost': 0.09200739426353907, 'w_lgbm': 0.3314949699370183}. Best is trial 41 with value: 0.9905691114301491.\n",
      "[I 2024-04-18 20:13:28,889] Trial 73 finished with value: 0.9905640117120394 and parameters: {'w_catboost': 0.8820473371619204, 'w_xgboost': 0.16267472479307565, 'w_lgbm': 0.38133998446344297}. Best is trial 41 with value: 0.9905691114301491.\n",
      "[I 2024-04-18 20:13:28,923] Trial 74 finished with value: 0.9905624348255186 and parameters: {'w_catboost': 0.9388111843046177, 'w_xgboost': 0.06353266351884004, 'w_lgbm': 0.4672372289293172}. Best is trial 41 with value: 0.9905691114301491.\n",
      "[I 2024-04-18 20:13:28,957] Trial 75 finished with value: 0.990567232586635 and parameters: {'w_catboost': 0.7420489739704117, 'w_xgboost': 0.11765309159206222, 'w_lgbm': 0.34010080149227817}. Best is trial 41 with value: 0.9905691114301491.\n",
      "[I 2024-04-18 20:13:28,993] Trial 76 finished with value: 0.9905665280203173 and parameters: {'w_catboost': 0.7497566906361358, 'w_xgboost': 0.11224628946724591, 'w_lgbm': 0.3021125076040153}. Best is trial 41 with value: 0.9905691114301491.\n",
      "[I 2024-04-18 20:13:29,026] Trial 77 finished with value: 0.9905577712675104 and parameters: {'w_catboost': 0.6209321968166339, 'w_xgboost': 0.022545131598622273, 'w_lgbm': 0.21660967494509298}. Best is trial 41 with value: 0.9905691114301491.\n",
      "[I 2024-04-18 20:13:29,059] Trial 78 finished with value: 0.9904332978847007 and parameters: {'w_catboost': 0.802726716079489, 'w_xgboost': 0.4397872336874602, 'w_lgbm': 0.9019910727536912}. Best is trial 41 with value: 0.9905691114301491.\n",
      "[I 2024-04-18 20:13:29,093] Trial 79 finished with value: 0.9905088542345895 and parameters: {'w_catboost': 0.6776547949089475, 'w_xgboost': 0.19465090162672666, 'w_lgbm': 0.5714713834966251}. Best is trial 41 with value: 0.9905691114301491.\n",
      "[I 2024-04-18 20:13:29,125] Trial 80 finished with value: 0.9905222745454046 and parameters: {'w_catboost': 0.5535221181817616, 'w_xgboost': 0.0870840577700878, 'w_lgbm': 0.43841170014593195}. Best is trial 41 with value: 0.9905691114301491.\n",
      "[I 2024-04-18 20:13:29,161] Trial 81 finished with value: 0.9905674338912972 and parameters: {'w_catboost': 0.8660645972080669, 'w_xgboost': 0.13427023873666857, 'w_lgbm': 0.3401689260959215}. Best is trial 41 with value: 0.9905691114301491.\n",
      "[I 2024-04-18 20:13:29,199] Trial 82 finished with value: 0.9905683733130544 and parameters: {'w_catboost': 0.8411077712760164, 'w_xgboost': 0.13411792468576605, 'w_lgbm': 0.32599205407270837}. Best is trial 41 with value: 0.9905691114301491.\n",
      "[I 2024-04-18 20:13:29,233] Trial 83 finished with value: 0.9905673332389662 and parameters: {'w_catboost': 0.8493893018101508, 'w_xgboost': 0.11297136505432996, 'w_lgbm': 0.3367062401635786}. Best is trial 41 with value: 0.9905691114301491.\n",
      "[I 2024-04-18 20:13:29,266] Trial 84 finished with value: 0.990558308079943 and parameters: {'w_catboost': 0.7583824336619062, 'w_xgboost': 0.23121080448768386, 'w_lgbm': 0.26288865749393764}. Best is trial 41 with value: 0.9905691114301491.\n",
      "[I 2024-04-18 20:13:29,302] Trial 85 finished with value: 0.9905676016451825 and parameters: {'w_catboost': 0.8457629661285134, 'w_xgboost': 0.12413350330081195, 'w_lgbm': 0.3249892698828167}. Best is trial 41 with value: 0.9905691114301491.\n",
      "[I 2024-04-18 20:13:29,336] Trial 86 finished with value: 0.9905683397622772 and parameters: {'w_catboost': 0.8463480495567375, 'w_xgboost': 0.12510039058566316, 'w_lgbm': 0.32719397718051907}. Best is trial 41 with value: 0.9905691114301491.\n",
      "[I 2024-04-18 20:13:29,373] Trial 87 finished with value: 0.9905677358482906 and parameters: {'w_catboost': 0.8503068542095379, 'w_xgboost': 0.16706893302637402, 'w_lgbm': 0.3169549771233677}. Best is trial 41 with value: 0.9905691114301491.\n",
      "[I 2024-04-18 20:13:29,410] Trial 88 finished with value: 0.9905554562638949 and parameters: {'w_catboost': 0.9199218103072464, 'w_xgboost': 0.18148794050386172, 'w_lgbm': 0.23689340099445735}. Best is trial 41 with value: 0.9905691114301491.\n",
      "[I 2024-04-18 20:13:29,445] Trial 89 finished with value: 0.9905575028612942 and parameters: {'w_catboost': 0.9729900805768377, 'w_xgboost': 0.25657872000310317, 'w_lgbm': 0.308001853765048}. Best is trial 41 with value: 0.9905691114301491.\n",
      "[I 2024-04-18 20:13:29,479] Trial 90 finished with value: 0.9905614283022075 and parameters: {'w_catboost': 0.791560603074472, 'w_xgboost': 0.20390482971525778, 'w_lgbm': 0.2756765843613897}. Best is trial 41 with value: 0.9905691114301491.\n",
      "[I 2024-04-18 20:13:29,513] Trial 91 finished with value: 0.9905686752700477 and parameters: {'w_catboost': 0.8502093275705203, 'w_xgboost': 0.1277739851947203, 'w_lgbm': 0.3279483939906774}. Best is trial 41 with value: 0.9905691114301491.\n",
      "[I 2024-04-18 20:13:29,548] Trial 92 finished with value: 0.9905672661374121 and parameters: {'w_catboost': 0.8646283914296047, 'w_xgboost': 0.16638152926940813, 'w_lgbm': 0.29717040883417056}. Best is trial 41 with value: 0.9905691114301491.\n",
      "[I 2024-04-18 20:13:29,582] Trial 93 finished with value: 0.9905676016451825 and parameters: {'w_catboost': 0.8387053258543635, 'w_xgboost': 0.1378142276647416, 'w_lgbm': 0.3259770972877064}. Best is trial 41 with value: 0.9905691114301491.\n",
      "[I 2024-04-18 20:13:29,663] Trial 94 finished with value: 0.9905560601778816 and parameters: {'w_catboost': 0.826662566912558, 'w_xgboost': 0.23005403297096627, 'w_lgbm': 0.398932004171436}. Best is trial 41 with value: 0.9905691114301491.\n",
      "[I 2024-04-18 20:13:29,734] Trial 95 finished with value: 0.990569044328595 and parameters: {'w_catboost': 0.8389175241544693, 'w_xgboost': 0.13515661136503862, 'w_lgbm': 0.3186643814223985}. Best is trial 41 with value: 0.9905691114301491.\n",
      "[I 2024-04-18 20:13:29,780] Trial 96 finished with value: 0.9905631729426134 and parameters: {'w_catboost': 0.7770848200289056, 'w_xgboost': 0.17227994627664844, 'w_lgbm': 0.25245113031119387}. Best is trial 41 with value: 0.9905691114301491.\n",
      "[I 2024-04-18 20:13:29,822] Trial 97 finished with value: 0.990549350022474 and parameters: {'w_catboost': 0.8137573166157954, 'w_xgboost': 0.2878847130191044, 'w_lgbm': 0.3150916383229707}. Best is trial 41 with value: 0.9905691114301491.\n",
      "[I 2024-04-18 20:13:29,867] Trial 98 finished with value: 0.9905426734178435 and parameters: {'w_catboost': 0.8418808013144561, 'w_xgboost': 0.1014925496621937, 'w_lgbm': 0.18682941938747466}. Best is trial 41 with value: 0.9905691114301491.\n",
      "[I 2024-04-18 20:13:29,907] Trial 99 finished with value: 0.990459333287682 and parameters: {'w_catboost': 0.7215063121893651, 'w_xgboost': 0.6228871927674976, 'w_lgbm': 0.2770632405987025}. Best is trial 41 with value: 0.9905691114301491.\n"
     ]
    },
    {
     "name": "stdout",
     "output_type": "stream",
     "text": [
      "Best Weights: [0.65096257 0.10807435 0.24096308]\n",
      "Best Ensemble ROC AUC Score: 0.9905691114301491\n"
     ]
    }
   ],
   "source": [
    "import optuna\n",
    "import numpy as np\n",
    "from sklearn.metrics import roc_auc_score\n",
    "\n",
    "# Funzione obiettivo per ottimizzare i pesi degli ensemble\n",
    "def objective(trial):\n",
    "    # Genera i pesi per ciascun modello come variabili di decisione di Optuna\n",
    "    w_catboost = trial.suggest_float(\"w_catboost\", 0.0, 1.0)\n",
    "    w_xgboost = trial.suggest_float(\"w_xgboost\", 0.0, 1.0)\n",
    "    w_lgbm = trial.suggest_float(\"w_lgbm\", 0.0, 1.0)\n",
    "    \n",
    "    # Normalizza i pesi in modo che la somma sia uguale a 1\n",
    "    weights = [w_catboost, w_xgboost, w_lgbm]\n",
    "    weights /= np.sum(weights)\n",
    "    \n",
    "    # Combina le predizioni pesate dei tre modelli\n",
    "    ensemble_predictions = (weights[0] * catboost_predictions) + (weights[1] * xgb_predictions) + (weights[2] * lgbm_predictions)\n",
    "    \n",
    "    # Calcola l'ROC AUC score dell'ensemble\n",
    "    ensemble_roc_auc = roc_auc_score(y_test, ensemble_predictions)\n",
    "    \n",
    "    return ensemble_roc_auc\n",
    "\n",
    "# Crea lo studio Optuna per ottimizzare i pesi\n",
    "study = optuna.create_study(direction=\"maximize\")\n",
    "study.optimize(objective, n_trials=100)\n",
    "\n",
    "# Ottieni i pesi ottimizzati dallo studio Optuna\n",
    "best_w_catboost = study.best_params[\"w_catboost\"]\n",
    "best_w_xgboost = study.best_params[\"w_xgboost\"]\n",
    "best_w_lgbm = study.best_params[\"w_lgbm\"]\n",
    "\n",
    "# Normalizza i pesi in modo che la somma sia uguale a 1\n",
    "best_weights = [best_w_catboost, best_w_xgboost, best_w_lgbm]\n",
    "best_weights /= np.sum(best_weights)\n",
    "\n",
    "# Combina le predizioni pesate dei tre modelli utilizzando i pesi ottimizzati\n",
    "best_ensemble_predictions = (best_weights[0] * catboost_predictions) + (best_weights[1] * xgb_predictions) + (best_weights[2] * lgbm_predictions)\n",
    "\n",
    "# Calcola l'ROC AUC score dell'ensemble utilizzando i pesi ottimizzati\n",
    "best_ensemble_roc_auc = roc_auc_score(y_test, best_ensemble_predictions)\n",
    "\n",
    "print(\"Best Weights:\", best_weights)\n",
    "print(\"Best Ensemble ROC AUC Score:\", best_ensemble_roc_auc)\n",
    "\n"
   ]
  },
  {
   "cell_type": "code",
   "execution_count": 176,
   "metadata": {},
   "outputs": [
    {
     "name": "stdout",
     "output_type": "stream",
     "text": [
      "       y_test  y_pred_proba\n",
      "5922        1      0.998268\n",
      "4377        1      0.997656\n",
      "17391       1      0.997365\n",
      "6855        1      0.996716\n",
      "17653       1      0.996365\n",
      "...       ...           ...\n",
      "25203       0      0.000832\n",
      "36160       0      0.000832\n",
      "41769       0      0.000832\n",
      "48474       0      0.000831\n",
      "71514       0      0.000831\n",
      "\n",
      "[10000 rows x 2 columns]\n"
     ]
    }
   ],
   "source": [
    "X_train, X_test, y_train, y_test = train_test_split(X, y, test_size=0.2, random_state=31, stratify=y)\n",
    "X_train.reset_index(drop=True, inplace=True)  # Reset index here\n",
    "X_train = pd.get_dummies(X_train)\n",
    "X_test = pd.get_dummies(X_test)\n",
    "X_train = clean_feature_names(X_train)\n",
    "X_test = clean_feature_names(X_test)\n",
    "X_train, X_test = X_train.align(X_test, join='inner', axis=1)\n",
    "\n",
    "lightgbm_pred = best_lgb_classifier.predict_proba(X_test)[:, 1] \n",
    "results_df = pd.DataFrame({\n",
    "    'y_test': y_test,\n",
    "    'y_pred_proba': lightgbm_pred\n",
    "\n",
    "})\n",
    "\n",
    "# Filtra per selezionare solo le istanze dove y_test è 1 (effettivamente etichettate come \"SI\")\n",
    "results_df_si = results_df\n",
    "\n",
    "# Ordina il DataFrame filtrato per 'y_pred_proba' in modo decrescente\n",
    "results_df_si_sorted = results_df_si.sort_values(by='y_pred_proba', ascending=False)\n",
    "\n",
    "# Seleziona i top 10,000 esempi\n",
    "top_10000_si = results_df_si_sorted.head(10000)\n",
    "\n",
    "# Mostra i risultati\n",
    "print(top_10000_si)"
   ]
  },
  {
   "cell_type": "code",
   "execution_count": 177,
   "metadata": {},
   "outputs": [
    {
     "name": "stdout",
     "output_type": "stream",
     "text": [
      "Numero di 'SI' nel subset di dati: 396\n"
     ]
    }
   ],
   "source": [
    "count_si = top_10000_si[top_10000_si['y_test'] == 1].shape[0]\n",
    "\n",
    "print(\"Numero di 'SI' nel subset di dati:\", count_si)"
   ]
  },
  {
   "cell_type": "code",
   "execution_count": 140,
   "metadata": {},
   "outputs": [
    {
     "name": "stdout",
     "output_type": "stream",
     "text": [
      "Numero di volte che y_test è uguale a 1: 397\n"
     ]
    }
   ],
   "source": [
    "\n",
    "count_ones = np.sum(y_test == 1)\n",
    "\n",
    "print(\"Numero di volte che y_test è uguale a 1:\", count_ones)\n"
   ]
  },
  {
   "cell_type": "code",
   "execution_count": 138,
   "metadata": {},
   "outputs": [
    {
     "data": {
      "image/png": "[encoded data removed]",
      "text/plain": [
       "<Figure size 1000x600 with 1 Axes>"
      ]
     },
     "metadata": {},
     "output_type": "display_data"
    }
   ],
   "source": [
    "plt.figure(figsize=(10, 6))\n",
    "plt.hist( top_10000_si[top_10000_si['y_test'] == 1]['y_pred_proba'], bins=30, color='skyblue', edgecolor='black')\n",
    "plt.title('Distribuzione delle Probabilità Predette per la Classe \"SI\"')\n",
    "plt.xlabel('Probabilità Predetta di Appartenere alla Classe \"SI\"')\n",
    "plt.ylabel('Frequenza')\n",
    "plt.grid(True)\n",
    "plt.show()"
   ]
  },
  {
   "cell_type": "code",
   "execution_count": 139,
   "metadata": {},
   "outputs": [
    {
     "data": {
      "image/png": "[encoded data removed]",
      "text/plain": [
       "<Figure size 800x600 with 1 Axes>"
      ]
     },
     "metadata": {},
     "output_type": "display_data"
    }
   ],
   "source": [
    "plt.figure(figsize=(8, 6))\n",
    "plt.boxplot( top_10000_si[top_10000_si['y_test'] == 1]['y_pred_proba'],vert=False, patch_artist=True)\n",
    "plt.title('Boxplot delle Probabilità Predette per la Classe \"SI\"')\n",
    "plt.xlabel('Probabilità Predetta di Appartenere alla Classe \"SI\"')\n",
    "plt.grid(True)\n",
    "plt.show()"
   ]
  }
 ],
 "metadata": {
  "kernelspec": {
   "display_name": ".venv",
   "language": "python",
   "name": "python3"
  },
  "language_info": {
   "codemirror_mode": {
    "name": "ipython",
    "version": 3
   },
   "file_extension": ".py",
   "mimetype": "text/x-python",
   "name": "python",
   "nbconvert_exporter": "python",
   "pygments_lexer": "ipython3",
   "version": "3.12.2"
  }
 },
 "nbformat": 4,
 "nbformat_minor": 2
}
